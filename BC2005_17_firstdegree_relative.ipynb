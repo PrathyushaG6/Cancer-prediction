{
 "cells": [
  {
   "cell_type": "code",
   "execution_count": 1,
   "metadata": {},
   "outputs": [],
   "source": [
    "Dataset:2005-2017\n",
    "Number of Datapoints:1048575\n",
    "Output feature: first_degree_hx"
   ]
  },
  {
   "cell_type": "code",
   "execution_count": 34,
   "metadata": {},
   "outputs": [],
   "source": [
    "#importing the libraries\n",
    "import pandas as pd\n",
    "import matplotlib as plt\n",
    "import numpy as np\n",
    "import random\n",
    "import warnings"
   ]
  },
  {
   "cell_type": "code",
   "execution_count": 4,
   "metadata": {},
   "outputs": [],
   "source": [
    "import os\n",
    "import glob\n",
    "import pandas as pd\n",
    "os.chdir(r\"C:\\Users\\krish\\anaconda3\\csv\")"
   ]
  },
  {
   "cell_type": "code",
   "execution_count": 8,
   "metadata": {},
   "outputs": [],
   "source": [
    "extension = 'csv'\n",
    "all_filenames = [i for i in glob.glob('*.{}'.format(extension))]"
   ]
  },
  {
   "cell_type": "code",
   "execution_count": 9,
   "metadata": {},
   "outputs": [],
   "source": [
    "#combine all files in the list\n",
    "combined_csv = pd.concat([pd.read_csv(f) for f in all_filenames ])\n",
    "#export to csv\n",
    "combined_csv.to_csv( \"combined_csv.csv\", index=False, encoding='utf-8-sig')"
   ]
  },
  {
   "cell_type": "code",
   "execution_count": 35,
   "metadata": {},
   "outputs": [
    {
     "name": "stdout",
     "output_type": "stream",
     "text": [
      "         year  race_eth  age_menarche  age_first_birth  current_hrt  menopaus  \\\n",
      "0        2005         1             0                0            0         1   \n",
      "1        2005         1             0                0            0         1   \n",
      "2        2005         1             0                0            0         1   \n",
      "3        2005         1             0                0            0         1   \n",
      "4        2005         1             0                1            0         1   \n",
      "...       ...       ...           ...              ...          ...       ...   \n",
      "1048570  2013         2             1                3            0         2   \n",
      "1048571  2013         2             1                3            0         2   \n",
      "1048572  2013         2             1                3            0         2   \n",
      "1048573  2013         2             1                3            0         2   \n",
      "1048574  2013         2             1                3            0         2   \n",
      "\n",
      "         bmi_group  biophx  count  BIRADS_breast_density  \\\n",
      "0                9       0      2                      2   \n",
      "1                1       0      1                      4   \n",
      "2                2       0      1                      4   \n",
      "3                9       0      2                      4   \n",
      "4                4       0      1                      4   \n",
      "...            ...     ...    ...                    ...   \n",
      "1048570          4       1      1                      1   \n",
      "1048571          1       0      6                      2   \n",
      "1048572          1       1      4                      2   \n",
      "1048573          2       0      8                      2   \n",
      "1048574          2       1      3                      2   \n",
      "\n",
      "         breast_cancer_history  age  first_degree_hx  \n",
      "0                            0    1                0  \n",
      "1                            0    1                0  \n",
      "2                            0    1                0  \n",
      "3                            0    1                0  \n",
      "4                            0    1                0  \n",
      "...                        ...  ...              ...  \n",
      "1048570                      1    9                0  \n",
      "1048571                      0    9                0  \n",
      "1048572                      0    9                0  \n",
      "1048573                      0    9                0  \n",
      "1048574                      0    9                0  \n",
      "\n",
      "[1048575 rows x 13 columns]\n"
     ]
    }
   ],
   "source": [
    "#importing the dataset\n",
    "data = pd.read_csv(r'C:\\Users\\krish\\anaconda3\\csv\\combined_csv.csv')\n",
    "#data.head()\n",
    "print(data)\n",
    "X = data.iloc[:, [0,11]]\n",
    "Y = data.iloc[:, 12]"
   ]
  },
  {
   "cell_type": "code",
   "execution_count": 36,
   "metadata": {},
   "outputs": [
    {
     "data": {
      "text/html": [
       "<div>\n",
       "<style scoped>\n",
       "    .dataframe tbody tr th:only-of-type {\n",
       "        vertical-align: middle;\n",
       "    }\n",
       "\n",
       "    .dataframe tbody tr th {\n",
       "        vertical-align: top;\n",
       "    }\n",
       "\n",
       "    .dataframe thead th {\n",
       "        text-align: right;\n",
       "    }\n",
       "</style>\n",
       "<table border=\"1\" class=\"dataframe\">\n",
       "  <thead>\n",
       "    <tr style=\"text-align: right;\">\n",
       "      <th></th>\n",
       "      <th>year</th>\n",
       "      <th>race_eth</th>\n",
       "      <th>age_menarche</th>\n",
       "      <th>age_first_birth</th>\n",
       "      <th>current_hrt</th>\n",
       "      <th>menopaus</th>\n",
       "      <th>bmi_group</th>\n",
       "      <th>biophx</th>\n",
       "      <th>count</th>\n",
       "      <th>BIRADS_breast_density</th>\n",
       "      <th>breast_cancer_history</th>\n",
       "      <th>age</th>\n",
       "      <th>first_degree_hx</th>\n",
       "    </tr>\n",
       "  </thead>\n",
       "  <tbody>\n",
       "    <tr>\n",
       "      <th>0</th>\n",
       "      <td>False</td>\n",
       "      <td>False</td>\n",
       "      <td>False</td>\n",
       "      <td>False</td>\n",
       "      <td>False</td>\n",
       "      <td>False</td>\n",
       "      <td>False</td>\n",
       "      <td>False</td>\n",
       "      <td>False</td>\n",
       "      <td>False</td>\n",
       "      <td>False</td>\n",
       "      <td>False</td>\n",
       "      <td>False</td>\n",
       "    </tr>\n",
       "    <tr>\n",
       "      <th>1</th>\n",
       "      <td>False</td>\n",
       "      <td>False</td>\n",
       "      <td>False</td>\n",
       "      <td>False</td>\n",
       "      <td>False</td>\n",
       "      <td>False</td>\n",
       "      <td>False</td>\n",
       "      <td>False</td>\n",
       "      <td>False</td>\n",
       "      <td>False</td>\n",
       "      <td>False</td>\n",
       "      <td>False</td>\n",
       "      <td>False</td>\n",
       "    </tr>\n",
       "    <tr>\n",
       "      <th>2</th>\n",
       "      <td>False</td>\n",
       "      <td>False</td>\n",
       "      <td>False</td>\n",
       "      <td>False</td>\n",
       "      <td>False</td>\n",
       "      <td>False</td>\n",
       "      <td>False</td>\n",
       "      <td>False</td>\n",
       "      <td>False</td>\n",
       "      <td>False</td>\n",
       "      <td>False</td>\n",
       "      <td>False</td>\n",
       "      <td>False</td>\n",
       "    </tr>\n",
       "    <tr>\n",
       "      <th>3</th>\n",
       "      <td>False</td>\n",
       "      <td>False</td>\n",
       "      <td>False</td>\n",
       "      <td>False</td>\n",
       "      <td>False</td>\n",
       "      <td>False</td>\n",
       "      <td>False</td>\n",
       "      <td>False</td>\n",
       "      <td>False</td>\n",
       "      <td>False</td>\n",
       "      <td>False</td>\n",
       "      <td>False</td>\n",
       "      <td>False</td>\n",
       "    </tr>\n",
       "    <tr>\n",
       "      <th>4</th>\n",
       "      <td>False</td>\n",
       "      <td>False</td>\n",
       "      <td>False</td>\n",
       "      <td>False</td>\n",
       "      <td>False</td>\n",
       "      <td>False</td>\n",
       "      <td>False</td>\n",
       "      <td>False</td>\n",
       "      <td>False</td>\n",
       "      <td>False</td>\n",
       "      <td>False</td>\n",
       "      <td>False</td>\n",
       "      <td>False</td>\n",
       "    </tr>\n",
       "    <tr>\n",
       "      <th>...</th>\n",
       "      <td>...</td>\n",
       "      <td>...</td>\n",
       "      <td>...</td>\n",
       "      <td>...</td>\n",
       "      <td>...</td>\n",
       "      <td>...</td>\n",
       "      <td>...</td>\n",
       "      <td>...</td>\n",
       "      <td>...</td>\n",
       "      <td>...</td>\n",
       "      <td>...</td>\n",
       "      <td>...</td>\n",
       "      <td>...</td>\n",
       "    </tr>\n",
       "    <tr>\n",
       "      <th>1048570</th>\n",
       "      <td>False</td>\n",
       "      <td>False</td>\n",
       "      <td>False</td>\n",
       "      <td>False</td>\n",
       "      <td>False</td>\n",
       "      <td>False</td>\n",
       "      <td>False</td>\n",
       "      <td>False</td>\n",
       "      <td>False</td>\n",
       "      <td>False</td>\n",
       "      <td>False</td>\n",
       "      <td>False</td>\n",
       "      <td>False</td>\n",
       "    </tr>\n",
       "    <tr>\n",
       "      <th>1048571</th>\n",
       "      <td>False</td>\n",
       "      <td>False</td>\n",
       "      <td>False</td>\n",
       "      <td>False</td>\n",
       "      <td>False</td>\n",
       "      <td>False</td>\n",
       "      <td>False</td>\n",
       "      <td>False</td>\n",
       "      <td>False</td>\n",
       "      <td>False</td>\n",
       "      <td>False</td>\n",
       "      <td>False</td>\n",
       "      <td>False</td>\n",
       "    </tr>\n",
       "    <tr>\n",
       "      <th>1048572</th>\n",
       "      <td>False</td>\n",
       "      <td>False</td>\n",
       "      <td>False</td>\n",
       "      <td>False</td>\n",
       "      <td>False</td>\n",
       "      <td>False</td>\n",
       "      <td>False</td>\n",
       "      <td>False</td>\n",
       "      <td>False</td>\n",
       "      <td>False</td>\n",
       "      <td>False</td>\n",
       "      <td>False</td>\n",
       "      <td>False</td>\n",
       "    </tr>\n",
       "    <tr>\n",
       "      <th>1048573</th>\n",
       "      <td>False</td>\n",
       "      <td>False</td>\n",
       "      <td>False</td>\n",
       "      <td>False</td>\n",
       "      <td>False</td>\n",
       "      <td>False</td>\n",
       "      <td>False</td>\n",
       "      <td>False</td>\n",
       "      <td>False</td>\n",
       "      <td>False</td>\n",
       "      <td>False</td>\n",
       "      <td>False</td>\n",
       "      <td>False</td>\n",
       "    </tr>\n",
       "    <tr>\n",
       "      <th>1048574</th>\n",
       "      <td>False</td>\n",
       "      <td>False</td>\n",
       "      <td>False</td>\n",
       "      <td>False</td>\n",
       "      <td>False</td>\n",
       "      <td>False</td>\n",
       "      <td>False</td>\n",
       "      <td>False</td>\n",
       "      <td>False</td>\n",
       "      <td>False</td>\n",
       "      <td>False</td>\n",
       "      <td>False</td>\n",
       "      <td>False</td>\n",
       "    </tr>\n",
       "  </tbody>\n",
       "</table>\n",
       "<p>1048575 rows × 13 columns</p>\n",
       "</div>"
      ],
      "text/plain": [
       "          year  race_eth  age_menarche  age_first_birth  current_hrt  \\\n",
       "0        False     False         False            False        False   \n",
       "1        False     False         False            False        False   \n",
       "2        False     False         False            False        False   \n",
       "3        False     False         False            False        False   \n",
       "4        False     False         False            False        False   \n",
       "...        ...       ...           ...              ...          ...   \n",
       "1048570  False     False         False            False        False   \n",
       "1048571  False     False         False            False        False   \n",
       "1048572  False     False         False            False        False   \n",
       "1048573  False     False         False            False        False   \n",
       "1048574  False     False         False            False        False   \n",
       "\n",
       "         menopaus  bmi_group  biophx  count  BIRADS_breast_density  \\\n",
       "0           False      False   False  False                  False   \n",
       "1           False      False   False  False                  False   \n",
       "2           False      False   False  False                  False   \n",
       "3           False      False   False  False                  False   \n",
       "4           False      False   False  False                  False   \n",
       "...           ...        ...     ...    ...                    ...   \n",
       "1048570     False      False   False  False                  False   \n",
       "1048571     False      False   False  False                  False   \n",
       "1048572     False      False   False  False                  False   \n",
       "1048573     False      False   False  False                  False   \n",
       "1048574     False      False   False  False                  False   \n",
       "\n",
       "         breast_cancer_history    age  first_degree_hx  \n",
       "0                        False  False            False  \n",
       "1                        False  False            False  \n",
       "2                        False  False            False  \n",
       "3                        False  False            False  \n",
       "4                        False  False            False  \n",
       "...                        ...    ...              ...  \n",
       "1048570                  False  False            False  \n",
       "1048571                  False  False            False  \n",
       "1048572                  False  False            False  \n",
       "1048573                  False  False            False  \n",
       "1048574                  False  False            False  \n",
       "\n",
       "[1048575 rows x 13 columns]"
      ]
     },
     "execution_count": 36,
     "metadata": {},
     "output_type": "execute_result"
    }
   ],
   "source": [
    "#find missing values,if any\n",
    "data.isnull()"
   ]
  },
  {
   "cell_type": "code",
   "execution_count": 4,
   "metadata": {},
   "outputs": [
    {
     "name": "stdout",
     "output_type": "stream",
     "text": [
      "year - 0%\n",
      "race_eth - 0%\n",
      "first_degree_hx - 0%\n",
      "age_menarche - 0%\n",
      "age_first_birth - 0%\n",
      "BIRADS_breast_density - 0%\n",
      "current_hrt - 0%\n",
      "menopaus - 0%\n",
      "bmi_group - 0%\n",
      "biophx - 0%\n",
      "count - 0%\n",
      "breast_cancer_history - 0%\n",
      "age - 0%\n"
     ]
    }
   ],
   "source": [
    "#Missing Data Percentage List\n",
    "for col in data.columns:\n",
    "    pct_missing = np.mean(data[col].isnull())\n",
    "    print('{} - {}%'.format(col, round(pct_missing*100)))"
   ]
  },
  {
   "cell_type": "code",
   "execution_count": 4,
   "metadata": {},
   "outputs": [
    {
     "name": "stdout",
     "output_type": "stream",
     "text": [
      "(1048575, 13)\n"
     ]
    }
   ],
   "source": [
    "#removing duplicate rows\n",
    "data1 = data.drop_duplicates()\n",
    "print(data1.shape)"
   ]
  },
  {
   "cell_type": "code",
   "execution_count": 5,
   "metadata": {},
   "outputs": [
    {
     "name": "stdout",
     "output_type": "stream",
     "text": [
      "         year  race_eth  first_degree_hx  age_menarche  age_first_birth  \\\n",
      "0        2005         1                0             0                0   \n",
      "1        2005         1                0             0                0   \n",
      "2        2005         1                0             0                0   \n",
      "3        2005         1                0             0                0   \n",
      "4        2005         1                0             0                1   \n",
      "...       ...       ...              ...           ...              ...   \n",
      "1048570  2013         2                0             1                3   \n",
      "1048571  2013         2                0             1                3   \n",
      "1048572  2013         2                0             1                3   \n",
      "1048573  2013         2                0             1                3   \n",
      "1048574  2013         2                0             1                3   \n",
      "\n",
      "         current_hrt  menopaus  bmi_group  biophx  count  \\\n",
      "0                  0         1          9       0      2   \n",
      "1                  0         1          1       0      1   \n",
      "2                  0         1          2       0      1   \n",
      "3                  0         1          9       0      2   \n",
      "4                  0         1          4       0      1   \n",
      "...              ...       ...        ...     ...    ...   \n",
      "1048570            0         2          4       1      1   \n",
      "1048571            0         2          1       0      6   \n",
      "1048572            0         2          1       1      4   \n",
      "1048573            0         2          2       0      8   \n",
      "1048574            0         2          2       1      3   \n",
      "\n",
      "         BIRADS_breast_density  age  breast_cancer_history  \n",
      "0                            2    1                      0  \n",
      "1                            4    1                      0  \n",
      "2                            4    1                      0  \n",
      "3                            4    1                      0  \n",
      "4                            4    1                      0  \n",
      "...                        ...  ...                    ...  \n",
      "1048570                      1    9                      1  \n",
      "1048571                      2    9                      0  \n",
      "1048572                      2    9                      0  \n",
      "1048573                      2    9                      0  \n",
      "1048574                      2    9                      0  \n",
      "\n",
      "[1048575 rows x 13 columns]\n"
     ]
    }
   ],
   "source": [
    "print(data)"
   ]
  },
  {
   "cell_type": "code",
   "execution_count": 6,
   "metadata": {},
   "outputs": [
    {
     "data": {
      "text/plain": [
       "year                     int64\n",
       "race_eth                 int64\n",
       "first_degree_hx          int64\n",
       "age_menarche             int64\n",
       "age_first_birth          int64\n",
       "current_hrt              int64\n",
       "menopaus                 int64\n",
       "bmi_group                int64\n",
       "biophx                   int64\n",
       "count                    int64\n",
       "BIRADS_breast_density    int64\n",
       "age                      int64\n",
       "breast_cancer_history    int64\n",
       "dtype: object"
      ]
     },
     "execution_count": 6,
     "metadata": {},
     "output_type": "execute_result"
    }
   ],
   "source": [
    "data.dtypes"
   ]
  },
  {
   "cell_type": "code",
   "execution_count": 5,
   "metadata": {},
   "outputs": [],
   "source": [
    "#pre processing the data\n",
    "from sklearn.preprocessing import MinMaxScaler\n",
    "scaler = MinMaxScaler(feature_range=(-1, 1)).fit(X)\n",
    "X = scaler.fit_transform(X)"
   ]
  },
  {
   "cell_type": "code",
   "execution_count": 6,
   "metadata": {},
   "outputs": [],
   "source": [
    "#shuffling the data\n",
    "data = data.sample(frac=1).reset_index(drop=True)"
   ]
  },
  {
   "cell_type": "code",
   "execution_count": 7,
   "metadata": {},
   "outputs": [
    {
     "data": {
      "text/html": [
       "<div>\n",
       "<style scoped>\n",
       "    .dataframe tbody tr th:only-of-type {\n",
       "        vertical-align: middle;\n",
       "    }\n",
       "\n",
       "    .dataframe tbody tr th {\n",
       "        vertical-align: top;\n",
       "    }\n",
       "\n",
       "    .dataframe thead th {\n",
       "        text-align: right;\n",
       "    }\n",
       "</style>\n",
       "<table border=\"1\" class=\"dataframe\">\n",
       "  <thead>\n",
       "    <tr style=\"text-align: right;\">\n",
       "      <th></th>\n",
       "      <th>year</th>\n",
       "      <th>race_eth</th>\n",
       "      <th>age_menarche</th>\n",
       "      <th>age_first_birth</th>\n",
       "      <th>current_hrt</th>\n",
       "      <th>menopaus</th>\n",
       "      <th>bmi_group</th>\n",
       "      <th>biophx</th>\n",
       "      <th>count</th>\n",
       "      <th>BIRADS_breast_density</th>\n",
       "      <th>age</th>\n",
       "      <th>breast_cancer_history</th>\n",
       "      <th>first_degree_hx</th>\n",
       "    </tr>\n",
       "  </thead>\n",
       "  <tbody>\n",
       "    <tr>\n",
       "      <th>0</th>\n",
       "      <td>2012</td>\n",
       "      <td>2</td>\n",
       "      <td>1</td>\n",
       "      <td>4</td>\n",
       "      <td>0</td>\n",
       "      <td>1</td>\n",
       "      <td>2</td>\n",
       "      <td>0</td>\n",
       "      <td>14</td>\n",
       "      <td>3</td>\n",
       "      <td>6</td>\n",
       "      <td>0</td>\n",
       "      <td>0</td>\n",
       "    </tr>\n",
       "    <tr>\n",
       "      <th>1</th>\n",
       "      <td>2009</td>\n",
       "      <td>1</td>\n",
       "      <td>9</td>\n",
       "      <td>4</td>\n",
       "      <td>0</td>\n",
       "      <td>2</td>\n",
       "      <td>3</td>\n",
       "      <td>0</td>\n",
       "      <td>3</td>\n",
       "      <td>3</td>\n",
       "      <td>6</td>\n",
       "      <td>0</td>\n",
       "      <td>9</td>\n",
       "    </tr>\n",
       "    <tr>\n",
       "      <th>2</th>\n",
       "      <td>2007</td>\n",
       "      <td>1</td>\n",
       "      <td>9</td>\n",
       "      <td>3</td>\n",
       "      <td>9</td>\n",
       "      <td>9</td>\n",
       "      <td>1</td>\n",
       "      <td>0</td>\n",
       "      <td>1</td>\n",
       "      <td>3</td>\n",
       "      <td>6</td>\n",
       "      <td>9</td>\n",
       "      <td>1</td>\n",
       "    </tr>\n",
       "    <tr>\n",
       "      <th>3</th>\n",
       "      <td>2006</td>\n",
       "      <td>1</td>\n",
       "      <td>0</td>\n",
       "      <td>1</td>\n",
       "      <td>9</td>\n",
       "      <td>2</td>\n",
       "      <td>3</td>\n",
       "      <td>0</td>\n",
       "      <td>1</td>\n",
       "      <td>2</td>\n",
       "      <td>8</td>\n",
       "      <td>9</td>\n",
       "      <td>9</td>\n",
       "    </tr>\n",
       "    <tr>\n",
       "      <th>4</th>\n",
       "      <td>2007</td>\n",
       "      <td>5</td>\n",
       "      <td>9</td>\n",
       "      <td>3</td>\n",
       "      <td>9</td>\n",
       "      <td>1</td>\n",
       "      <td>1</td>\n",
       "      <td>0</td>\n",
       "      <td>1</td>\n",
       "      <td>2</td>\n",
       "      <td>5</td>\n",
       "      <td>0</td>\n",
       "      <td>0</td>\n",
       "    </tr>\n",
       "  </tbody>\n",
       "</table>\n",
       "</div>"
      ],
      "text/plain": [
       "   year  race_eth  age_menarche  age_first_birth  current_hrt  menopaus  \\\n",
       "0  2012         2             1                4            0         1   \n",
       "1  2009         1             9                4            0         2   \n",
       "2  2007         1             9                3            9         9   \n",
       "3  2006         1             0                1            9         2   \n",
       "4  2007         5             9                3            9         1   \n",
       "\n",
       "   bmi_group  biophx  count  BIRADS_breast_density  age  \\\n",
       "0          2       0     14                      3    6   \n",
       "1          3       0      3                      3    6   \n",
       "2          1       0      1                      3    6   \n",
       "3          3       0      1                      2    8   \n",
       "4          1       0      1                      2    5   \n",
       "\n",
       "   breast_cancer_history  first_degree_hx  \n",
       "0                      0                0  \n",
       "1                      0                9  \n",
       "2                      9                1  \n",
       "3                      9                9  \n",
       "4                      0                0  "
      ]
     },
     "execution_count": 7,
     "metadata": {},
     "output_type": "execute_result"
    }
   ],
   "source": [
    "data.head()"
   ]
  },
  {
   "cell_type": "code",
   "execution_count": 37,
   "metadata": {},
   "outputs": [
    {
     "name": "stdout",
     "output_type": "stream",
     "text": [
      "(838860, 2) (838860,)\n",
      "(209715, 2) (209715,)\n"
     ]
    }
   ],
   "source": [
    "#Splitting the dataset into the Training set and Test set to 80 and 20\n",
    "from sklearn.model_selection import train_test_split\n",
    "X_train, X_test, Y_train, Y_test = train_test_split(X, Y, test_size = 0.2, random_state = 123)\n",
    "print (X_train.shape , Y_train.shape)\n",
    "print (X_test.shape, Y_test.shape)"
   ]
  },
  {
   "cell_type": "code",
   "execution_count": 38,
   "metadata": {},
   "outputs": [
    {
     "data": {
      "text/html": [
       "<div>\n",
       "<style scoped>\n",
       "    .dataframe tbody tr th:only-of-type {\n",
       "        vertical-align: middle;\n",
       "    }\n",
       "\n",
       "    .dataframe tbody tr th {\n",
       "        vertical-align: top;\n",
       "    }\n",
       "\n",
       "    .dataframe thead th {\n",
       "        text-align: right;\n",
       "    }\n",
       "</style>\n",
       "<table border=\"1\" class=\"dataframe\">\n",
       "  <thead>\n",
       "    <tr style=\"text-align: right;\">\n",
       "      <th></th>\n",
       "      <th>year</th>\n",
       "      <th>race_eth</th>\n",
       "      <th>age_menarche</th>\n",
       "      <th>age_first_birth</th>\n",
       "      <th>current_hrt</th>\n",
       "      <th>menopaus</th>\n",
       "      <th>bmi_group</th>\n",
       "      <th>biophx</th>\n",
       "      <th>count</th>\n",
       "      <th>BIRADS_breast_density</th>\n",
       "      <th>breast_cancer_history</th>\n",
       "      <th>age</th>\n",
       "      <th>first_degree_hx</th>\n",
       "    </tr>\n",
       "  </thead>\n",
       "  <tbody>\n",
       "    <tr>\n",
       "      <th>1048570</th>\n",
       "      <td>2013</td>\n",
       "      <td>2</td>\n",
       "      <td>1</td>\n",
       "      <td>3</td>\n",
       "      <td>0</td>\n",
       "      <td>2</td>\n",
       "      <td>4</td>\n",
       "      <td>1</td>\n",
       "      <td>1</td>\n",
       "      <td>1</td>\n",
       "      <td>1</td>\n",
       "      <td>9</td>\n",
       "      <td>0</td>\n",
       "    </tr>\n",
       "    <tr>\n",
       "      <th>1048571</th>\n",
       "      <td>2013</td>\n",
       "      <td>2</td>\n",
       "      <td>1</td>\n",
       "      <td>3</td>\n",
       "      <td>0</td>\n",
       "      <td>2</td>\n",
       "      <td>1</td>\n",
       "      <td>0</td>\n",
       "      <td>6</td>\n",
       "      <td>2</td>\n",
       "      <td>0</td>\n",
       "      <td>9</td>\n",
       "      <td>0</td>\n",
       "    </tr>\n",
       "    <tr>\n",
       "      <th>1048572</th>\n",
       "      <td>2013</td>\n",
       "      <td>2</td>\n",
       "      <td>1</td>\n",
       "      <td>3</td>\n",
       "      <td>0</td>\n",
       "      <td>2</td>\n",
       "      <td>1</td>\n",
       "      <td>1</td>\n",
       "      <td>4</td>\n",
       "      <td>2</td>\n",
       "      <td>0</td>\n",
       "      <td>9</td>\n",
       "      <td>0</td>\n",
       "    </tr>\n",
       "    <tr>\n",
       "      <th>1048573</th>\n",
       "      <td>2013</td>\n",
       "      <td>2</td>\n",
       "      <td>1</td>\n",
       "      <td>3</td>\n",
       "      <td>0</td>\n",
       "      <td>2</td>\n",
       "      <td>2</td>\n",
       "      <td>0</td>\n",
       "      <td>8</td>\n",
       "      <td>2</td>\n",
       "      <td>0</td>\n",
       "      <td>9</td>\n",
       "      <td>0</td>\n",
       "    </tr>\n",
       "    <tr>\n",
       "      <th>1048574</th>\n",
       "      <td>2013</td>\n",
       "      <td>2</td>\n",
       "      <td>1</td>\n",
       "      <td>3</td>\n",
       "      <td>0</td>\n",
       "      <td>2</td>\n",
       "      <td>2</td>\n",
       "      <td>1</td>\n",
       "      <td>3</td>\n",
       "      <td>2</td>\n",
       "      <td>0</td>\n",
       "      <td>9</td>\n",
       "      <td>0</td>\n",
       "    </tr>\n",
       "  </tbody>\n",
       "</table>\n",
       "</div>"
      ],
      "text/plain": [
       "         year  race_eth  age_menarche  age_first_birth  current_hrt  menopaus  \\\n",
       "1048570  2013         2             1                3            0         2   \n",
       "1048571  2013         2             1                3            0         2   \n",
       "1048572  2013         2             1                3            0         2   \n",
       "1048573  2013         2             1                3            0         2   \n",
       "1048574  2013         2             1                3            0         2   \n",
       "\n",
       "         bmi_group  biophx  count  BIRADS_breast_density  \\\n",
       "1048570          4       1      1                      1   \n",
       "1048571          1       0      6                      2   \n",
       "1048572          1       1      4                      2   \n",
       "1048573          2       0      8                      2   \n",
       "1048574          2       1      3                      2   \n",
       "\n",
       "         breast_cancer_history  age  first_degree_hx  \n",
       "1048570                      1    9                0  \n",
       "1048571                      0    9                0  \n",
       "1048572                      0    9                0  \n",
       "1048573                      0    9                0  \n",
       "1048574                      0    9                0  "
      ]
     },
     "execution_count": 38,
     "metadata": {},
     "output_type": "execute_result"
    }
   ],
   "source": [
    "data.tail()"
   ]
  },
  {
   "cell_type": "code",
   "execution_count": 39,
   "metadata": {},
   "outputs": [
    {
     "name": "stdout",
     "output_type": "stream",
     "text": [
      "Train Set                                            Test Set         \n",
      "[      1       2       3 ... 1048572 1048573 1048574] [      0      12      14 ... 1048554 1048557 1048564]\n",
      "[      0       1       2 ... 1048571 1048573 1048574] [      7      20      36 ... 1048560 1048567 1048572]\n",
      "[      0       1       2 ... 1048572 1048573 1048574] [     10      17      24 ... 1048513 1048543 1048566]\n",
      "[      0       1       2 ... 1048572 1048573 1048574] [      6       9      32 ... 1048540 1048558 1048563]\n",
      "[      0       1       3 ... 1048570 1048571 1048572] [      2      11      29 ... 1048561 1048573 1048574]\n",
      "[      0       1       2 ... 1048572 1048573 1048574] [     26      30      40 ... 1048522 1048542 1048570]\n",
      "[      0       1       2 ... 1048572 1048573 1048574] [      4      16      19 ... 1048523 1048526 1048527]\n",
      "[      0       2       3 ... 1048572 1048573 1048574] [      1      46      66 ... 1048552 1048562 1048565]\n",
      "[      0       1       2 ... 1048572 1048573 1048574] [      3       8      21 ... 1048553 1048568 1048571]\n",
      "[      0       1       2 ... 1048572 1048573 1048574] [      5      13      15 ... 1048547 1048549 1048569]\n"
     ]
    }
   ],
   "source": [
    "#ignore all caught warnings   \n",
    "with warnings.catch_warnings():\n",
    "    warnings.filterwarnings(\"ignore\")\n",
    "\n",
    "from sklearn.model_selection import KFold\n",
    "from sklearn.svm import SVR\n",
    "from sklearn.model_selection import cross_val_score\n",
    "cv = KFold(n_splits=10, random_state=42, shuffle=True)\n",
    "print (\"Train Set                                            Test Set         \")\n",
    "for train_set,test_set in cv.split(X):\n",
    "    print(train_set , test_set)"
   ]
  },
  {
   "cell_type": "code",
   "execution_count": 11,
   "metadata": {},
   "outputs": [],
   "source": [
    "#Randomforest classification\n",
    "from sklearn.ensemble import RandomForestClassifier\n",
    "rf = RandomForestClassifier(n_estimators = 100, random_state = 1) # Instantiate model with 100 decision trees\n",
    "rf.fit(X_train, Y_train);#train model on training data"
   ]
  },
  {
   "cell_type": "code",
   "execution_count": 12,
   "metadata": {},
   "outputs": [
    {
     "name": "stdout",
     "output_type": "stream",
     "text": [
      "Mean Absolute Error: 0.83 degrees.\n"
     ]
    }
   ],
   "source": [
    "predictions = rf.predict(X_test) #make predictions on test data\n",
    "errors = abs(predictions - Y_test) #calculate absolute errors\n",
    "print('Mean Absolute Error:', round(np.mean(errors), 2), 'degrees.')"
   ]
  },
  {
   "cell_type": "code",
   "execution_count": 13,
   "metadata": {},
   "outputs": [
    {
     "name": "stdout",
     "output_type": "stream",
     "text": [
      "Accuracy: 0.0 %.\n"
     ]
    }
   ],
   "source": [
    "#calculating accuracy\n",
    "mape = 100 * (errors / Y_test) #calculate mean absolute percentage error mape\n",
    "accuracy = 100 - np.mean(mape)\n",
    "print('Accuracy:', round(accuracy, 2), '%.')"
   ]
  },
  {
   "cell_type": "code",
   "execution_count": 14,
   "metadata": {},
   "outputs": [
    {
     "data": {
      "text/plain": [
       "GaussianNB()"
      ]
     },
     "execution_count": 14,
     "metadata": {},
     "output_type": "execute_result"
    }
   ],
   "source": [
    "#Naive Bayes calssification\n",
    "from sklearn.naive_bayes import GaussianNB\n",
    "from sklearn.metrics import accuracy_score\n",
    "model = GaussianNB()\n",
    "model.fit(X_train,Y_train)"
   ]
  },
  {
   "cell_type": "code",
   "execution_count": 15,
   "metadata": {},
   "outputs": [],
   "source": [
    "Y_pred = model.predict(X_test)"
   ]
  },
  {
   "cell_type": "code",
   "execution_count": 16,
   "metadata": {},
   "outputs": [
    {
     "data": {
      "text/plain": [
       "67.3404382137663"
      ]
     },
     "execution_count": 16,
     "metadata": {},
     "output_type": "execute_result"
    }
   ],
   "source": [
    "accuracy = accuracy_score(Y_test,Y_pred)*100\n",
    "accuracy"
   ]
  },
  {
   "cell_type": "code",
   "execution_count": 42,
   "metadata": {},
   "outputs": [],
   "source": [
    "from sklearn import svm"
   ]
  },
  {
   "cell_type": "code",
   "execution_count": 43,
   "metadata": {},
   "outputs": [],
   "source": [
    "clf = svm.SVC(kernel='linear')"
   ]
  },
  {
   "cell_type": "code",
   "execution_count": null,
   "metadata": {},
   "outputs": [],
   "source": [
    "clf.fit(X_train,Y_train)"
   ]
  },
  {
   "cell_type": "code",
   "execution_count": null,
   "metadata": {},
   "outputs": [],
   "source": [
    "Y_pred = clf.predict(X_test)"
   ]
  },
  {
   "cell_type": "code",
   "execution_count": null,
   "metadata": {},
   "outputs": [],
   "source": [
    "from sklearn import metrics"
   ]
  },
  {
   "cell_type": "code",
   "execution_count": null,
   "metadata": {},
   "outputs": [],
   "source": [
    "print(\"accuracy:\", metrics.accuracy_score(Y_test,Y_pred))"
   ]
  },
  {
   "cell_type": "code",
   "execution_count": 26,
   "metadata": {},
   "outputs": [],
   "source": [
    "from sklearn.metrics import confusion_matrix\n",
    "from sklearn import tree, metrics\n",
    "from sklearn.tree import DecisionTreeClassifier \n",
    "from sklearn.metrics import accuracy_score \n",
    "from sklearn.metrics import classification_report"
   ]
  },
  {
   "cell_type": "code",
   "execution_count": 27,
   "metadata": {},
   "outputs": [
    {
     "data": {
      "text/plain": [
       "DecisionTreeClassifier(criterion='entropy', max_depth=5, random_state=0)"
      ]
     },
     "execution_count": 27,
     "metadata": {},
     "output_type": "execute_result"
    }
   ],
   "source": [
    "dtree = tree.DecisionTreeClassifier(criterion='entropy', max_depth=5,random_state=0)\n",
    "dtree.fit(X_train, Y_train)"
   ]
  },
  {
   "cell_type": "code",
   "execution_count": 28,
   "metadata": {},
   "outputs": [],
   "source": [
    "y_pred = dtree.predict(X_test)"
   ]
  },
  {
   "cell_type": "code",
   "execution_count": 29,
   "metadata": {},
   "outputs": [
    {
     "name": "stdout",
     "output_type": "stream",
     "text": [
      "Misclassified samples: 40546\n",
      "Accuracy: 0.60\n"
     ]
    }
   ],
   "source": [
    "count_misclassified = (Y_test != y_pred).sum()\n",
    "print('Misclassified samples: {}'.format(count_misclassified))\n",
    "accuracy = metrics.accuracy_score(Y_test, y_pred)\n",
    "print('Accuracy: {:.2f}'.format(accuracy))"
   ]
  },
  {
   "cell_type": "code",
   "execution_count": 40,
   "metadata": {},
   "outputs": [],
   "source": [
    "from numpy import loadtxt\n",
    "from keras.models import Sequential\n",
    "from keras.layers import Dense\n",
    "import pandas as pd\n",
    "import matplotlib as plt\n",
    "import numpy as np\n",
    "import random\n",
    "import warnings"
   ]
  },
  {
   "cell_type": "code",
   "execution_count": 41,
   "metadata": {},
   "outputs": [
    {
     "name": "stdout",
     "output_type": "stream",
     "text": [
      "         year  race_eth  age_menarche  age_first_birth  current_hrt  menopaus  \\\n",
      "0        2005         1             0                0            0         1   \n",
      "1        2005         1             0                0            0         1   \n",
      "2        2005         1             0                0            0         1   \n",
      "3        2005         1             0                0            0         1   \n",
      "4        2005         1             0                1            0         1   \n",
      "...       ...       ...           ...              ...          ...       ...   \n",
      "1048570  2013         2             1                3            0         2   \n",
      "1048571  2013         2             1                3            0         2   \n",
      "1048572  2013         2             1                3            0         2   \n",
      "1048573  2013         2             1                3            0         2   \n",
      "1048574  2013         2             1                3            0         2   \n",
      "\n",
      "         bmi_group  biophx  count  BIRADS_breast_density  \\\n",
      "0                9       0      2                      2   \n",
      "1                1       0      1                      4   \n",
      "2                2       0      1                      4   \n",
      "3                9       0      2                      4   \n",
      "4                4       0      1                      4   \n",
      "...            ...     ...    ...                    ...   \n",
      "1048570          4       1      1                      1   \n",
      "1048571          1       0      6                      2   \n",
      "1048572          1       1      4                      2   \n",
      "1048573          2       0      8                      2   \n",
      "1048574          2       1      3                      2   \n",
      "\n",
      "         breast_cancer_history  age  first_degree_hx  \n",
      "0                            0    1                0  \n",
      "1                            0    1                0  \n",
      "2                            0    1                0  \n",
      "3                            0    1                0  \n",
      "4                            0    1                0  \n",
      "...                        ...  ...              ...  \n",
      "1048570                      1    9                0  \n",
      "1048571                      0    9                0  \n",
      "1048572                      0    9                0  \n",
      "1048573                      0    9                0  \n",
      "1048574                      0    9                0  \n",
      "\n",
      "[1048575 rows x 13 columns]\n"
     ]
    }
   ],
   "source": [
    "#importing the dataset\n",
    "data = pd.read_csv(r'C:\\Users\\krish\\anaconda3\\csv\\combined_csv.csv')\n",
    "#data.head()\n",
    "print(data)\n",
    "X = data.iloc[:, [0,11]]\n",
    "Y = data.iloc[:, 12]"
   ]
  },
  {
   "cell_type": "code",
   "execution_count": 42,
   "metadata": {},
   "outputs": [],
   "source": [
    "# define the keras model\n",
    "model = Sequential()\n",
    "model.add(Dense(16, input_dim=2, activation='relu'))\n",
    "model.add(Dense(12, activation='relu'))\n",
    "model.add(Dense(1, activation='sigmoid'))"
   ]
  },
  {
   "cell_type": "code",
   "execution_count": 43,
   "metadata": {},
   "outputs": [],
   "source": [
    "#compile the keras model\n",
    "model.compile(loss='binary_crossentropy', optimizer='adam', metrics=['accuracy'])"
   ]
  },
  {
   "cell_type": "code",
   "execution_count": 46,
   "metadata": {},
   "outputs": [
    {
     "name": "stdout",
     "output_type": "stream",
     "text": [
      "Epoch 1/5\n",
      "1048575/1048575 [==============================] - 198s 189us/step - loss: 0.4493 - accuracy: 0.2649\n",
      "Epoch 2/5\n",
      "1048575/1048575 [==============================] - 195s 186us/step - loss: 0.4494 - accuracy: 0.2649\n",
      "Epoch 3/5\n",
      "1048575/1048575 [==============================] - 195s 186us/step - loss: 0.4494 - accuracy: 0.2649\n",
      "Epoch 4/5\n",
      "1048575/1048575 [==============================] - 197s 188us/step - loss: 0.4494 - accuracy: 0.2649\n",
      "Epoch 5/5\n",
      "1048575/1048575 [==============================] - 209s 199us/step - loss: 0.4495 - accuracy: 0.2649\n"
     ]
    },
    {
     "data": {
      "text/plain": [
       "<keras.callbacks.callbacks.History at 0x259b15970f0>"
      ]
     },
     "execution_count": 46,
     "metadata": {},
     "output_type": "execute_result"
    }
   ],
   "source": [
    "# fit the keras model on the dataset\n",
    "model.fit(X, Y, epochs=5, batch_size=10)"
   ]
  },
  {
   "cell_type": "code",
   "execution_count": 47,
   "metadata": {},
   "outputs": [
    {
     "name": "stdout",
     "output_type": "stream",
     "text": [
      "1048575/1048575 [==============================] - 22s 21us/step\n",
      "Accuracy: 26.49\n"
     ]
    }
   ],
   "source": [
    "# evaluate the keras model\n",
    "_, accuracy = model.evaluate(X, Y)\n",
    "print('Accuracy: %.2f' % (accuracy*100))"
   ]
  },
  {
   "cell_type": "code",
   "execution_count": null,
   "metadata": {
    "collapsed": true
   },
   "outputs": [],
   "source": []
  }
 ],
 "metadata": {
  "kernelspec": {
   "display_name": "Python 3",
   "language": "python",
   "name": "python3"
  },
  "language_info": {
   "codemirror_mode": {
    "name": "ipython",
    "version": 3
   },
   "file_extension": ".py",
   "mimetype": "text/x-python",
   "name": "python",
   "nbconvert_exporter": "python",
   "pygments_lexer": "ipython3",
   "version": "3.6.10"
  }
 },
 "nbformat": 4,
 "nbformat_minor": 4
}
