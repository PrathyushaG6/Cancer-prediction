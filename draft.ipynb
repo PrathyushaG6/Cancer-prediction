{
 "cells": [
  {
   "cell_type": "code",
   "execution_count": 12,
   "metadata": {},
   "outputs": [
    {
     "ename": "SyntaxError",
     "evalue": "invalid syntax (<ipython-input-12-7dbf3e6e29b6>, line 2)",
     "output_type": "error",
     "traceback": [
      "\u001b[1;36m  File \u001b[1;32m\"<ipython-input-12-7dbf3e6e29b6>\"\u001b[1;36m, line \u001b[1;32m2\u001b[0m\n\u001b[1;33m    Number of Datapoints:1048575\u001b[0m\n\u001b[1;37m            ^\u001b[0m\n\u001b[1;31mSyntaxError\u001b[0m\u001b[1;31m:\u001b[0m invalid syntax\n"
     ]
    }
   ],
   "source": [
    "Dataset:2005-2017\n",
    "Number of Datapoints:1048575\n",
    "Output feature: age"
   ]
  },
  {
   "cell_type": "code",
   "execution_count": 1,
   "metadata": {},
   "outputs": [],
   "source": [
    "#importing the libraries\n",
    "import pandas as pd\n",
    "import matplotlib as plt\n",
    "import numpy as np\n",
    "import random\n",
    "import warnings"
   ]
  },
  {
   "cell_type": "code",
   "execution_count": 4,
   "metadata": {},
   "outputs": [],
   "source": [
    "import os\n",
    "import glob\n",
    "import pandas as pd\n",
    "os.chdir(r\"C:\\Users\\krish\\anaconda3\\csv\")"
   ]
  },
  {
   "cell_type": "code",
   "execution_count": 8,
   "metadata": {},
   "outputs": [],
   "source": [
    "extension = 'csv'\n",
    "all_filenames = [i for i in glob.glob('*.{}'.format(extension))]"
   ]
  },
  {
   "cell_type": "code",
   "execution_count": 9,
   "metadata": {},
   "outputs": [],
   "source": [
    "#combine all files in the list\n",
    "combined_csv = pd.concat([pd.read_csv(f) for f in all_filenames ])\n",
    "#export to csv\n",
    "combined_csv.to_csv( \"combined_csv.csv\", index=False, encoding='utf-8-sig')"
   ]
  },
  {
   "cell_type": "code",
   "execution_count": 2,
   "metadata": {},
   "outputs": [
    {
     "name": "stdout",
     "output_type": "stream",
     "text": [
      "         year  race_eth  age_first_birth  current_hrt  menopaus  bmi_group  \\\n",
      "0        2005         1                0            0         1          9   \n",
      "1        2005         1                0            0         1          1   \n",
      "2        2005         1                0            0         1          2   \n",
      "3        2005         1                0            0         1          9   \n",
      "4        2005         1                1            0         1          4   \n",
      "...       ...       ...              ...          ...       ...        ...   \n",
      "1048570  2013         2                3            0         2          4   \n",
      "1048571  2013         2                3            0         2          1   \n",
      "1048572  2013         2                3            0         2          1   \n",
      "1048573  2013         2                3            0         2          2   \n",
      "1048574  2013         2                3            0         2          2   \n",
      "\n",
      "         biophx  BIRADS_breast_density  age_menarche  age  \\\n",
      "0             0                      2             0    1   \n",
      "1             0                      4             0    1   \n",
      "2             0                      4             0    1   \n",
      "3             0                      4             0    1   \n",
      "4             0                      4             0    1   \n",
      "...         ...                    ...           ...  ...   \n",
      "1048570       1                      1             1    9   \n",
      "1048571       0                      2             1    9   \n",
      "1048572       1                      2             1    9   \n",
      "1048573       0                      2             1    9   \n",
      "1048574       1                      2             1    9   \n",
      "\n",
      "         breast_cancer_history  first_degree_hx  \n",
      "0                            0                0  \n",
      "1                            0                0  \n",
      "2                            0                0  \n",
      "3                            0                0  \n",
      "4                            0                0  \n",
      "...                        ...              ...  \n",
      "1048570                      1                0  \n",
      "1048571                      0                0  \n",
      "1048572                      0                0  \n",
      "1048573                      0                0  \n",
      "1048574                      0                0  \n",
      "\n",
      "[1048575 rows x 12 columns]\n"
     ]
    }
   ],
   "source": [
    "#importing the dataset\n",
    "data = pd.read_csv(r'C:\\Users\\krish\\anaconda3\\csv\\combined_csv_nocount.csv')\n",
    "#data.head()\n",
    "print(data)\n",
    "X = data.iloc[:, [0,10]]\n",
    "Y = data.iloc[:, 11]"
   ]
  },
  {
   "cell_type": "code",
   "execution_count": 4,
   "metadata": {},
   "outputs": [
    {
     "data": {
      "text/html": [
       "<div>\n",
       "<style scoped>\n",
       "    .dataframe tbody tr th:only-of-type {\n",
       "        vertical-align: middle;\n",
       "    }\n",
       "\n",
       "    .dataframe tbody tr th {\n",
       "        vertical-align: top;\n",
       "    }\n",
       "\n",
       "    .dataframe thead th {\n",
       "        text-align: right;\n",
       "    }\n",
       "</style>\n",
       "<table border=\"1\" class=\"dataframe\">\n",
       "  <thead>\n",
       "    <tr style=\"text-align: right;\">\n",
       "      <th></th>\n",
       "      <th>year</th>\n",
       "      <th>race_eth</th>\n",
       "      <th>age_first_birth</th>\n",
       "      <th>current_hrt</th>\n",
       "      <th>menopaus</th>\n",
       "      <th>bmi_group</th>\n",
       "      <th>biophx</th>\n",
       "      <th>BIRADS_breast_density</th>\n",
       "      <th>age_menarche</th>\n",
       "      <th>first_degree_hx</th>\n",
       "      <th>age</th>\n",
       "      <th>breast_cancer_history</th>\n",
       "    </tr>\n",
       "  </thead>\n",
       "  <tbody>\n",
       "    <tr>\n",
       "      <th>0</th>\n",
       "      <td>False</td>\n",
       "      <td>False</td>\n",
       "      <td>False</td>\n",
       "      <td>False</td>\n",
       "      <td>False</td>\n",
       "      <td>False</td>\n",
       "      <td>False</td>\n",
       "      <td>False</td>\n",
       "      <td>False</td>\n",
       "      <td>False</td>\n",
       "      <td>False</td>\n",
       "      <td>False</td>\n",
       "    </tr>\n",
       "    <tr>\n",
       "      <th>1</th>\n",
       "      <td>False</td>\n",
       "      <td>False</td>\n",
       "      <td>False</td>\n",
       "      <td>False</td>\n",
       "      <td>False</td>\n",
       "      <td>False</td>\n",
       "      <td>False</td>\n",
       "      <td>False</td>\n",
       "      <td>False</td>\n",
       "      <td>False</td>\n",
       "      <td>False</td>\n",
       "      <td>False</td>\n",
       "    </tr>\n",
       "    <tr>\n",
       "      <th>2</th>\n",
       "      <td>False</td>\n",
       "      <td>False</td>\n",
       "      <td>False</td>\n",
       "      <td>False</td>\n",
       "      <td>False</td>\n",
       "      <td>False</td>\n",
       "      <td>False</td>\n",
       "      <td>False</td>\n",
       "      <td>False</td>\n",
       "      <td>False</td>\n",
       "      <td>False</td>\n",
       "      <td>False</td>\n",
       "    </tr>\n",
       "    <tr>\n",
       "      <th>3</th>\n",
       "      <td>False</td>\n",
       "      <td>False</td>\n",
       "      <td>False</td>\n",
       "      <td>False</td>\n",
       "      <td>False</td>\n",
       "      <td>False</td>\n",
       "      <td>False</td>\n",
       "      <td>False</td>\n",
       "      <td>False</td>\n",
       "      <td>False</td>\n",
       "      <td>False</td>\n",
       "      <td>False</td>\n",
       "    </tr>\n",
       "    <tr>\n",
       "      <th>4</th>\n",
       "      <td>False</td>\n",
       "      <td>False</td>\n",
       "      <td>False</td>\n",
       "      <td>False</td>\n",
       "      <td>False</td>\n",
       "      <td>False</td>\n",
       "      <td>False</td>\n",
       "      <td>False</td>\n",
       "      <td>False</td>\n",
       "      <td>False</td>\n",
       "      <td>False</td>\n",
       "      <td>False</td>\n",
       "    </tr>\n",
       "    <tr>\n",
       "      <th>...</th>\n",
       "      <td>...</td>\n",
       "      <td>...</td>\n",
       "      <td>...</td>\n",
       "      <td>...</td>\n",
       "      <td>...</td>\n",
       "      <td>...</td>\n",
       "      <td>...</td>\n",
       "      <td>...</td>\n",
       "      <td>...</td>\n",
       "      <td>...</td>\n",
       "      <td>...</td>\n",
       "      <td>...</td>\n",
       "    </tr>\n",
       "    <tr>\n",
       "      <th>1048571</th>\n",
       "      <td>False</td>\n",
       "      <td>False</td>\n",
       "      <td>False</td>\n",
       "      <td>False</td>\n",
       "      <td>False</td>\n",
       "      <td>False</td>\n",
       "      <td>False</td>\n",
       "      <td>False</td>\n",
       "      <td>False</td>\n",
       "      <td>False</td>\n",
       "      <td>False</td>\n",
       "      <td>False</td>\n",
       "    </tr>\n",
       "    <tr>\n",
       "      <th>1048572</th>\n",
       "      <td>False</td>\n",
       "      <td>False</td>\n",
       "      <td>False</td>\n",
       "      <td>False</td>\n",
       "      <td>False</td>\n",
       "      <td>False</td>\n",
       "      <td>False</td>\n",
       "      <td>False</td>\n",
       "      <td>False</td>\n",
       "      <td>False</td>\n",
       "      <td>False</td>\n",
       "      <td>False</td>\n",
       "    </tr>\n",
       "    <tr>\n",
       "      <th>1048573</th>\n",
       "      <td>False</td>\n",
       "      <td>False</td>\n",
       "      <td>False</td>\n",
       "      <td>False</td>\n",
       "      <td>False</td>\n",
       "      <td>False</td>\n",
       "      <td>False</td>\n",
       "      <td>False</td>\n",
       "      <td>False</td>\n",
       "      <td>False</td>\n",
       "      <td>False</td>\n",
       "      <td>False</td>\n",
       "    </tr>\n",
       "    <tr>\n",
       "      <th>1048574</th>\n",
       "      <td>False</td>\n",
       "      <td>False</td>\n",
       "      <td>False</td>\n",
       "      <td>False</td>\n",
       "      <td>False</td>\n",
       "      <td>False</td>\n",
       "      <td>False</td>\n",
       "      <td>False</td>\n",
       "      <td>False</td>\n",
       "      <td>False</td>\n",
       "      <td>False</td>\n",
       "      <td>False</td>\n",
       "    </tr>\n",
       "    <tr>\n",
       "      <th>1048575</th>\n",
       "      <td>False</td>\n",
       "      <td>False</td>\n",
       "      <td>False</td>\n",
       "      <td>False</td>\n",
       "      <td>False</td>\n",
       "      <td>False</td>\n",
       "      <td>False</td>\n",
       "      <td>False</td>\n",
       "      <td>False</td>\n",
       "      <td>False</td>\n",
       "      <td>False</td>\n",
       "      <td>False</td>\n",
       "    </tr>\n",
       "  </tbody>\n",
       "</table>\n",
       "<p>1048576 rows × 12 columns</p>\n",
       "</div>"
      ],
      "text/plain": [
       "          year  race_eth  age_first_birth  current_hrt  menopaus  bmi_group  \\\n",
       "0        False     False            False        False     False      False   \n",
       "1        False     False            False        False     False      False   \n",
       "2        False     False            False        False     False      False   \n",
       "3        False     False            False        False     False      False   \n",
       "4        False     False            False        False     False      False   \n",
       "...        ...       ...              ...          ...       ...        ...   \n",
       "1048571  False     False            False        False     False      False   \n",
       "1048572  False     False            False        False     False      False   \n",
       "1048573  False     False            False        False     False      False   \n",
       "1048574  False     False            False        False     False      False   \n",
       "1048575  False     False            False        False     False      False   \n",
       "\n",
       "         biophx  BIRADS_breast_density  age_menarche  first_degree_hx    age  \\\n",
       "0         False                  False         False            False  False   \n",
       "1         False                  False         False            False  False   \n",
       "2         False                  False         False            False  False   \n",
       "3         False                  False         False            False  False   \n",
       "4         False                  False         False            False  False   \n",
       "...         ...                    ...           ...              ...    ...   \n",
       "1048571   False                  False         False            False  False   \n",
       "1048572   False                  False         False            False  False   \n",
       "1048573   False                  False         False            False  False   \n",
       "1048574   False                  False         False            False  False   \n",
       "1048575   False                  False         False            False  False   \n",
       "\n",
       "         breast_cancer_history  \n",
       "0                        False  \n",
       "1                        False  \n",
       "2                        False  \n",
       "3                        False  \n",
       "4                        False  \n",
       "...                        ...  \n",
       "1048571                  False  \n",
       "1048572                  False  \n",
       "1048573                  False  \n",
       "1048574                  False  \n",
       "1048575                  False  \n",
       "\n",
       "[1048576 rows x 12 columns]"
      ]
     },
     "execution_count": 4,
     "metadata": {},
     "output_type": "execute_result"
    }
   ],
   "source": [
    "#find missing values,if any\n",
    "data.isnull()"
   ]
  },
  {
   "cell_type": "code",
   "execution_count": 5,
   "metadata": {},
   "outputs": [
    {
     "name": "stdout",
     "output_type": "stream",
     "text": [
      "year - 0%\n",
      "race_eth - 0%\n",
      "age_first_birth - 0%\n",
      "current_hrt - 0%\n",
      "menopaus - 0%\n",
      "bmi_group - 0%\n",
      "biophx - 0%\n",
      "BIRADS_breast_density - 0%\n",
      "age_menarche - 0%\n",
      "first_degree_hx - 0%\n",
      "age - 0%\n",
      "breast_cancer_history - 0%\n"
     ]
    }
   ],
   "source": [
    "#Missing Data Percentage List\n",
    "for col in data.columns:\n",
    "    pct_missing = np.mean(data[col].isnull())\n",
    "    print('{} - {}%'.format(col, round(pct_missing*100)))"
   ]
  },
  {
   "cell_type": "code",
   "execution_count": 6,
   "metadata": {},
   "outputs": [
    {
     "name": "stdout",
     "output_type": "stream",
     "text": [
      "(1048576, 12)\n"
     ]
    }
   ],
   "source": [
    "#removing duplicate rows\n",
    "data1 = data.drop_duplicates()\n",
    "print(data1.shape)"
   ]
  },
  {
   "cell_type": "code",
   "execution_count": 7,
   "metadata": {},
   "outputs": [
    {
     "name": "stdout",
     "output_type": "stream",
     "text": [
      "           year  race_eth  age_first_birth  current_hrt  menopaus  bmi_group  \\\n",
      "0        2005.0       1.0              0.0          0.0       1.0        9.0   \n",
      "1        2005.0       1.0              0.0          0.0       1.0        1.0   \n",
      "2        2005.0       1.0              0.0          0.0       1.0        2.0   \n",
      "3        2005.0       1.0              0.0          0.0       1.0        9.0   \n",
      "4        2005.0       1.0              1.0          0.0       1.0        4.0   \n",
      "...         ...       ...              ...          ...       ...        ...   \n",
      "1048571  2013.0       2.0              3.0          0.0       2.0        4.0   \n",
      "1048572  2013.0       2.0              3.0          0.0       2.0        1.0   \n",
      "1048573  2013.0       2.0              3.0          0.0       2.0        1.0   \n",
      "1048574  2013.0       2.0              3.0          0.0       2.0        2.0   \n",
      "1048575  2013.0       2.0              3.0          0.0       2.0        2.0   \n",
      "\n",
      "         biophx  BIRADS_breast_density  age_menarche  first_degree_hx  age  \\\n",
      "0           0.0                    2.0           0.0              0.0  1.0   \n",
      "1           0.0                    4.0           0.0              0.0  1.0   \n",
      "2           0.0                    4.0           0.0              0.0  1.0   \n",
      "3           0.0                    4.0           0.0              0.0  1.0   \n",
      "4           0.0                    4.0           0.0              0.0  1.0   \n",
      "...         ...                    ...           ...              ...  ...   \n",
      "1048571     1.0                    1.0           1.0              0.0  9.0   \n",
      "1048572     0.0                    2.0           1.0              0.0  9.0   \n",
      "1048573     1.0                    2.0           1.0              0.0  9.0   \n",
      "1048574     0.0                    2.0           1.0              0.0  9.0   \n",
      "1048575     1.0                    2.0           1.0              0.0  9.0   \n",
      "\n",
      "         breast_cancer_history  \n",
      "0                          0.0  \n",
      "1                          0.0  \n",
      "2                          0.0  \n",
      "3                          0.0  \n",
      "4                          0.0  \n",
      "...                        ...  \n",
      "1048571                    1.0  \n",
      "1048572                    0.0  \n",
      "1048573                    0.0  \n",
      "1048574                    0.0  \n",
      "1048575                    0.0  \n",
      "\n",
      "[1048576 rows x 12 columns]\n"
     ]
    }
   ],
   "source": [
    "print(data)"
   ]
  },
  {
   "cell_type": "code",
   "execution_count": 12,
   "metadata": {},
   "outputs": [
    {
     "data": {
      "text/plain": [
       "year                     int64\n",
       "race_eth                 int64\n",
       "age_first_birth          int64\n",
       "current_hrt              int64\n",
       "menopaus                 int64\n",
       "bmi_group                int64\n",
       "biophx                   int64\n",
       "BIRADS_breast_density    int64\n",
       "breast_cancer_history    int64\n",
       "age_menarche             int64\n",
       "first_degree_hx          int64\n",
       "age                      int64\n",
       "dtype: object"
      ]
     },
     "execution_count": 12,
     "metadata": {},
     "output_type": "execute_result"
    }
   ],
   "source": [
    "data.dtypes"
   ]
  },
  {
   "cell_type": "code",
   "execution_count": 13,
   "metadata": {},
   "outputs": [
    {
     "data": {
      "text/plain": [
       "array([ 1,  2,  3,  4,  5,  6,  7,  8,  9, 10, 11, 12, 13], dtype=int64)"
      ]
     },
     "execution_count": 13,
     "metadata": {},
     "output_type": "execute_result"
    }
   ],
   "source": [
    "data.age.unique()"
   ]
  },
  {
   "cell_type": "code",
   "execution_count": 14,
   "metadata": {},
   "outputs": [
    {
     "data": {
      "text/plain": [
       "6     180442\n",
       "7     178855\n",
       "5     138143\n",
       "8     111530\n",
       "4      94031\n",
       "9      92285\n",
       "10     71018\n",
       "11     57960\n",
       "12     41881\n",
       "3      37707\n",
       "13     26146\n",
       "2      14032\n",
       "1       4545\n",
       "Name: age, dtype: int64"
      ]
     },
     "execution_count": 14,
     "metadata": {},
     "output_type": "execute_result"
    }
   ],
   "source": [
    "data.age.value_counts()"
   ]
  },
  {
   "cell_type": "code",
   "execution_count": 15,
   "metadata": {},
   "outputs": [
    {
     "data": {
      "text/plain": [
       "0          group1\n",
       "1          group1\n",
       "2          group1\n",
       "3          group1\n",
       "4          group1\n",
       "            ...  \n",
       "1048570    group3\n",
       "1048571    group3\n",
       "1048572    group3\n",
       "1048573    group3\n",
       "1048574    group3\n",
       "Name: age, Length: 1048575, dtype: category\n",
       "Categories (3, object): ['group1' < 'group2' < 'group3']"
      ]
     },
     "execution_count": 15,
     "metadata": {},
     "output_type": "execute_result"
    }
   ],
   "source": [
    "label_numbers = ['group1', 'group2', 'group3']\n",
    "cut_bins = [0, 4, 8, 13]\n",
    "age_groups = pd.cut(data['age'], bins=cut_bins, labels=label_numbers)\n",
    "age_groups"
   ]
  },
  {
   "cell_type": "code",
   "execution_count": 16,
   "metadata": {},
   "outputs": [
    {
     "data": {
      "text/plain": [
       "group2    608970\n",
       "group3    289290\n",
       "group1    150315\n",
       "Name: age, dtype: int64"
      ]
     },
     "execution_count": 16,
     "metadata": {},
     "output_type": "execute_result"
    }
   ],
   "source": [
    "age_groups.value_counts()\n",
    "#pd.cut(data['age_groups'],bins=3).value_counts()"
   ]
  },
  {
   "cell_type": "code",
   "execution_count": 17,
   "metadata": {},
   "outputs": [
    {
     "data": {
      "text/html": [
       "<div>\n",
       "<style scoped>\n",
       "    .dataframe tbody tr th:only-of-type {\n",
       "        vertical-align: middle;\n",
       "    }\n",
       "\n",
       "    .dataframe tbody tr th {\n",
       "        vertical-align: top;\n",
       "    }\n",
       "\n",
       "    .dataframe thead th {\n",
       "        text-align: right;\n",
       "    }\n",
       "</style>\n",
       "<table border=\"1\" class=\"dataframe\">\n",
       "  <thead>\n",
       "    <tr style=\"text-align: right;\">\n",
       "      <th></th>\n",
       "      <th>year</th>\n",
       "      <th>race_eth</th>\n",
       "      <th>age_first_birth</th>\n",
       "      <th>current_hrt</th>\n",
       "      <th>menopaus</th>\n",
       "      <th>bmi_group</th>\n",
       "      <th>biophx</th>\n",
       "      <th>BIRADS_breast_density</th>\n",
       "      <th>breast_cancer_history</th>\n",
       "      <th>age_menarche</th>\n",
       "      <th>first_degree_hx</th>\n",
       "      <th>age</th>\n",
       "      <th>age_subgroups</th>\n",
       "    </tr>\n",
       "  </thead>\n",
       "  <tbody>\n",
       "    <tr>\n",
       "      <th>0</th>\n",
       "      <td>2005</td>\n",
       "      <td>1</td>\n",
       "      <td>0</td>\n",
       "      <td>0</td>\n",
       "      <td>1</td>\n",
       "      <td>9</td>\n",
       "      <td>0</td>\n",
       "      <td>2</td>\n",
       "      <td>0</td>\n",
       "      <td>0</td>\n",
       "      <td>0</td>\n",
       "      <td>1</td>\n",
       "      <td>group1</td>\n",
       "    </tr>\n",
       "    <tr>\n",
       "      <th>1</th>\n",
       "      <td>2005</td>\n",
       "      <td>1</td>\n",
       "      <td>0</td>\n",
       "      <td>0</td>\n",
       "      <td>1</td>\n",
       "      <td>1</td>\n",
       "      <td>0</td>\n",
       "      <td>4</td>\n",
       "      <td>0</td>\n",
       "      <td>0</td>\n",
       "      <td>0</td>\n",
       "      <td>1</td>\n",
       "      <td>group1</td>\n",
       "    </tr>\n",
       "    <tr>\n",
       "      <th>2</th>\n",
       "      <td>2005</td>\n",
       "      <td>1</td>\n",
       "      <td>0</td>\n",
       "      <td>0</td>\n",
       "      <td>1</td>\n",
       "      <td>2</td>\n",
       "      <td>0</td>\n",
       "      <td>4</td>\n",
       "      <td>0</td>\n",
       "      <td>0</td>\n",
       "      <td>0</td>\n",
       "      <td>1</td>\n",
       "      <td>group1</td>\n",
       "    </tr>\n",
       "    <tr>\n",
       "      <th>3</th>\n",
       "      <td>2005</td>\n",
       "      <td>1</td>\n",
       "      <td>0</td>\n",
       "      <td>0</td>\n",
       "      <td>1</td>\n",
       "      <td>9</td>\n",
       "      <td>0</td>\n",
       "      <td>4</td>\n",
       "      <td>0</td>\n",
       "      <td>0</td>\n",
       "      <td>0</td>\n",
       "      <td>1</td>\n",
       "      <td>group1</td>\n",
       "    </tr>\n",
       "    <tr>\n",
       "      <th>4</th>\n",
       "      <td>2005</td>\n",
       "      <td>1</td>\n",
       "      <td>1</td>\n",
       "      <td>0</td>\n",
       "      <td>1</td>\n",
       "      <td>4</td>\n",
       "      <td>0</td>\n",
       "      <td>4</td>\n",
       "      <td>0</td>\n",
       "      <td>0</td>\n",
       "      <td>0</td>\n",
       "      <td>1</td>\n",
       "      <td>group1</td>\n",
       "    </tr>\n",
       "    <tr>\n",
       "      <th>...</th>\n",
       "      <td>...</td>\n",
       "      <td>...</td>\n",
       "      <td>...</td>\n",
       "      <td>...</td>\n",
       "      <td>...</td>\n",
       "      <td>...</td>\n",
       "      <td>...</td>\n",
       "      <td>...</td>\n",
       "      <td>...</td>\n",
       "      <td>...</td>\n",
       "      <td>...</td>\n",
       "      <td>...</td>\n",
       "      <td>...</td>\n",
       "    </tr>\n",
       "    <tr>\n",
       "      <th>1048570</th>\n",
       "      <td>2013</td>\n",
       "      <td>2</td>\n",
       "      <td>3</td>\n",
       "      <td>0</td>\n",
       "      <td>2</td>\n",
       "      <td>4</td>\n",
       "      <td>1</td>\n",
       "      <td>1</td>\n",
       "      <td>1</td>\n",
       "      <td>1</td>\n",
       "      <td>0</td>\n",
       "      <td>9</td>\n",
       "      <td>group3</td>\n",
       "    </tr>\n",
       "    <tr>\n",
       "      <th>1048571</th>\n",
       "      <td>2013</td>\n",
       "      <td>2</td>\n",
       "      <td>3</td>\n",
       "      <td>0</td>\n",
       "      <td>2</td>\n",
       "      <td>1</td>\n",
       "      <td>0</td>\n",
       "      <td>2</td>\n",
       "      <td>0</td>\n",
       "      <td>1</td>\n",
       "      <td>0</td>\n",
       "      <td>9</td>\n",
       "      <td>group3</td>\n",
       "    </tr>\n",
       "    <tr>\n",
       "      <th>1048572</th>\n",
       "      <td>2013</td>\n",
       "      <td>2</td>\n",
       "      <td>3</td>\n",
       "      <td>0</td>\n",
       "      <td>2</td>\n",
       "      <td>1</td>\n",
       "      <td>1</td>\n",
       "      <td>2</td>\n",
       "      <td>0</td>\n",
       "      <td>1</td>\n",
       "      <td>0</td>\n",
       "      <td>9</td>\n",
       "      <td>group3</td>\n",
       "    </tr>\n",
       "    <tr>\n",
       "      <th>1048573</th>\n",
       "      <td>2013</td>\n",
       "      <td>2</td>\n",
       "      <td>3</td>\n",
       "      <td>0</td>\n",
       "      <td>2</td>\n",
       "      <td>2</td>\n",
       "      <td>0</td>\n",
       "      <td>2</td>\n",
       "      <td>0</td>\n",
       "      <td>1</td>\n",
       "      <td>0</td>\n",
       "      <td>9</td>\n",
       "      <td>group3</td>\n",
       "    </tr>\n",
       "    <tr>\n",
       "      <th>1048574</th>\n",
       "      <td>2013</td>\n",
       "      <td>2</td>\n",
       "      <td>3</td>\n",
       "      <td>0</td>\n",
       "      <td>2</td>\n",
       "      <td>2</td>\n",
       "      <td>1</td>\n",
       "      <td>2</td>\n",
       "      <td>0</td>\n",
       "      <td>1</td>\n",
       "      <td>0</td>\n",
       "      <td>9</td>\n",
       "      <td>group3</td>\n",
       "    </tr>\n",
       "  </tbody>\n",
       "</table>\n",
       "<p>1048575 rows × 13 columns</p>\n",
       "</div>"
      ],
      "text/plain": [
       "         year  race_eth  age_first_birth  current_hrt  menopaus  bmi_group  \\\n",
       "0        2005         1                0            0         1          9   \n",
       "1        2005         1                0            0         1          1   \n",
       "2        2005         1                0            0         1          2   \n",
       "3        2005         1                0            0         1          9   \n",
       "4        2005         1                1            0         1          4   \n",
       "...       ...       ...              ...          ...       ...        ...   \n",
       "1048570  2013         2                3            0         2          4   \n",
       "1048571  2013         2                3            0         2          1   \n",
       "1048572  2013         2                3            0         2          1   \n",
       "1048573  2013         2                3            0         2          2   \n",
       "1048574  2013         2                3            0         2          2   \n",
       "\n",
       "         biophx  BIRADS_breast_density  breast_cancer_history  age_menarche  \\\n",
       "0             0                      2                      0             0   \n",
       "1             0                      4                      0             0   \n",
       "2             0                      4                      0             0   \n",
       "3             0                      4                      0             0   \n",
       "4             0                      4                      0             0   \n",
       "...         ...                    ...                    ...           ...   \n",
       "1048570       1                      1                      1             1   \n",
       "1048571       0                      2                      0             1   \n",
       "1048572       1                      2                      0             1   \n",
       "1048573       0                      2                      0             1   \n",
       "1048574       1                      2                      0             1   \n",
       "\n",
       "         first_degree_hx  age age_subgroups  \n",
       "0                      0    1        group1  \n",
       "1                      0    1        group1  \n",
       "2                      0    1        group1  \n",
       "3                      0    1        group1  \n",
       "4                      0    1        group1  \n",
       "...                  ...  ...           ...  \n",
       "1048570                0    9        group3  \n",
       "1048571                0    9        group3  \n",
       "1048572                0    9        group3  \n",
       "1048573                0    9        group3  \n",
       "1048574                0    9        group3  \n",
       "\n",
       "[1048575 rows x 13 columns]"
      ]
     },
     "execution_count": 17,
     "metadata": {},
     "output_type": "execute_result"
    }
   ],
   "source": [
    "df = pd.DataFrame(data)\n",
    "df['age_subgroups'] = age_groups\n",
    "df"
   ]
  },
  {
   "cell_type": "code",
   "execution_count": 26,
   "metadata": {},
   "outputs": [],
   "source": [
    "#ownloading the updated csv file to local desktop\n",
    "df.to_csv(r\"C:\\Users\\krish\\anaconda3\\csv\\updated.csv\")"
   ]
  },
  {
   "cell_type": "code",
   "execution_count": 8,
   "metadata": {},
   "outputs": [],
   "source": [
    "#pre processing the data\n",
    "from sklearn.preprocessing import MinMaxScaler\n",
    "scaler = MinMaxScaler(feature_range=(-1, 1)).fit(X)\n",
    "X = scaler.fit_transform(X)"
   ]
  },
  {
   "cell_type": "code",
   "execution_count": 9,
   "metadata": {},
   "outputs": [],
   "source": [
    "#shuffling the data\n",
    "data = data.sample(frac=1).reset_index(drop=True)"
   ]
  },
  {
   "cell_type": "code",
   "execution_count": 10,
   "metadata": {},
   "outputs": [
    {
     "data": {
      "text/html": [
       "<div>\n",
       "<style scoped>\n",
       "    .dataframe tbody tr th:only-of-type {\n",
       "        vertical-align: middle;\n",
       "    }\n",
       "\n",
       "    .dataframe tbody tr th {\n",
       "        vertical-align: top;\n",
       "    }\n",
       "\n",
       "    .dataframe thead th {\n",
       "        text-align: right;\n",
       "    }\n",
       "</style>\n",
       "<table border=\"1\" class=\"dataframe\">\n",
       "  <thead>\n",
       "    <tr style=\"text-align: right;\">\n",
       "      <th></th>\n",
       "      <th>year</th>\n",
       "      <th>race_eth</th>\n",
       "      <th>age_first_birth</th>\n",
       "      <th>current_hrt</th>\n",
       "      <th>menopaus</th>\n",
       "      <th>bmi_group</th>\n",
       "      <th>biophx</th>\n",
       "      <th>BIRADS_breast_density</th>\n",
       "      <th>age_menarche</th>\n",
       "      <th>first_degree_hx</th>\n",
       "      <th>age</th>\n",
       "      <th>breast_cancer_history</th>\n",
       "    </tr>\n",
       "  </thead>\n",
       "  <tbody>\n",
       "    <tr>\n",
       "      <th>0</th>\n",
       "      <td>2012.0</td>\n",
       "      <td>1.0</td>\n",
       "      <td>4.0</td>\n",
       "      <td>0.0</td>\n",
       "      <td>1.0</td>\n",
       "      <td>3.0</td>\n",
       "      <td>0.0</td>\n",
       "      <td>2.0</td>\n",
       "      <td>1.0</td>\n",
       "      <td>1.0</td>\n",
       "      <td>5.0</td>\n",
       "      <td>0.0</td>\n",
       "    </tr>\n",
       "    <tr>\n",
       "      <th>1</th>\n",
       "      <td>2005.0</td>\n",
       "      <td>9.0</td>\n",
       "      <td>9.0</td>\n",
       "      <td>9.0</td>\n",
       "      <td>2.0</td>\n",
       "      <td>9.0</td>\n",
       "      <td>0.0</td>\n",
       "      <td>3.0</td>\n",
       "      <td>9.0</td>\n",
       "      <td>0.0</td>\n",
       "      <td>6.0</td>\n",
       "      <td>0.0</td>\n",
       "    </tr>\n",
       "    <tr>\n",
       "      <th>2</th>\n",
       "      <td>2011.0</td>\n",
       "      <td>1.0</td>\n",
       "      <td>9.0</td>\n",
       "      <td>0.0</td>\n",
       "      <td>2.0</td>\n",
       "      <td>9.0</td>\n",
       "      <td>0.0</td>\n",
       "      <td>2.0</td>\n",
       "      <td>0.0</td>\n",
       "      <td>0.0</td>\n",
       "      <td>9.0</td>\n",
       "      <td>0.0</td>\n",
       "    </tr>\n",
       "    <tr>\n",
       "      <th>3</th>\n",
       "      <td>2008.0</td>\n",
       "      <td>3.0</td>\n",
       "      <td>9.0</td>\n",
       "      <td>0.0</td>\n",
       "      <td>2.0</td>\n",
       "      <td>9.0</td>\n",
       "      <td>0.0</td>\n",
       "      <td>1.0</td>\n",
       "      <td>9.0</td>\n",
       "      <td>0.0</td>\n",
       "      <td>8.0</td>\n",
       "      <td>0.0</td>\n",
       "    </tr>\n",
       "    <tr>\n",
       "      <th>4</th>\n",
       "      <td>2008.0</td>\n",
       "      <td>1.0</td>\n",
       "      <td>4.0</td>\n",
       "      <td>9.0</td>\n",
       "      <td>2.0</td>\n",
       "      <td>2.0</td>\n",
       "      <td>1.0</td>\n",
       "      <td>2.0</td>\n",
       "      <td>9.0</td>\n",
       "      <td>0.0</td>\n",
       "      <td>13.0</td>\n",
       "      <td>0.0</td>\n",
       "    </tr>\n",
       "  </tbody>\n",
       "</table>\n",
       "</div>"
      ],
      "text/plain": [
       "     year  race_eth  age_first_birth  current_hrt  menopaus  bmi_group  \\\n",
       "0  2012.0       1.0              4.0          0.0       1.0        3.0   \n",
       "1  2005.0       9.0              9.0          9.0       2.0        9.0   \n",
       "2  2011.0       1.0              9.0          0.0       2.0        9.0   \n",
       "3  2008.0       3.0              9.0          0.0       2.0        9.0   \n",
       "4  2008.0       1.0              4.0          9.0       2.0        2.0   \n",
       "\n",
       "   biophx  BIRADS_breast_density  age_menarche  first_degree_hx   age  \\\n",
       "0     0.0                    2.0           1.0              1.0   5.0   \n",
       "1     0.0                    3.0           9.0              0.0   6.0   \n",
       "2     0.0                    2.0           0.0              0.0   9.0   \n",
       "3     0.0                    1.0           9.0              0.0   8.0   \n",
       "4     1.0                    2.0           9.0              0.0  13.0   \n",
       "\n",
       "   breast_cancer_history  \n",
       "0                    0.0  \n",
       "1                    0.0  \n",
       "2                    0.0  \n",
       "3                    0.0  \n",
       "4                    0.0  "
      ]
     },
     "execution_count": 10,
     "metadata": {},
     "output_type": "execute_result"
    }
   ],
   "source": [
    "data.head()"
   ]
  },
  {
   "cell_type": "code",
   "execution_count": 3,
   "metadata": {},
   "outputs": [
    {
     "name": "stdout",
     "output_type": "stream",
     "text": [
      "(838860, 2) (838860,)\n",
      "(209715, 2) (209715,)\n"
     ]
    }
   ],
   "source": [
    "#Splitting the dataset into the Training set and Test set to 80 and 20\n",
    "from sklearn.model_selection import train_test_split\n",
    "X_train, X_test, Y_train, Y_test = train_test_split(X, Y, test_size = 0.2, random_state = 123)\n",
    "print (X_train.shape , Y_train.shape)\n",
    "print (X_test.shape, Y_test.shape)"
   ]
  },
  {
   "cell_type": "code",
   "execution_count": 12,
   "metadata": {},
   "outputs": [
    {
     "data": {
      "text/html": [
       "<div>\n",
       "<style scoped>\n",
       "    .dataframe tbody tr th:only-of-type {\n",
       "        vertical-align: middle;\n",
       "    }\n",
       "\n",
       "    .dataframe tbody tr th {\n",
       "        vertical-align: top;\n",
       "    }\n",
       "\n",
       "    .dataframe thead th {\n",
       "        text-align: right;\n",
       "    }\n",
       "</style>\n",
       "<table border=\"1\" class=\"dataframe\">\n",
       "  <thead>\n",
       "    <tr style=\"text-align: right;\">\n",
       "      <th></th>\n",
       "      <th>year</th>\n",
       "      <th>race_eth</th>\n",
       "      <th>age_first_birth</th>\n",
       "      <th>current_hrt</th>\n",
       "      <th>menopaus</th>\n",
       "      <th>bmi_group</th>\n",
       "      <th>biophx</th>\n",
       "      <th>BIRADS_breast_density</th>\n",
       "      <th>age_menarche</th>\n",
       "      <th>first_degree_hx</th>\n",
       "      <th>age</th>\n",
       "      <th>breast_cancer_history</th>\n",
       "    </tr>\n",
       "  </thead>\n",
       "  <tbody>\n",
       "    <tr>\n",
       "      <th>1048571</th>\n",
       "      <td>2007.0</td>\n",
       "      <td>1.0</td>\n",
       "      <td>2.0</td>\n",
       "      <td>0.0</td>\n",
       "      <td>2.0</td>\n",
       "      <td>4.0</td>\n",
       "      <td>1.0</td>\n",
       "      <td>1.0</td>\n",
       "      <td>2.0</td>\n",
       "      <td>0.0</td>\n",
       "      <td>9.0</td>\n",
       "      <td>0.0</td>\n",
       "    </tr>\n",
       "    <tr>\n",
       "      <th>1048572</th>\n",
       "      <td>2012.0</td>\n",
       "      <td>5.0</td>\n",
       "      <td>2.0</td>\n",
       "      <td>0.0</td>\n",
       "      <td>9.0</td>\n",
       "      <td>2.0</td>\n",
       "      <td>0.0</td>\n",
       "      <td>2.0</td>\n",
       "      <td>9.0</td>\n",
       "      <td>9.0</td>\n",
       "      <td>4.0</td>\n",
       "      <td>0.0</td>\n",
       "    </tr>\n",
       "    <tr>\n",
       "      <th>1048573</th>\n",
       "      <td>2005.0</td>\n",
       "      <td>1.0</td>\n",
       "      <td>9.0</td>\n",
       "      <td>9.0</td>\n",
       "      <td>9.0</td>\n",
       "      <td>9.0</td>\n",
       "      <td>0.0</td>\n",
       "      <td>3.0</td>\n",
       "      <td>9.0</td>\n",
       "      <td>1.0</td>\n",
       "      <td>4.0</td>\n",
       "      <td>9.0</td>\n",
       "    </tr>\n",
       "    <tr>\n",
       "      <th>1048574</th>\n",
       "      <td>2012.0</td>\n",
       "      <td>5.0</td>\n",
       "      <td>4.0</td>\n",
       "      <td>0.0</td>\n",
       "      <td>1.0</td>\n",
       "      <td>2.0</td>\n",
       "      <td>0.0</td>\n",
       "      <td>2.0</td>\n",
       "      <td>1.0</td>\n",
       "      <td>0.0</td>\n",
       "      <td>7.0</td>\n",
       "      <td>9.0</td>\n",
       "    </tr>\n",
       "    <tr>\n",
       "      <th>1048575</th>\n",
       "      <td>2009.0</td>\n",
       "      <td>2.0</td>\n",
       "      <td>2.0</td>\n",
       "      <td>0.0</td>\n",
       "      <td>2.0</td>\n",
       "      <td>9.0</td>\n",
       "      <td>0.0</td>\n",
       "      <td>2.0</td>\n",
       "      <td>9.0</td>\n",
       "      <td>0.0</td>\n",
       "      <td>10.0</td>\n",
       "      <td>9.0</td>\n",
       "    </tr>\n",
       "  </tbody>\n",
       "</table>\n",
       "</div>"
      ],
      "text/plain": [
       "           year  race_eth  age_first_birth  current_hrt  menopaus  bmi_group  \\\n",
       "1048571  2007.0       1.0              2.0          0.0       2.0        4.0   \n",
       "1048572  2012.0       5.0              2.0          0.0       9.0        2.0   \n",
       "1048573  2005.0       1.0              9.0          9.0       9.0        9.0   \n",
       "1048574  2012.0       5.0              4.0          0.0       1.0        2.0   \n",
       "1048575  2009.0       2.0              2.0          0.0       2.0        9.0   \n",
       "\n",
       "         biophx  BIRADS_breast_density  age_menarche  first_degree_hx   age  \\\n",
       "1048571     1.0                    1.0           2.0              0.0   9.0   \n",
       "1048572     0.0                    2.0           9.0              9.0   4.0   \n",
       "1048573     0.0                    3.0           9.0              1.0   4.0   \n",
       "1048574     0.0                    2.0           1.0              0.0   7.0   \n",
       "1048575     0.0                    2.0           9.0              0.0  10.0   \n",
       "\n",
       "         breast_cancer_history  \n",
       "1048571                    0.0  \n",
       "1048572                    0.0  \n",
       "1048573                    9.0  \n",
       "1048574                    9.0  \n",
       "1048575                    9.0  "
      ]
     },
     "execution_count": 12,
     "metadata": {},
     "output_type": "execute_result"
    }
   ],
   "source": [
    "data.tail()"
   ]
  },
  {
   "cell_type": "code",
   "execution_count": 4,
   "metadata": {},
   "outputs": [
    {
     "name": "stdout",
     "output_type": "stream",
     "text": [
      "Train Set                                            Test Set         \n",
      "[      1       2       3 ... 1048572 1048573 1048574] [      0      12      14 ... 1048554 1048557 1048564]\n",
      "[      0       1       2 ... 1048571 1048573 1048574] [      7      20      36 ... 1048560 1048567 1048572]\n",
      "[      0       1       2 ... 1048572 1048573 1048574] [     10      17      24 ... 1048513 1048543 1048566]\n",
      "[      0       1       2 ... 1048572 1048573 1048574] [      6       9      32 ... 1048540 1048558 1048563]\n",
      "[      0       1       3 ... 1048570 1048571 1048572] [      2      11      29 ... 1048561 1048573 1048574]\n",
      "[      0       1       2 ... 1048572 1048573 1048574] [     26      30      40 ... 1048522 1048542 1048570]\n",
      "[      0       1       2 ... 1048572 1048573 1048574] [      4      16      19 ... 1048523 1048526 1048527]\n",
      "[      0       2       3 ... 1048572 1048573 1048574] [      1      46      66 ... 1048552 1048562 1048565]\n",
      "[      0       1       2 ... 1048572 1048573 1048574] [      3       8      21 ... 1048553 1048568 1048571]\n",
      "[      0       1       2 ... 1048572 1048573 1048574] [      5      13      15 ... 1048547 1048549 1048569]\n"
     ]
    }
   ],
   "source": [
    "#ignore all caught warnings   \n",
    "with warnings.catch_warnings():\n",
    "    warnings.filterwarnings(\"ignore\")\n",
    "\n",
    "from sklearn.model_selection import KFold\n",
    "from sklearn.svm import SVR\n",
    "from sklearn.model_selection import cross_val_score\n",
    "cv = KFold(n_splits=10, random_state=42, shuffle=True)\n",
    "print (\"Train Set                                            Test Set         \")\n",
    "for train_set,test_set in cv.split(X):\n",
    "    print(train_set , test_set)"
   ]
  },
  {
   "cell_type": "code",
   "execution_count": 14,
   "metadata": {},
   "outputs": [],
   "source": [
    "#Principal component Analysis \n",
    "from sklearn.decomposition import PCA\n",
    "from pandas import DataFrame\n",
    "from sklearn.preprocessing import LabelEncoder"
   ]
  },
  {
   "cell_type": "code",
   "execution_count": 261,
   "metadata": {},
   "outputs": [
    {
     "name": "stdout",
     "output_type": "stream",
     "text": [
      "                    Specs          Score\n",
      "12                    age  417043.790818\n",
      "11                  count  116288.435107\n",
      "7                menopaus   98189.769160\n",
      "6             current_hrt   97051.078297\n",
      "2         first_degree_hx   25596.486870\n",
      "4         age_first_birth   11599.343219\n",
      "1                race_eth   10178.467399\n",
      "10  breast_cancer_history    8637.752458\n",
      "9                  biophx    8565.910375\n",
      "3            age_menarche    7916.381988\n",
      "8               bmi_group    4092.192947\n",
      "5   BIRADS_breast_density    3743.020721\n",
      "0                    year      13.401966\n"
     ]
    }
   ],
   "source": [
    "#Univariate selection\n",
    "from sklearn.feature_selection import SelectKBest\n",
    "from sklearn.feature_selection import chi2\n",
    "data = pd.read_csv(r'C:\\Users\\krish\\anaconda3\\bcsc.csv')\n",
    "X = data.iloc[:,0:14]  #independent columns\n",
    "Y = data.iloc[:,-1]    \n",
    "bestfeatures = SelectKBest(score_func=chi2, k=1)\n",
    "fit = bestfeatures.fit(X,Y)\n",
    "dfscores = pd.DataFrame(fit.scores_)\n",
    "dfcolumns = pd.DataFrame(X.columns)\n",
    "#concat two dataframes for better visualization \n",
    "featureScores = pd.concat([dfcolumns,dfscores],axis=1)\n",
    "featureScores.columns = ['Specs','Score']  #naming the dataframe columns\n",
    "print(featureScores.nlargest(16,'Score'))"
   ]
  },
  {
   "cell_type": "code",
   "execution_count": 268,
   "metadata": {},
   "outputs": [
    {
     "data": {
      "image/png": "[encoded data removed]",
      "text/plain": [
       "<Figure size 432x288 with 1 Axes>"
      ]
     },
     "metadata": {
      "needs_background": "light"
     },
     "output_type": "display_data"
    }
   ],
   "source": [
    "#PCA analysis\n",
    "import matplotlib.pyplot as plt\n",
    "X = data.iloc[:, [0,12]]\n",
    "y = data.iloc[:, -1]\n",
    "pca = PCA()\n",
    "x_new = pca.fit_transform(X)\n",
    "\n",
    "def myplot(score,coeff,labels=None):\n",
    "    xs = score[:,0]\n",
    "    ys = score[:,1]\n",
    "    n = coeff.shape[0]\n",
    "    scalex = 1.0/(xs.max() - xs.min())\n",
    "    scaley = 1.0/(ys.max() - ys.min())\n",
    "    plt.scatter(xs * scalex,ys * scaley, c = y)\n",
    "    for i in range(n):\n",
    "        plt.arrow(0, 0, coeff[i,0], coeff[i,1],color = 'r',alpha = 0.5)\n",
    "        if labels is None:\n",
    "            plt.text(coeff[i,0]* 1.15, coeff[i,1] * 1.15, \"Var\"+str(i+1), color = 'g', ha = 'center', va = 'center')\n",
    "        else:\n",
    "            plt.text(coeff[i,0]* 1.15, coeff[i,1] * 1.15, labels[i], color = 'g', ha = 'center', va = 'center')\n",
    "plt.xlim(-1,1)\n",
    "plt.ylim(-1,1)\n",
    "plt.xlabel(\"PC{}\".format(1))\n",
    "plt.ylabel(\"PC{}\".format(2))\n",
    "plt.grid()\n",
    "myplot(x_new[:,0:2],np.transpose(pca.components_[0:2, :]))\n",
    "plt.show()"
   ]
  },
  {
   "cell_type": "code",
   "execution_count": 269,
   "metadata": {},
   "outputs": [
    {
     "data": {
      "text/plain": [
       "array([0.78763335, 0.21236665])"
      ]
     },
     "execution_count": 269,
     "metadata": {},
     "output_type": "execute_result"
    }
   ],
   "source": [
    "pca.explained_variance_ratio_\n"
   ]
  },
  {
   "cell_type": "code",
   "execution_count": 270,
   "metadata": {},
   "outputs": [
    {
     "name": "stdout",
     "output_type": "stream",
     "text": [
      "[[0.10716253 0.99424152]\n",
      " [0.99424152 0.10716253]]\n"
     ]
    }
   ],
   "source": [
    "print(abs(pca.components_))"
   ]
  },
  {
   "cell_type": "code",
   "execution_count": 24,
   "metadata": {},
   "outputs": [],
   "source": [
    "#Randomforest classification\n",
    "from sklearn.ensemble import RandomForestClassifier\n",
    "rf = RandomForestClassifier(n_estimators = 100, random_state = 1) # Instantiate model with 100 decision trees\n",
    "rf.fit(X_train, Y_train);#train model on training data"
   ]
  },
  {
   "cell_type": "code",
   "execution_count": 25,
   "metadata": {},
   "outputs": [
    {
     "name": "stdout",
     "output_type": "stream",
     "text": [
      "Mean Absolute Error: 2.07 degrees.\n"
     ]
    }
   ],
   "source": [
    "predictions = rf.predict(X_test) #make predictions on test data\n",
    "errors = abs(predictions - Y_test) #calculate absolute errors\n",
    "print('Mean Absolute Error:', round(np.mean(errors), 2), 'degrees.')"
   ]
  },
  {
   "cell_type": "code",
   "execution_count": 26,
   "metadata": {},
   "outputs": [
    {
     "name": "stdout",
     "output_type": "stream",
     "text": [
      "Accuracy: 66.67 %.\n"
     ]
    }
   ],
   "source": [
    "#calculating accuracy\n",
    "mape = 100 * (errors / Y_test) #calculate mean absolute percentage error mape\n",
    "accuracy = 100 - np.mean(mape)\n",
    "print('Accuracy:', round(accuracy, 2), '%.')"
   ]
  },
  {
   "cell_type": "code",
   "execution_count": 27,
   "metadata": {},
   "outputs": [
    {
     "data": {
      "text/plain": [
       "GaussianNB()"
      ]
     },
     "execution_count": 27,
     "metadata": {},
     "output_type": "execute_result"
    }
   ],
   "source": [
    "#Naive Bayes calssification\n",
    "from sklearn.naive_bayes import GaussianNB\n",
    "from sklearn.metrics import accuracy_score\n",
    "model = GaussianNB()\n",
    "model.fit(X_train,Y_train)"
   ]
  },
  {
   "cell_type": "code",
   "execution_count": 28,
   "metadata": {},
   "outputs": [],
   "source": [
    "Y_pred = model.predict(X_test)"
   ]
  },
  {
   "cell_type": "code",
   "execution_count": 29,
   "metadata": {},
   "outputs": [
    {
     "data": {
      "text/plain": [
       "17.11227141596929"
      ]
     },
     "execution_count": 29,
     "metadata": {},
     "output_type": "execute_result"
    }
   ],
   "source": [
    "accuracy = accuracy_score(Y_test,Y_pred)*100\n",
    "accuracy"
   ]
  },
  {
   "cell_type": "code",
   "execution_count": 42,
   "metadata": {},
   "outputs": [],
   "source": [
    "from sklearn import svm"
   ]
  },
  {
   "cell_type": "code",
   "execution_count": 43,
   "metadata": {},
   "outputs": [],
   "source": [
    "clf = svm.SVC(kernel='linear')"
   ]
  },
  {
   "cell_type": "code",
   "execution_count": null,
   "metadata": {},
   "outputs": [],
   "source": [
    "clf.fit(X_train,Y_train)"
   ]
  },
  {
   "cell_type": "code",
   "execution_count": null,
   "metadata": {},
   "outputs": [],
   "source": [
    "Y_pred = clf.predict(X_test)"
   ]
  },
  {
   "cell_type": "code",
   "execution_count": null,
   "metadata": {},
   "outputs": [],
   "source": [
    "from sklearn import metrics"
   ]
  },
  {
   "cell_type": "code",
   "execution_count": null,
   "metadata": {},
   "outputs": [],
   "source": [
    "print(\"accuracy:\", metrics.accuracy_score(Y_test,Y_pred))"
   ]
  },
  {
   "cell_type": "code",
   "execution_count": 39,
   "metadata": {},
   "outputs": [],
   "source": [
    "from sklearn.metrics import confusion_matrix\n",
    "from sklearn import tree, metrics\n",
    "from sklearn.tree import DecisionTreeClassifier \n",
    "from sklearn.metrics import accuracy_score \n",
    "from sklearn.metrics import classification_report"
   ]
  },
  {
   "cell_type": "code",
   "execution_count": 40,
   "metadata": {},
   "outputs": [
    {
     "data": {
      "text/plain": [
       "DecisionTreeClassifier(criterion='entropy', max_depth=5, random_state=0)"
      ]
     },
     "execution_count": 40,
     "metadata": {},
     "output_type": "execute_result"
    }
   ],
   "source": [
    "dtree = tree.DecisionTreeClassifier(criterion='entropy', max_depth=5,random_state=0)\n",
    "dtree.fit(X_train, Y_train)"
   ]
  },
  {
   "cell_type": "code",
   "execution_count": 41,
   "metadata": {},
   "outputs": [],
   "source": [
    "y_pred = dtree.predict(X_test)"
   ]
  },
  {
   "cell_type": "code",
   "execution_count": 42,
   "metadata": {},
   "outputs": [
    {
     "name": "stdout",
     "output_type": "stream",
     "text": [
      "Misclassified samples: 172979\n",
      "Accuracy: 0.18\n"
     ]
    }
   ],
   "source": [
    "count_misclassified = (Y_test != y_pred).sum()\n",
    "print('Misclassified samples: {}'.format(count_misclassified))\n",
    "accuracy = metrics.accuracy_score(Y_test, y_pred)\n",
    "print('Accuracy: {:.2f}'.format(accuracy))"
   ]
  },
  {
   "cell_type": "code",
   "execution_count": 5,
   "metadata": {},
   "outputs": [
    {
     "name": "stderr",
     "output_type": "stream",
     "text": [
      "Using TensorFlow backend.\n"
     ]
    }
   ],
   "source": [
    "from numpy import loadtxt\n",
    "from keras.models import Sequential\n",
    "from keras.layers import Dense\n",
    "import pandas as pd\n",
    "import matplotlib as plt\n",
    "import numpy as np\n",
    "import random\n",
    "import warnings"
   ]
  },
  {
   "cell_type": "code",
   "execution_count": 6,
   "metadata": {},
   "outputs": [
    {
     "name": "stdout",
     "output_type": "stream",
     "text": [
      "         year  race_eth  age_first_birth  current_hrt  menopaus  bmi_group  \\\n",
      "0        2005         1                0            0         1          9   \n",
      "1        2005         1                0            0         1          1   \n",
      "2        2005         1                0            0         1          2   \n",
      "3        2005         1                0            0         1          9   \n",
      "4        2005         1                1            0         1          4   \n",
      "...       ...       ...              ...          ...       ...        ...   \n",
      "1048570  2013         2                3            0         2          4   \n",
      "1048571  2013         2                3            0         2          1   \n",
      "1048572  2013         2                3            0         2          1   \n",
      "1048573  2013         2                3            0         2          2   \n",
      "1048574  2013         2                3            0         2          2   \n",
      "\n",
      "         biophx  BIRADS_breast_density  age_menarche  age  \\\n",
      "0             0                      2             0    1   \n",
      "1             0                      4             0    1   \n",
      "2             0                      4             0    1   \n",
      "3             0                      4             0    1   \n",
      "4             0                      4             0    1   \n",
      "...         ...                    ...           ...  ...   \n",
      "1048570       1                      1             1    9   \n",
      "1048571       0                      2             1    9   \n",
      "1048572       1                      2             1    9   \n",
      "1048573       0                      2             1    9   \n",
      "1048574       1                      2             1    9   \n",
      "\n",
      "         breast_cancer_history  first_degree_hx  \n",
      "0                            0                0  \n",
      "1                            0                0  \n",
      "2                            0                0  \n",
      "3                            0                0  \n",
      "4                            0                0  \n",
      "...                        ...              ...  \n",
      "1048570                      1                0  \n",
      "1048571                      0                0  \n",
      "1048572                      0                0  \n",
      "1048573                      0                0  \n",
      "1048574                      0                0  \n",
      "\n",
      "[1048575 rows x 12 columns]\n"
     ]
    }
   ],
   "source": [
    "#importing the dataset\n",
    "data = pd.read_csv(r'C:\\Users\\krish\\anaconda3\\csv\\combined_csv_nocount.csv')\n",
    "#data.head()\n",
    "print(data)\n",
    "X = data.iloc[:, [0,10]]\n",
    "Y = data.iloc[:, 11]"
   ]
  },
  {
   "cell_type": "code",
   "execution_count": 7,
   "metadata": {},
   "outputs": [],
   "source": [
    "# define the keras model\n",
    "model = Sequential()\n",
    "model.add(Dense(16, input_dim=2, activation='relu'))\n",
    "model.add(Dense(12, activation='relu'))\n",
    "model.add(Dense(1, activation='sigmoid'))"
   ]
  },
  {
   "cell_type": "code",
   "execution_count": 8,
   "metadata": {},
   "outputs": [],
   "source": [
    "#compile the keras model\n",
    "model.compile(loss='binary_crossentropy', optimizer='adam', metrics=['accuracy'])"
   ]
  },
  {
   "cell_type": "code",
   "execution_count": 13,
   "metadata": {},
   "outputs": [
    {
     "name": "stdout",
     "output_type": "stream",
     "text": [
      "Epoch 1/5\n",
      "1048575/1048575 [==============================] - 192s 183us/step - loss: -640083365.1096 - accuracy: 0.3367\n",
      "Epoch 2/5\n",
      "1048575/1048575 [==============================] - 226s 215us/step - loss: -844771259.7559 - accuracy: 0.3372\n",
      "Epoch 3/5\n",
      "1048575/1048575 [==============================] - 195s 186us/step - loss: -1088429160.4333 - accuracy: 0.3364\n",
      "Epoch 4/5\n",
      "1048575/1048575 [==============================] - 215s 205us/step - loss: -1376156316.6321 - accuracy: 0.3369\n",
      "Epoch 5/5\n",
      "1048575/1048575 [==============================] - 226s 216us/step - loss: -1709068518.5191 - accuracy: 0.3362\n"
     ]
    },
    {
     "data": {
      "text/plain": [
       "<keras.callbacks.callbacks.History at 0x184bf9d4f60>"
      ]
     },
     "execution_count": 13,
     "metadata": {},
     "output_type": "execute_result"
    }
   ],
   "source": [
    "# fit the keras model on the dataset\n",
    "model.fit(X, Y, epochs=5, batch_size=10)"
   ]
  },
  {
   "cell_type": "code",
   "execution_count": 14,
   "metadata": {},
   "outputs": [
    {
     "name": "stdout",
     "output_type": "stream",
     "text": [
      "1048575/1048575 [==============================] - 21s 20us/step\n",
      "Accuracy: 53.24\n"
     ]
    }
   ],
   "source": [
    "# evaluate the keras model\n",
    "_, accuracy = model.evaluate(X, Y)\n",
    "print('Accuracy: %.2f' % (accuracy*100))"
   ]
  },
  {
   "cell_type": "code",
   "execution_count": null,
   "metadata": {
    "collapsed": true
   },
   "outputs": [],
   "source": []
  }
 ],
 "metadata": {
  "kernelspec": {
   "display_name": "Python 3",
   "language": "python",
   "name": "python3"
  },
  "language_info": {
   "codemirror_mode": {
    "name": "ipython",
    "version": 3
   },
   "file_extension": ".py",
   "mimetype": "text/x-python",
   "name": "python",
   "nbconvert_exporter": "python",
   "pygments_lexer": "ipython3",
   "version": "3.6.10"
  }
 },
 "nbformat": 4,
 "nbformat_minor": 4
}
