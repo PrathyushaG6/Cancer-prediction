{
 "cells": [
  {
   "cell_type": "code",
   "execution_count": 1,
   "metadata": {},
   "outputs": [],
   "source": [
    "Dataset:2013-2017\n",
    "Number of Datapoints:506467\n",
    "Output feature: age"
   ]
  },
  {
   "cell_type": "code",
   "execution_count": 1,
   "metadata": {},
   "outputs": [],
   "source": [
    "#importing the libraries\n",
    "import pandas as pd\n",
    "import matplotlib as plt\n",
    "import numpy as np\n",
    "import random\n",
    "import warnings"
   ]
  },
  {
   "cell_type": "code",
   "execution_count": 4,
   "metadata": {},
   "outputs": [],
   "source": [
    "import os\n",
    "import glob\n",
    "import pandas as pd\n",
    "os.chdir(r\"C:\\Users\\krish\\anaconda3\\csv\")"
   ]
  },
  {
   "cell_type": "code",
   "execution_count": 8,
   "metadata": {},
   "outputs": [],
   "source": [
    "extension = 'csv'\n",
    "all_filenames = [i for i in glob.glob('*.{}'.format(extension))]"
   ]
  },
  {
   "cell_type": "code",
   "execution_count": 9,
   "metadata": {},
   "outputs": [],
   "source": [
    "#combine all files in the list\n",
    "combined_csv = pd.concat([pd.read_csv(f) for f in all_filenames ])\n",
    "#export to csv\n",
    "combined_csv.to_csv( \"combined_csv.csv\", index=False, encoding='utf-8-sig')"
   ]
  },
  {
   "cell_type": "code",
   "execution_count": 2,
   "metadata": {},
   "outputs": [
    {
     "name": "stdout",
     "output_type": "stream",
     "text": [
      "        year  race_eth  first_degree_hx  age_menarche  age_first_birth  \\\n",
      "0       2013         1                0             9                9   \n",
      "1       2013         1                0             9                9   \n",
      "2       2013         1                0             9                9   \n",
      "3       2013         1                0             9                9   \n",
      "4       2013         1                0             9                9   \n",
      "...      ...       ...              ...           ...              ...   \n",
      "506461  2017         9                9             9                9   \n",
      "506462  2017         9                9             9                9   \n",
      "506463  2017         9                9             9                9   \n",
      "506464  2017         9                9             9                9   \n",
      "506465  2017         9                9             9                9   \n",
      "\n",
      "        BIRADS_breast_density  current_hrt  menopaus  bmi_group  biophx  \\\n",
      "0                           9            0         2          2       1   \n",
      "1                           9            0         2          2       1   \n",
      "2                           9            0         2          3       0   \n",
      "3                           9            0         2          3       0   \n",
      "4                           9            0         2          3       1   \n",
      "...                       ...          ...       ...        ...     ...   \n",
      "506461                      1            9         2          9       1   \n",
      "506462                      2            0         2          9       0   \n",
      "506463                      2            9         2          9       9   \n",
      "506464                      3            0         2          9       0   \n",
      "506465                      3            9         2          9       9   \n",
      "\n",
      "        count  breast_cancer_history  age  \n",
      "0           4                      0    7  \n",
      "1           3                      1    7  \n",
      "2          16                      0    7  \n",
      "3           1                      9    7  \n",
      "4           3                      0    7  \n",
      "...       ...                    ...  ...  \n",
      "506461      1                      0   13  \n",
      "506462      1                      0   13  \n",
      "506463      1                      9   13  \n",
      "506464      1                      0   13  \n",
      "506465      1                      0   13  \n",
      "\n",
      "[506466 rows x 13 columns]\n"
     ]
    }
   ],
   "source": [
    "#importing the dataset\n",
    "data = pd.read_csv(r'C:\\Users\\krish\\anaconda3\\csv\\bcsc2013.csv')\n",
    "#data.head()\n",
    "print(data)\n",
    "X = data.iloc[:, [0,10]]\n",
    "Y = data.iloc[:, 11]"
   ]
  },
  {
   "cell_type": "code",
   "execution_count": 3,
   "metadata": {},
   "outputs": [
    {
     "data": {
      "text/html": [
       "<div>\n",
       "<style scoped>\n",
       "    .dataframe tbody tr th:only-of-type {\n",
       "        vertical-align: middle;\n",
       "    }\n",
       "\n",
       "    .dataframe tbody tr th {\n",
       "        vertical-align: top;\n",
       "    }\n",
       "\n",
       "    .dataframe thead th {\n",
       "        text-align: right;\n",
       "    }\n",
       "</style>\n",
       "<table border=\"1\" class=\"dataframe\">\n",
       "  <thead>\n",
       "    <tr style=\"text-align: right;\">\n",
       "      <th></th>\n",
       "      <th>year</th>\n",
       "      <th>race_eth</th>\n",
       "      <th>first_degree_hx</th>\n",
       "      <th>age_menarche</th>\n",
       "      <th>age_first_birth</th>\n",
       "      <th>BIRADS_breast_density</th>\n",
       "      <th>current_hrt</th>\n",
       "      <th>menopaus</th>\n",
       "      <th>bmi_group</th>\n",
       "      <th>biophx</th>\n",
       "      <th>breast_cancer_history</th>\n",
       "      <th>age</th>\n",
       "    </tr>\n",
       "  </thead>\n",
       "  <tbody>\n",
       "    <tr>\n",
       "      <th>0</th>\n",
       "      <td>False</td>\n",
       "      <td>False</td>\n",
       "      <td>False</td>\n",
       "      <td>False</td>\n",
       "      <td>False</td>\n",
       "      <td>False</td>\n",
       "      <td>False</td>\n",
       "      <td>False</td>\n",
       "      <td>False</td>\n",
       "      <td>False</td>\n",
       "      <td>False</td>\n",
       "      <td>False</td>\n",
       "    </tr>\n",
       "    <tr>\n",
       "      <th>1</th>\n",
       "      <td>False</td>\n",
       "      <td>False</td>\n",
       "      <td>False</td>\n",
       "      <td>False</td>\n",
       "      <td>False</td>\n",
       "      <td>False</td>\n",
       "      <td>False</td>\n",
       "      <td>False</td>\n",
       "      <td>False</td>\n",
       "      <td>False</td>\n",
       "      <td>False</td>\n",
       "      <td>False</td>\n",
       "    </tr>\n",
       "    <tr>\n",
       "      <th>2</th>\n",
       "      <td>False</td>\n",
       "      <td>False</td>\n",
       "      <td>False</td>\n",
       "      <td>False</td>\n",
       "      <td>False</td>\n",
       "      <td>False</td>\n",
       "      <td>False</td>\n",
       "      <td>False</td>\n",
       "      <td>False</td>\n",
       "      <td>False</td>\n",
       "      <td>False</td>\n",
       "      <td>False</td>\n",
       "    </tr>\n",
       "    <tr>\n",
       "      <th>3</th>\n",
       "      <td>False</td>\n",
       "      <td>False</td>\n",
       "      <td>False</td>\n",
       "      <td>False</td>\n",
       "      <td>False</td>\n",
       "      <td>False</td>\n",
       "      <td>False</td>\n",
       "      <td>False</td>\n",
       "      <td>False</td>\n",
       "      <td>False</td>\n",
       "      <td>False</td>\n",
       "      <td>False</td>\n",
       "    </tr>\n",
       "    <tr>\n",
       "      <th>4</th>\n",
       "      <td>False</td>\n",
       "      <td>False</td>\n",
       "      <td>False</td>\n",
       "      <td>False</td>\n",
       "      <td>False</td>\n",
       "      <td>False</td>\n",
       "      <td>False</td>\n",
       "      <td>False</td>\n",
       "      <td>False</td>\n",
       "      <td>False</td>\n",
       "      <td>False</td>\n",
       "      <td>False</td>\n",
       "    </tr>\n",
       "    <tr>\n",
       "      <th>...</th>\n",
       "      <td>...</td>\n",
       "      <td>...</td>\n",
       "      <td>...</td>\n",
       "      <td>...</td>\n",
       "      <td>...</td>\n",
       "      <td>...</td>\n",
       "      <td>...</td>\n",
       "      <td>...</td>\n",
       "      <td>...</td>\n",
       "      <td>...</td>\n",
       "      <td>...</td>\n",
       "      <td>...</td>\n",
       "    </tr>\n",
       "    <tr>\n",
       "      <th>506461</th>\n",
       "      <td>False</td>\n",
       "      <td>False</td>\n",
       "      <td>False</td>\n",
       "      <td>False</td>\n",
       "      <td>False</td>\n",
       "      <td>False</td>\n",
       "      <td>False</td>\n",
       "      <td>False</td>\n",
       "      <td>False</td>\n",
       "      <td>False</td>\n",
       "      <td>False</td>\n",
       "      <td>False</td>\n",
       "    </tr>\n",
       "    <tr>\n",
       "      <th>506462</th>\n",
       "      <td>False</td>\n",
       "      <td>False</td>\n",
       "      <td>False</td>\n",
       "      <td>False</td>\n",
       "      <td>False</td>\n",
       "      <td>False</td>\n",
       "      <td>False</td>\n",
       "      <td>False</td>\n",
       "      <td>False</td>\n",
       "      <td>False</td>\n",
       "      <td>False</td>\n",
       "      <td>False</td>\n",
       "    </tr>\n",
       "    <tr>\n",
       "      <th>506463</th>\n",
       "      <td>False</td>\n",
       "      <td>False</td>\n",
       "      <td>False</td>\n",
       "      <td>False</td>\n",
       "      <td>False</td>\n",
       "      <td>False</td>\n",
       "      <td>False</td>\n",
       "      <td>False</td>\n",
       "      <td>False</td>\n",
       "      <td>False</td>\n",
       "      <td>False</td>\n",
       "      <td>False</td>\n",
       "    </tr>\n",
       "    <tr>\n",
       "      <th>506464</th>\n",
       "      <td>False</td>\n",
       "      <td>False</td>\n",
       "      <td>False</td>\n",
       "      <td>False</td>\n",
       "      <td>False</td>\n",
       "      <td>False</td>\n",
       "      <td>False</td>\n",
       "      <td>False</td>\n",
       "      <td>False</td>\n",
       "      <td>False</td>\n",
       "      <td>False</td>\n",
       "      <td>False</td>\n",
       "    </tr>\n",
       "    <tr>\n",
       "      <th>506465</th>\n",
       "      <td>False</td>\n",
       "      <td>False</td>\n",
       "      <td>False</td>\n",
       "      <td>False</td>\n",
       "      <td>False</td>\n",
       "      <td>False</td>\n",
       "      <td>False</td>\n",
       "      <td>False</td>\n",
       "      <td>False</td>\n",
       "      <td>False</td>\n",
       "      <td>False</td>\n",
       "      <td>False</td>\n",
       "    </tr>\n",
       "  </tbody>\n",
       "</table>\n",
       "<p>506466 rows × 12 columns</p>\n",
       "</div>"
      ],
      "text/plain": [
       "         year  race_eth  first_degree_hx  age_menarche  age_first_birth  \\\n",
       "0       False     False            False         False            False   \n",
       "1       False     False            False         False            False   \n",
       "2       False     False            False         False            False   \n",
       "3       False     False            False         False            False   \n",
       "4       False     False            False         False            False   \n",
       "...       ...       ...              ...           ...              ...   \n",
       "506461  False     False            False         False            False   \n",
       "506462  False     False            False         False            False   \n",
       "506463  False     False            False         False            False   \n",
       "506464  False     False            False         False            False   \n",
       "506465  False     False            False         False            False   \n",
       "\n",
       "        BIRADS_breast_density  current_hrt  menopaus  bmi_group  biophx  \\\n",
       "0                       False        False     False      False   False   \n",
       "1                       False        False     False      False   False   \n",
       "2                       False        False     False      False   False   \n",
       "3                       False        False     False      False   False   \n",
       "4                       False        False     False      False   False   \n",
       "...                       ...          ...       ...        ...     ...   \n",
       "506461                  False        False     False      False   False   \n",
       "506462                  False        False     False      False   False   \n",
       "506463                  False        False     False      False   False   \n",
       "506464                  False        False     False      False   False   \n",
       "506465                  False        False     False      False   False   \n",
       "\n",
       "        breast_cancer_history    age  \n",
       "0                       False  False  \n",
       "1                       False  False  \n",
       "2                       False  False  \n",
       "3                       False  False  \n",
       "4                       False  False  \n",
       "...                       ...    ...  \n",
       "506461                  False  False  \n",
       "506462                  False  False  \n",
       "506463                  False  False  \n",
       "506464                  False  False  \n",
       "506465                  False  False  \n",
       "\n",
       "[506466 rows x 12 columns]"
      ]
     },
     "execution_count": 3,
     "metadata": {},
     "output_type": "execute_result"
    }
   ],
   "source": [
    "#find missing values,if any\n",
    "data.isnull()"
   ]
  },
  {
   "cell_type": "code",
   "execution_count": 5,
   "metadata": {},
   "outputs": [
    {
     "name": "stdout",
     "output_type": "stream",
     "text": [
      "year - 0%\n",
      "race_eth - 0%\n",
      "first_degree_hx - 0%\n",
      "age_menarche - 0%\n",
      "age_first_birth - 0%\n",
      "BIRADS_breast_density - 0%\n",
      "current_hrt - 0%\n",
      "menopaus - 0%\n",
      "bmi_group - 0%\n",
      "biophx - 0%\n",
      "count - 0%\n",
      "breast_cancer_history - 0%\n",
      "age - 0%\n"
     ]
    }
   ],
   "source": [
    "#Missing Data Percentage List\n",
    "for col in data.columns:\n",
    "    pct_missing = np.mean(data[col].isnull())\n",
    "    print('{} - {}%'.format(col, round(pct_missing*100)))"
   ]
  },
  {
   "cell_type": "code",
   "execution_count": 6,
   "metadata": {},
   "outputs": [
    {
     "name": "stdout",
     "output_type": "stream",
     "text": [
      "(506466, 13)\n"
     ]
    }
   ],
   "source": [
    "#removing duplicate rows\n",
    "data1 = data.drop_duplicates()\n",
    "print(data1.shape)"
   ]
  },
  {
   "cell_type": "code",
   "execution_count": 7,
   "metadata": {},
   "outputs": [
    {
     "name": "stdout",
     "output_type": "stream",
     "text": [
      "        year  race_eth  first_degree_hx  age_menarche  age_first_birth  \\\n",
      "0       2013         1                0             9                9   \n",
      "1       2013         1                0             9                9   \n",
      "2       2013         1                0             9                9   \n",
      "3       2013         1                0             9                9   \n",
      "4       2013         1                0             9                9   \n",
      "...      ...       ...              ...           ...              ...   \n",
      "506461  2017         9                9             9                9   \n",
      "506462  2017         9                9             9                9   \n",
      "506463  2017         9                9             9                9   \n",
      "506464  2017         9                9             9                9   \n",
      "506465  2017         9                9             9                9   \n",
      "\n",
      "        BIRADS_breast_density  current_hrt  menopaus  bmi_group  biophx  \\\n",
      "0                           9            0         2          2       1   \n",
      "1                           9            0         2          2       1   \n",
      "2                           9            0         2          3       0   \n",
      "3                           9            0         2          3       0   \n",
      "4                           9            0         2          3       1   \n",
      "...                       ...          ...       ...        ...     ...   \n",
      "506461                      1            9         2          9       1   \n",
      "506462                      2            0         2          9       0   \n",
      "506463                      2            9         2          9       9   \n",
      "506464                      3            0         2          9       0   \n",
      "506465                      3            9         2          9       9   \n",
      "\n",
      "        count  breast_cancer_history  age  \n",
      "0           4                      0    7  \n",
      "1           3                      1    7  \n",
      "2          16                      0    7  \n",
      "3           1                      9    7  \n",
      "4           3                      0    7  \n",
      "...       ...                    ...  ...  \n",
      "506461      1                      0   13  \n",
      "506462      1                      0   13  \n",
      "506463      1                      9   13  \n",
      "506464      1                      0   13  \n",
      "506465      1                      0   13  \n",
      "\n",
      "[506466 rows x 13 columns]\n"
     ]
    }
   ],
   "source": [
    "print(data)"
   ]
  },
  {
   "cell_type": "code",
   "execution_count": 8,
   "metadata": {},
   "outputs": [
    {
     "data": {
      "text/plain": [
       "year                     int64\n",
       "race_eth                 int64\n",
       "first_degree_hx          int64\n",
       "age_menarche             int64\n",
       "age_first_birth          int64\n",
       "BIRADS_breast_density    int64\n",
       "current_hrt              int64\n",
       "menopaus                 int64\n",
       "bmi_group                int64\n",
       "biophx                   int64\n",
       "count                    int64\n",
       "breast_cancer_history    int64\n",
       "age                      int64\n",
       "dtype: object"
      ]
     },
     "execution_count": 8,
     "metadata": {},
     "output_type": "execute_result"
    }
   ],
   "source": [
    "data.dtypes"
   ]
  },
  {
   "cell_type": "code",
   "execution_count": 4,
   "metadata": {},
   "outputs": [
    {
     "data": {
      "text/plain": [
       "array([ 7,  8,  9, 10, 11, 12, 13,  1,  2,  3,  4,  5,  6], dtype=int64)"
      ]
     },
     "execution_count": 4,
     "metadata": {},
     "output_type": "execute_result"
    }
   ],
   "source": [
    "data.age.unique()"
   ]
  },
  {
   "cell_type": "code",
   "execution_count": 5,
   "metadata": {},
   "outputs": [
    {
     "data": {
      "text/plain": [
       "7     89019\n",
       "6     70841\n",
       "8     62206\n",
       "9     59652\n",
       "5     49942\n",
       "10    48966\n",
       "11    34689\n",
       "4     34495\n",
       "12    22795\n",
       "13    14557\n",
       "3     12084\n",
       "2      5793\n",
       "1      1427\n",
       "Name: age, dtype: int64"
      ]
     },
     "execution_count": 5,
     "metadata": {},
     "output_type": "execute_result"
    }
   ],
   "source": [
    "data.age.value_counts()"
   ]
  },
  {
   "cell_type": "code",
   "execution_count": 6,
   "metadata": {},
   "outputs": [
    {
     "data": {
      "text/plain": [
       "0         group2\n",
       "1         group2\n",
       "2         group2\n",
       "3         group2\n",
       "4         group2\n",
       "           ...  \n",
       "506461    group3\n",
       "506462    group3\n",
       "506463    group3\n",
       "506464    group3\n",
       "506465    group3\n",
       "Name: age, Length: 506466, dtype: category\n",
       "Categories (3, object): ['group1' < 'group2' < 'group3']"
      ]
     },
     "execution_count": 6,
     "metadata": {},
     "output_type": "execute_result"
    }
   ],
   "source": [
    "label_numbers = ['group1', 'group2', 'group3']\n",
    "cut_bins = [0, 4, 8, 13]\n",
    "age_groups = pd.cut(data['age'], bins=cut_bins, labels=label_numbers)\n",
    "age_groups"
   ]
  },
  {
   "cell_type": "code",
   "execution_count": 7,
   "metadata": {},
   "outputs": [
    {
     "data": {
      "text/plain": [
       "group2    272008\n",
       "group3    180659\n",
       "group1     53799\n",
       "Name: age, dtype: int64"
      ]
     },
     "execution_count": 7,
     "metadata": {},
     "output_type": "execute_result"
    }
   ],
   "source": [
    "age_groups.value_counts()\n",
    "#pd.cut(data['age_groups'],bins=3).value_counts()"
   ]
  },
  {
   "cell_type": "code",
   "execution_count": 8,
   "metadata": {},
   "outputs": [
    {
     "data": {
      "text/html": [
       "<div>\n",
       "<style scoped>\n",
       "    .dataframe tbody tr th:only-of-type {\n",
       "        vertical-align: middle;\n",
       "    }\n",
       "\n",
       "    .dataframe tbody tr th {\n",
       "        vertical-align: top;\n",
       "    }\n",
       "\n",
       "    .dataframe thead th {\n",
       "        text-align: right;\n",
       "    }\n",
       "</style>\n",
       "<table border=\"1\" class=\"dataframe\">\n",
       "  <thead>\n",
       "    <tr style=\"text-align: right;\">\n",
       "      <th></th>\n",
       "      <th>year</th>\n",
       "      <th>race_eth</th>\n",
       "      <th>first_degree_hx</th>\n",
       "      <th>age_menarche</th>\n",
       "      <th>age_first_birth</th>\n",
       "      <th>BIRADS_breast_density</th>\n",
       "      <th>current_hrt</th>\n",
       "      <th>menopaus</th>\n",
       "      <th>bmi_group</th>\n",
       "      <th>biophx</th>\n",
       "      <th>breast_cancer_history</th>\n",
       "      <th>age</th>\n",
       "      <th>age_subgroups</th>\n",
       "    </tr>\n",
       "  </thead>\n",
       "  <tbody>\n",
       "    <tr>\n",
       "      <th>0</th>\n",
       "      <td>2013</td>\n",
       "      <td>1</td>\n",
       "      <td>0</td>\n",
       "      <td>9</td>\n",
       "      <td>9</td>\n",
       "      <td>9</td>\n",
       "      <td>0</td>\n",
       "      <td>2</td>\n",
       "      <td>2</td>\n",
       "      <td>1</td>\n",
       "      <td>0</td>\n",
       "      <td>7</td>\n",
       "      <td>group2</td>\n",
       "    </tr>\n",
       "    <tr>\n",
       "      <th>1</th>\n",
       "      <td>2013</td>\n",
       "      <td>1</td>\n",
       "      <td>0</td>\n",
       "      <td>9</td>\n",
       "      <td>9</td>\n",
       "      <td>9</td>\n",
       "      <td>0</td>\n",
       "      <td>2</td>\n",
       "      <td>2</td>\n",
       "      <td>1</td>\n",
       "      <td>1</td>\n",
       "      <td>7</td>\n",
       "      <td>group2</td>\n",
       "    </tr>\n",
       "    <tr>\n",
       "      <th>2</th>\n",
       "      <td>2013</td>\n",
       "      <td>1</td>\n",
       "      <td>0</td>\n",
       "      <td>9</td>\n",
       "      <td>9</td>\n",
       "      <td>9</td>\n",
       "      <td>0</td>\n",
       "      <td>2</td>\n",
       "      <td>3</td>\n",
       "      <td>0</td>\n",
       "      <td>0</td>\n",
       "      <td>7</td>\n",
       "      <td>group2</td>\n",
       "    </tr>\n",
       "    <tr>\n",
       "      <th>3</th>\n",
       "      <td>2013</td>\n",
       "      <td>1</td>\n",
       "      <td>0</td>\n",
       "      <td>9</td>\n",
       "      <td>9</td>\n",
       "      <td>9</td>\n",
       "      <td>0</td>\n",
       "      <td>2</td>\n",
       "      <td>3</td>\n",
       "      <td>0</td>\n",
       "      <td>9</td>\n",
       "      <td>7</td>\n",
       "      <td>group2</td>\n",
       "    </tr>\n",
       "    <tr>\n",
       "      <th>4</th>\n",
       "      <td>2013</td>\n",
       "      <td>1</td>\n",
       "      <td>0</td>\n",
       "      <td>9</td>\n",
       "      <td>9</td>\n",
       "      <td>9</td>\n",
       "      <td>0</td>\n",
       "      <td>2</td>\n",
       "      <td>3</td>\n",
       "      <td>1</td>\n",
       "      <td>0</td>\n",
       "      <td>7</td>\n",
       "      <td>group2</td>\n",
       "    </tr>\n",
       "    <tr>\n",
       "      <th>...</th>\n",
       "      <td>...</td>\n",
       "      <td>...</td>\n",
       "      <td>...</td>\n",
       "      <td>...</td>\n",
       "      <td>...</td>\n",
       "      <td>...</td>\n",
       "      <td>...</td>\n",
       "      <td>...</td>\n",
       "      <td>...</td>\n",
       "      <td>...</td>\n",
       "      <td>...</td>\n",
       "      <td>...</td>\n",
       "      <td>...</td>\n",
       "    </tr>\n",
       "    <tr>\n",
       "      <th>506461</th>\n",
       "      <td>2017</td>\n",
       "      <td>9</td>\n",
       "      <td>9</td>\n",
       "      <td>9</td>\n",
       "      <td>9</td>\n",
       "      <td>1</td>\n",
       "      <td>9</td>\n",
       "      <td>2</td>\n",
       "      <td>9</td>\n",
       "      <td>1</td>\n",
       "      <td>0</td>\n",
       "      <td>13</td>\n",
       "      <td>group3</td>\n",
       "    </tr>\n",
       "    <tr>\n",
       "      <th>506462</th>\n",
       "      <td>2017</td>\n",
       "      <td>9</td>\n",
       "      <td>9</td>\n",
       "      <td>9</td>\n",
       "      <td>9</td>\n",
       "      <td>2</td>\n",
       "      <td>0</td>\n",
       "      <td>2</td>\n",
       "      <td>9</td>\n",
       "      <td>0</td>\n",
       "      <td>0</td>\n",
       "      <td>13</td>\n",
       "      <td>group3</td>\n",
       "    </tr>\n",
       "    <tr>\n",
       "      <th>506463</th>\n",
       "      <td>2017</td>\n",
       "      <td>9</td>\n",
       "      <td>9</td>\n",
       "      <td>9</td>\n",
       "      <td>9</td>\n",
       "      <td>2</td>\n",
       "      <td>9</td>\n",
       "      <td>2</td>\n",
       "      <td>9</td>\n",
       "      <td>9</td>\n",
       "      <td>9</td>\n",
       "      <td>13</td>\n",
       "      <td>group3</td>\n",
       "    </tr>\n",
       "    <tr>\n",
       "      <th>506464</th>\n",
       "      <td>2017</td>\n",
       "      <td>9</td>\n",
       "      <td>9</td>\n",
       "      <td>9</td>\n",
       "      <td>9</td>\n",
       "      <td>3</td>\n",
       "      <td>0</td>\n",
       "      <td>2</td>\n",
       "      <td>9</td>\n",
       "      <td>0</td>\n",
       "      <td>0</td>\n",
       "      <td>13</td>\n",
       "      <td>group3</td>\n",
       "    </tr>\n",
       "    <tr>\n",
       "      <th>506465</th>\n",
       "      <td>2017</td>\n",
       "      <td>9</td>\n",
       "      <td>9</td>\n",
       "      <td>9</td>\n",
       "      <td>9</td>\n",
       "      <td>3</td>\n",
       "      <td>9</td>\n",
       "      <td>2</td>\n",
       "      <td>9</td>\n",
       "      <td>9</td>\n",
       "      <td>0</td>\n",
       "      <td>13</td>\n",
       "      <td>group3</td>\n",
       "    </tr>\n",
       "  </tbody>\n",
       "</table>\n",
       "<p>506466 rows × 13 columns</p>\n",
       "</div>"
      ],
      "text/plain": [
       "        year  race_eth  first_degree_hx  age_menarche  age_first_birth  \\\n",
       "0       2013         1                0             9                9   \n",
       "1       2013         1                0             9                9   \n",
       "2       2013         1                0             9                9   \n",
       "3       2013         1                0             9                9   \n",
       "4       2013         1                0             9                9   \n",
       "...      ...       ...              ...           ...              ...   \n",
       "506461  2017         9                9             9                9   \n",
       "506462  2017         9                9             9                9   \n",
       "506463  2017         9                9             9                9   \n",
       "506464  2017         9                9             9                9   \n",
       "506465  2017         9                9             9                9   \n",
       "\n",
       "        BIRADS_breast_density  current_hrt  menopaus  bmi_group  biophx  \\\n",
       "0                           9            0         2          2       1   \n",
       "1                           9            0         2          2       1   \n",
       "2                           9            0         2          3       0   \n",
       "3                           9            0         2          3       0   \n",
       "4                           9            0         2          3       1   \n",
       "...                       ...          ...       ...        ...     ...   \n",
       "506461                      1            9         2          9       1   \n",
       "506462                      2            0         2          9       0   \n",
       "506463                      2            9         2          9       9   \n",
       "506464                      3            0         2          9       0   \n",
       "506465                      3            9         2          9       9   \n",
       "\n",
       "        breast_cancer_history  age age_subgroups  \n",
       "0                           0    7        group2  \n",
       "1                           1    7        group2  \n",
       "2                           0    7        group2  \n",
       "3                           9    7        group2  \n",
       "4                           0    7        group2  \n",
       "...                       ...  ...           ...  \n",
       "506461                      0   13        group3  \n",
       "506462                      0   13        group3  \n",
       "506463                      9   13        group3  \n",
       "506464                      0   13        group3  \n",
       "506465                      0   13        group3  \n",
       "\n",
       "[506466 rows x 13 columns]"
      ]
     },
     "execution_count": 8,
     "metadata": {},
     "output_type": "execute_result"
    }
   ],
   "source": [
    "df = pd.DataFrame(data)\n",
    "df['age_subgroups'] = age_groups\n",
    "df"
   ]
  },
  {
   "cell_type": "code",
   "execution_count": 14,
   "metadata": {},
   "outputs": [],
   "source": [
    "#ownloading the updated csv file to local desktop\n",
    "df.to_csv(r\"C:\\Users\\krish\\anaconda3\\csv\\updated2013.csv\")"
   ]
  },
  {
   "cell_type": "code",
   "execution_count": 3,
   "metadata": {},
   "outputs": [],
   "source": [
    "#pre processing the data\n",
    "from sklearn.preprocessing import MinMaxScaler\n",
    "scaler = MinMaxScaler(feature_range=(-1, 1)).fit(X)\n",
    "X = scaler.fit_transform(X)"
   ]
  },
  {
   "cell_type": "code",
   "execution_count": 4,
   "metadata": {},
   "outputs": [],
   "source": [
    "#shuffling the data\n",
    "data = data.sample(frac=1).reset_index(drop=True)"
   ]
  },
  {
   "cell_type": "code",
   "execution_count": 11,
   "metadata": {},
   "outputs": [
    {
     "data": {
      "text/html": [
       "<div>\n",
       "<style scoped>\n",
       "    .dataframe tbody tr th:only-of-type {\n",
       "        vertical-align: middle;\n",
       "    }\n",
       "\n",
       "    .dataframe tbody tr th {\n",
       "        vertical-align: top;\n",
       "    }\n",
       "\n",
       "    .dataframe thead th {\n",
       "        text-align: right;\n",
       "    }\n",
       "</style>\n",
       "<table border=\"1\" class=\"dataframe\">\n",
       "  <thead>\n",
       "    <tr style=\"text-align: right;\">\n",
       "      <th></th>\n",
       "      <th>year</th>\n",
       "      <th>race_eth</th>\n",
       "      <th>first_degree_hx</th>\n",
       "      <th>age_menarche</th>\n",
       "      <th>age_first_birth</th>\n",
       "      <th>BIRADS_breast_density</th>\n",
       "      <th>current_hrt</th>\n",
       "      <th>menopaus</th>\n",
       "      <th>bmi_group</th>\n",
       "      <th>biophx</th>\n",
       "      <th>breast_cancer_history</th>\n",
       "      <th>age</th>\n",
       "      <th>age_subgroups</th>\n",
       "    </tr>\n",
       "  </thead>\n",
       "  <tbody>\n",
       "    <tr>\n",
       "      <th>0</th>\n",
       "      <td>2016</td>\n",
       "      <td>1</td>\n",
       "      <td>0</td>\n",
       "      <td>2</td>\n",
       "      <td>1</td>\n",
       "      <td>2</td>\n",
       "      <td>9</td>\n",
       "      <td>3</td>\n",
       "      <td>4</td>\n",
       "      <td>0</td>\n",
       "      <td>9</td>\n",
       "      <td>7</td>\n",
       "      <td>group2</td>\n",
       "    </tr>\n",
       "    <tr>\n",
       "      <th>1</th>\n",
       "      <td>2016</td>\n",
       "      <td>3</td>\n",
       "      <td>0</td>\n",
       "      <td>9</td>\n",
       "      <td>9</td>\n",
       "      <td>2</td>\n",
       "      <td>0</td>\n",
       "      <td>1</td>\n",
       "      <td>3</td>\n",
       "      <td>9</td>\n",
       "      <td>0</td>\n",
       "      <td>7</td>\n",
       "      <td>group2</td>\n",
       "    </tr>\n",
       "    <tr>\n",
       "      <th>2</th>\n",
       "      <td>2015</td>\n",
       "      <td>1</td>\n",
       "      <td>0</td>\n",
       "      <td>9</td>\n",
       "      <td>9</td>\n",
       "      <td>1</td>\n",
       "      <td>0</td>\n",
       "      <td>9</td>\n",
       "      <td>4</td>\n",
       "      <td>0</td>\n",
       "      <td>0</td>\n",
       "      <td>5</td>\n",
       "      <td>group2</td>\n",
       "    </tr>\n",
       "    <tr>\n",
       "      <th>3</th>\n",
       "      <td>2014</td>\n",
       "      <td>6</td>\n",
       "      <td>0</td>\n",
       "      <td>9</td>\n",
       "      <td>3</td>\n",
       "      <td>2</td>\n",
       "      <td>0</td>\n",
       "      <td>2</td>\n",
       "      <td>4</td>\n",
       "      <td>0</td>\n",
       "      <td>0</td>\n",
       "      <td>8</td>\n",
       "      <td>group2</td>\n",
       "    </tr>\n",
       "    <tr>\n",
       "      <th>4</th>\n",
       "      <td>2014</td>\n",
       "      <td>6</td>\n",
       "      <td>1</td>\n",
       "      <td>9</td>\n",
       "      <td>3</td>\n",
       "      <td>3</td>\n",
       "      <td>0</td>\n",
       "      <td>2</td>\n",
       "      <td>1</td>\n",
       "      <td>0</td>\n",
       "      <td>0</td>\n",
       "      <td>6</td>\n",
       "      <td>group2</td>\n",
       "    </tr>\n",
       "  </tbody>\n",
       "</table>\n",
       "</div>"
      ],
      "text/plain": [
       "   year  race_eth  first_degree_hx  age_menarche  age_first_birth  \\\n",
       "0  2016         1                0             2                1   \n",
       "1  2016         3                0             9                9   \n",
       "2  2015         1                0             9                9   \n",
       "3  2014         6                0             9                3   \n",
       "4  2014         6                1             9                3   \n",
       "\n",
       "   BIRADS_breast_density  current_hrt  menopaus  bmi_group  biophx  \\\n",
       "0                      2            9         3          4       0   \n",
       "1                      2            0         1          3       9   \n",
       "2                      1            0         9          4       0   \n",
       "3                      2            0         2          4       0   \n",
       "4                      3            0         2          1       0   \n",
       "\n",
       "   breast_cancer_history  age age_subgroups  \n",
       "0                      9    7        group2  \n",
       "1                      0    7        group2  \n",
       "2                      0    5        group2  \n",
       "3                      0    8        group2  \n",
       "4                      0    6        group2  "
      ]
     },
     "execution_count": 11,
     "metadata": {},
     "output_type": "execute_result"
    }
   ],
   "source": [
    "data.head()"
   ]
  },
  {
   "cell_type": "code",
   "execution_count": 5,
   "metadata": {},
   "outputs": [
    {
     "name": "stdout",
     "output_type": "stream",
     "text": [
      "(405172, 2) (405172,)\n",
      "(101294, 2) (101294,)\n"
     ]
    }
   ],
   "source": [
    "#Splitting the dataset into the Training set and Test set to 80 and 20\n",
    "from sklearn.model_selection import train_test_split\n",
    "X_train, X_test, Y_train, Y_test = train_test_split(X, Y, test_size = 0.2, random_state = 123)\n",
    "print (X_train.shape , Y_train.shape)\n",
    "print (X_test.shape, Y_test.shape)"
   ]
  },
  {
   "cell_type": "code",
   "execution_count": 13,
   "metadata": {},
   "outputs": [
    {
     "data": {
      "text/html": [
       "<div>\n",
       "<style scoped>\n",
       "    .dataframe tbody tr th:only-of-type {\n",
       "        vertical-align: middle;\n",
       "    }\n",
       "\n",
       "    .dataframe tbody tr th {\n",
       "        vertical-align: top;\n",
       "    }\n",
       "\n",
       "    .dataframe thead th {\n",
       "        text-align: right;\n",
       "    }\n",
       "</style>\n",
       "<table border=\"1\" class=\"dataframe\">\n",
       "  <thead>\n",
       "    <tr style=\"text-align: right;\">\n",
       "      <th></th>\n",
       "      <th>year</th>\n",
       "      <th>race_eth</th>\n",
       "      <th>first_degree_hx</th>\n",
       "      <th>age_menarche</th>\n",
       "      <th>age_first_birth</th>\n",
       "      <th>BIRADS_breast_density</th>\n",
       "      <th>current_hrt</th>\n",
       "      <th>menopaus</th>\n",
       "      <th>bmi_group</th>\n",
       "      <th>biophx</th>\n",
       "      <th>breast_cancer_history</th>\n",
       "      <th>age</th>\n",
       "      <th>age_subgroups</th>\n",
       "    </tr>\n",
       "  </thead>\n",
       "  <tbody>\n",
       "    <tr>\n",
       "      <th>506461</th>\n",
       "      <td>2016</td>\n",
       "      <td>1</td>\n",
       "      <td>0</td>\n",
       "      <td>9</td>\n",
       "      <td>9</td>\n",
       "      <td>3</td>\n",
       "      <td>9</td>\n",
       "      <td>2</td>\n",
       "      <td>4</td>\n",
       "      <td>9</td>\n",
       "      <td>9</td>\n",
       "      <td>8</td>\n",
       "      <td>group2</td>\n",
       "    </tr>\n",
       "    <tr>\n",
       "      <th>506462</th>\n",
       "      <td>2013</td>\n",
       "      <td>1</td>\n",
       "      <td>1</td>\n",
       "      <td>1</td>\n",
       "      <td>3</td>\n",
       "      <td>3</td>\n",
       "      <td>9</td>\n",
       "      <td>2</td>\n",
       "      <td>2</td>\n",
       "      <td>9</td>\n",
       "      <td>9</td>\n",
       "      <td>13</td>\n",
       "      <td>group3</td>\n",
       "    </tr>\n",
       "    <tr>\n",
       "      <th>506463</th>\n",
       "      <td>2017</td>\n",
       "      <td>1</td>\n",
       "      <td>0</td>\n",
       "      <td>2</td>\n",
       "      <td>9</td>\n",
       "      <td>4</td>\n",
       "      <td>0</td>\n",
       "      <td>2</td>\n",
       "      <td>9</td>\n",
       "      <td>1</td>\n",
       "      <td>0</td>\n",
       "      <td>8</td>\n",
       "      <td>group2</td>\n",
       "    </tr>\n",
       "    <tr>\n",
       "      <th>506464</th>\n",
       "      <td>2014</td>\n",
       "      <td>1</td>\n",
       "      <td>0</td>\n",
       "      <td>0</td>\n",
       "      <td>2</td>\n",
       "      <td>9</td>\n",
       "      <td>9</td>\n",
       "      <td>2</td>\n",
       "      <td>9</td>\n",
       "      <td>9</td>\n",
       "      <td>9</td>\n",
       "      <td>10</td>\n",
       "      <td>group3</td>\n",
       "    </tr>\n",
       "    <tr>\n",
       "      <th>506465</th>\n",
       "      <td>2015</td>\n",
       "      <td>1</td>\n",
       "      <td>0</td>\n",
       "      <td>9</td>\n",
       "      <td>4</td>\n",
       "      <td>3</td>\n",
       "      <td>0</td>\n",
       "      <td>2</td>\n",
       "      <td>1</td>\n",
       "      <td>0</td>\n",
       "      <td>0</td>\n",
       "      <td>4</td>\n",
       "      <td>group1</td>\n",
       "    </tr>\n",
       "  </tbody>\n",
       "</table>\n",
       "</div>"
      ],
      "text/plain": [
       "        year  race_eth  first_degree_hx  age_menarche  age_first_birth  \\\n",
       "506461  2016         1                0             9                9   \n",
       "506462  2013         1                1             1                3   \n",
       "506463  2017         1                0             2                9   \n",
       "506464  2014         1                0             0                2   \n",
       "506465  2015         1                0             9                4   \n",
       "\n",
       "        BIRADS_breast_density  current_hrt  menopaus  bmi_group  biophx  \\\n",
       "506461                      3            9         2          4       9   \n",
       "506462                      3            9         2          2       9   \n",
       "506463                      4            0         2          9       1   \n",
       "506464                      9            9         2          9       9   \n",
       "506465                      3            0         2          1       0   \n",
       "\n",
       "        breast_cancer_history  age age_subgroups  \n",
       "506461                      9    8        group2  \n",
       "506462                      9   13        group3  \n",
       "506463                      0    8        group2  \n",
       "506464                      9   10        group3  \n",
       "506465                      0    4        group1  "
      ]
     },
     "execution_count": 13,
     "metadata": {},
     "output_type": "execute_result"
    }
   ],
   "source": [
    "data.tail()"
   ]
  },
  {
   "cell_type": "code",
   "execution_count": 14,
   "metadata": {},
   "outputs": [
    {
     "name": "stdout",
     "output_type": "stream",
     "text": [
      "Train Set                                            Test Set         \n",
      "[     0      1      2 ... 506462 506464 506465] [     6      7     24 ... 506449 506461 506463]\n",
      "[     0      1      3 ... 506462 506463 506464] [     2     26     39 ... 506442 506448 506465]\n",
      "[     0      1      2 ... 506463 506464 506465] [    11     28     35 ... 506395 506446 506455]\n",
      "[     1      2      3 ... 506462 506463 506465] [     0     16     17 ... 506452 506454 506464]\n",
      "[     0      1      2 ... 506463 506464 506465] [    10     12     20 ... 506420 506433 506457]\n",
      "[     0      1      2 ... 506463 506464 506465] [     4     29     38 ... 506447 506456 506462]\n",
      "[     0      2      3 ... 506463 506464 506465] [     1      8      9 ... 506429 506445 506451]\n",
      "[     0      1      2 ... 506463 506464 506465] [     3     14     23 ... 506443 506450 506459]\n",
      "[     0      1      2 ... 506463 506464 506465] [    13     19     25 ... 506392 506402 506421]\n",
      "[     0      1      2 ... 506463 506464 506465] [     5     15     18 ... 506453 506458 506460]\n"
     ]
    }
   ],
   "source": [
    "#ignore all caught warnings   \n",
    "with warnings.catch_warnings():\n",
    "    warnings.filterwarnings(\"ignore\")\n",
    "\n",
    "from sklearn.model_selection import KFold\n",
    "from sklearn.svm import SVR\n",
    "from sklearn.model_selection import cross_val_score\n",
    "cv = KFold(n_splits=10, random_state=42, shuffle=True)\n",
    "print (\"Train Set                                            Test Set         \")\n",
    "for train_set,test_set in cv.split(X):\n",
    "    print(train_set , test_set)"
   ]
  },
  {
   "cell_type": "code",
   "execution_count": 15,
   "metadata": {},
   "outputs": [],
   "source": [
    "#Randomforest classification\n",
    "from sklearn.ensemble import RandomForestClassifier\n",
    "rf = RandomForestClassifier(n_estimators = 100, random_state = 1) # Instantiate model with 100 decision trees\n",
    "rf.fit(X_train, Y_train);#train model on training data"
   ]
  },
  {
   "cell_type": "code",
   "execution_count": 16,
   "metadata": {},
   "outputs": [
    {
     "name": "stdout",
     "output_type": "stream",
     "text": [
      "Mean Absolute Error: 2.02 degrees.\n"
     ]
    }
   ],
   "source": [
    "predictions = rf.predict(X_test) #make predictions on test data\n",
    "errors = abs(predictions - Y_test) #calculate absolute errors\n",
    "print('Mean Absolute Error:', round(np.mean(errors), 2), 'degrees.')"
   ]
  },
  {
   "cell_type": "code",
   "execution_count": 17,
   "metadata": {},
   "outputs": [
    {
     "name": "stdout",
     "output_type": "stream",
     "text": [
      "Accuracy: 69.62 %.\n"
     ]
    }
   ],
   "source": [
    "#calculating accuracy\n",
    "mape = 100 * (errors / Y_test) #calculate mean absolute percentage error mape\n",
    "accuracy = 100 - np.mean(mape)\n",
    "print('Accuracy:', round(accuracy, 2), '%.')"
   ]
  },
  {
   "cell_type": "code",
   "execution_count": 18,
   "metadata": {},
   "outputs": [
    {
     "data": {
      "text/plain": [
       "GaussianNB()"
      ]
     },
     "execution_count": 18,
     "metadata": {},
     "output_type": "execute_result"
    }
   ],
   "source": [
    "#Naive Bayes calssification\n",
    "from sklearn.naive_bayes import GaussianNB\n",
    "from sklearn.metrics import accuracy_score\n",
    "model = GaussianNB()\n",
    "model.fit(X_train,Y_train)"
   ]
  },
  {
   "cell_type": "code",
   "execution_count": 19,
   "metadata": {},
   "outputs": [],
   "source": [
    "Y_pred = model.predict(X_test)"
   ]
  },
  {
   "cell_type": "code",
   "execution_count": 20,
   "metadata": {},
   "outputs": [
    {
     "data": {
      "text/plain": [
       "17.51831302939957"
      ]
     },
     "execution_count": 20,
     "metadata": {},
     "output_type": "execute_result"
    }
   ],
   "source": [
    "accuracy = accuracy_score(Y_test,Y_pred)*100\n",
    "accuracy"
   ]
  },
  {
   "cell_type": "code",
   "execution_count": 42,
   "metadata": {},
   "outputs": [],
   "source": [
    "from sklearn import svm"
   ]
  },
  {
   "cell_type": "code",
   "execution_count": 43,
   "metadata": {},
   "outputs": [],
   "source": [
    "clf = svm.SVC(kernel='linear')"
   ]
  },
  {
   "cell_type": "code",
   "execution_count": null,
   "metadata": {},
   "outputs": [],
   "source": [
    "clf.fit(X_train,Y_train)"
   ]
  },
  {
   "cell_type": "code",
   "execution_count": null,
   "metadata": {},
   "outputs": [],
   "source": [
    "Y_pred = clf.predict(X_test)"
   ]
  },
  {
   "cell_type": "code",
   "execution_count": null,
   "metadata": {},
   "outputs": [],
   "source": [
    "from sklearn import metrics"
   ]
  },
  {
   "cell_type": "code",
   "execution_count": null,
   "metadata": {},
   "outputs": [],
   "source": [
    "print(\"accuracy:\", metrics.accuracy_score(Y_test,Y_pred))"
   ]
  },
  {
   "cell_type": "code",
   "execution_count": 47,
   "metadata": {},
   "outputs": [],
   "source": [
    "from sklearn.metrics import confusion_matrix\n",
    "from sklearn import tree, metrics\n",
    "from sklearn.tree import DecisionTreeClassifier \n",
    "from sklearn.metrics import accuracy_score \n",
    "from sklearn.metrics import classification_report"
   ]
  },
  {
   "cell_type": "code",
   "execution_count": 48,
   "metadata": {},
   "outputs": [
    {
     "data": {
      "text/plain": [
       "DecisionTreeClassifier(criterion='entropy', max_depth=5, random_state=0)"
      ]
     },
     "execution_count": 48,
     "metadata": {},
     "output_type": "execute_result"
    }
   ],
   "source": [
    "dtree = tree.DecisionTreeClassifier(criterion='entropy', max_depth=5,random_state=0)\n",
    "dtree.fit(X_train, Y_train)"
   ]
  },
  {
   "cell_type": "code",
   "execution_count": 49,
   "metadata": {},
   "outputs": [],
   "source": [
    "y_pred = dtree.predict(X_test)"
   ]
  },
  {
   "cell_type": "code",
   "execution_count": 50,
   "metadata": {},
   "outputs": [
    {
     "name": "stdout",
     "output_type": "stream",
     "text": [
      "Misclassified samples: 83166\n",
      "Accuracy: 0.18\n"
     ]
    }
   ],
   "source": [
    "count_misclassified = (Y_test != y_pred).sum()\n",
    "print('Misclassified samples: {}'.format(count_misclassified))\n",
    "accuracy = metrics.accuracy_score(Y_test, y_pred)\n",
    "print('Accuracy: {:.2f}'.format(accuracy))"
   ]
  },
  {
   "cell_type": "code",
   "execution_count": 6,
   "metadata": {},
   "outputs": [
    {
     "name": "stderr",
     "output_type": "stream",
     "text": [
      "Using TensorFlow backend.\n"
     ]
    }
   ],
   "source": [
    "from numpy import loadtxt\n",
    "from keras.models import Sequential\n",
    "from keras.layers import Dense\n",
    "import pandas as pd\n",
    "import matplotlib as plt\n",
    "import numpy as np\n",
    "import random\n",
    "import warnings"
   ]
  },
  {
   "cell_type": "code",
   "execution_count": 7,
   "metadata": {},
   "outputs": [
    {
     "name": "stdout",
     "output_type": "stream",
     "text": [
      "        year  race_eth  first_degree_hx  age_menarche  age_first_birth  \\\n",
      "0       2013         1                0             9                9   \n",
      "1       2013         1                0             9                9   \n",
      "2       2013         1                0             9                9   \n",
      "3       2013         1                0             9                9   \n",
      "4       2013         1                0             9                9   \n",
      "...      ...       ...              ...           ...              ...   \n",
      "506461  2017         9                9             9                9   \n",
      "506462  2017         9                9             9                9   \n",
      "506463  2017         9                9             9                9   \n",
      "506464  2017         9                9             9                9   \n",
      "506465  2017         9                9             9                9   \n",
      "\n",
      "        BIRADS_breast_density  current_hrt  menopaus  bmi_group  biophx  \\\n",
      "0                           9            0         2          2       1   \n",
      "1                           9            0         2          2       1   \n",
      "2                           9            0         2          3       0   \n",
      "3                           9            0         2          3       0   \n",
      "4                           9            0         2          3       1   \n",
      "...                       ...          ...       ...        ...     ...   \n",
      "506461                      1            9         2          9       1   \n",
      "506462                      2            0         2          9       0   \n",
      "506463                      2            9         2          9       9   \n",
      "506464                      3            0         2          9       0   \n",
      "506465                      3            9         2          9       9   \n",
      "\n",
      "        count  breast_cancer_history  age  \n",
      "0           4                      0    7  \n",
      "1           3                      1    7  \n",
      "2          16                      0    7  \n",
      "3           1                      9    7  \n",
      "4           3                      0    7  \n",
      "...       ...                    ...  ...  \n",
      "506461      1                      0   13  \n",
      "506462      1                      0   13  \n",
      "506463      1                      9   13  \n",
      "506464      1                      0   13  \n",
      "506465      1                      0   13  \n",
      "\n",
      "[506466 rows x 13 columns]\n"
     ]
    }
   ],
   "source": [
    "#importing the dataset\n",
    "data = pd.read_csv(r'C:\\Users\\krish\\anaconda3\\csv\\bcsc2013.csv')\n",
    "#data.head()\n",
    "print(data)\n",
    "X = data.iloc[:, [0,10]]\n",
    "Y = data.iloc[:, 11]"
   ]
  },
  {
   "cell_type": "code",
   "execution_count": 8,
   "metadata": {},
   "outputs": [],
   "source": [
    "# define the keras model\n",
    "model = Sequential()\n",
    "model.add(Dense(16, input_dim=2, activation='relu'))\n",
    "model.add(Dense(12, activation='relu'))\n",
    "model.add(Dense(1, activation='sigmoid'))"
   ]
  },
  {
   "cell_type": "code",
   "execution_count": 9,
   "metadata": {},
   "outputs": [],
   "source": [
    "#compile the keras model\n",
    "model.compile(loss='binary_crossentropy', optimizer='adam', metrics=['accuracy'])"
   ]
  },
  {
   "cell_type": "code",
   "execution_count": null,
   "metadata": {},
   "outputs": [
    {
     "name": "stdout",
     "output_type": "stream",
     "text": [
      "Epoch 1/150\n",
      "506466/506466 [==============================] - 29s 57us/step - loss: -233482190.0683 - accuracy: 0.1519\n",
      "Epoch 2/150\n",
      "506466/506466 [==============================] - 25s 50us/step - loss: -2489549296.6238 - accuracy: 0.1519\n",
      "Epoch 3/150\n",
      "506466/506466 [==============================] - 23s 46us/step - loss: -9206574510.4566 - accuracy: 0.1519\n",
      "Epoch 4/150\n",
      "506466/506466 [==============================] - 27s 53us/step - loss: -22676432747.3493 - accuracy: 0.1519\n",
      "Epoch 5/150\n",
      "506466/506466 [==============================] - 27s 54us/step - loss: -45176520023.7838 - accuracy: 0.1519\n",
      "Epoch 6/150\n",
      "506466/506466 [==============================] - 29s 58us/step - loss: -78872989339.9435 - accuracy: 0.1519\n",
      "Epoch 7/150\n",
      "506466/506466 [==============================] - 25s 50us/step - loss: -125927716984.2518 - accuracy: 0.1519\n",
      "Epoch 8/150\n",
      "506466/506466 [==============================] - 22s 44us/step - loss: -188913992694.2264 - accuracy: 0.1519\n",
      "Epoch 9/150\n",
      "506466/506466 [==============================] - 20s 40us/step - loss: -269409744443.3717 - accuracy: 0.1519\n",
      "Epoch 10/150\n",
      "506466/506466 [==============================] - 25s 50us/step - loss: -370139406522.4311 - accuracy: 0.1519\n",
      "Epoch 11/150\n",
      "506466/506466 [==============================] - 22s 44us/step - loss: -492640309993.3199 - accuracy: 0.1519\n",
      "Epoch 12/150\n",
      "277696/506466 [===============>..............] - ETA: 10s - loss: -599305174166.8035 - accuracy: 0.1528"
     ]
    }
   ],
   "source": [
    "# fit the keras model on the dataset\n",
    "model.fit(X, Y, epochs=150, batch_size=32)"
   ]
  },
  {
   "cell_type": "code",
   "execution_count": 26,
   "metadata": {},
   "outputs": [
    {
     "name": "stdout",
     "output_type": "stream",
     "text": [
      "506466/506466 [==============================] - 11s 22us/step\n",
      "Accuracy: 0.28\n"
     ]
    }
   ],
   "source": [
    "# evaluate the keras model\n",
    "_, accuracy = model.evaluate(X, Y)\n",
    "print('Accuracy: %.2f' % (accuracy*100))"
   ]
  },
  {
   "cell_type": "code",
   "execution_count": null,
   "metadata": {
    "collapsed": true
   },
   "outputs": [],
   "source": []
  }
 ],
 "metadata": {
  "kernelspec": {
   "display_name": "Python 3",
   "language": "python",
   "name": "python3"
  },
  "language_info": {
   "codemirror_mode": {
    "name": "ipython",
    "version": 3
   },
   "file_extension": ".py",
   "mimetype": "text/x-python",
   "name": "python",
   "nbconvert_exporter": "python",
   "pygments_lexer": "ipython3",
   "version": "3.6.10"
  }
 },
 "nbformat": 4,
 "nbformat_minor": 4
}
