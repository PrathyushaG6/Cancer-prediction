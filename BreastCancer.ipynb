{
 "cells": [
  {
   "cell_type": "code",
   "execution_count": 1,
   "metadata": {},
   "outputs": [],
   "source": [
    "#importing the libraries\n",
    "import pandas as pd\n",
    "import matplotlib as plt\n",
    "import numpy as np\n",
    "import random\n",
    "import warnings"
   ]
  },
  {
   "cell_type": "code",
   "execution_count": 2,
   "metadata": {},
   "outputs": [
    {
     "name": "stdout",
     "output_type": "stream",
     "text": [
      "        year  race_eth  first_degree_hx  age_menarche  age_first_birth  \\\n",
      "0       2013         1                0             9                9   \n",
      "1       2013         1                0             9                9   \n",
      "2       2013         1                0             9                9   \n",
      "3       2013         1                0             9                9   \n",
      "4       2013         1                0             9                9   \n",
      "...      ...       ...              ...           ...              ...   \n",
      "506461  2017         9                9             9                9   \n",
      "506462  2017         9                9             9                9   \n",
      "506463  2017         9                9             9                9   \n",
      "506464  2017         9                9             9                9   \n",
      "506465  2017         9                9             9                9   \n",
      "\n",
      "        BIRADS_breast_density  current_hrt  menopaus  bmi_group  biophx  \\\n",
      "0                           9            0         2          2       1   \n",
      "1                           9            0         2          2       1   \n",
      "2                           9            0         2          3       0   \n",
      "3                           9            0         2          3       0   \n",
      "4                           9            0         2          3       1   \n",
      "...                       ...          ...       ...        ...     ...   \n",
      "506461                      1            9         2          9       1   \n",
      "506462                      2            0         2          9       0   \n",
      "506463                      2            9         2          9       9   \n",
      "506464                      3            0         2          9       0   \n",
      "506465                      3            9         2          9       9   \n",
      "\n",
      "        breast_cancer_history  age  \n",
      "0                           0    7  \n",
      "1                           1    7  \n",
      "2                           0    7  \n",
      "3                           9    7  \n",
      "4                           0    7  \n",
      "...                       ...  ...  \n",
      "506461                      0   13  \n",
      "506462                      0   13  \n",
      "506463                      9   13  \n",
      "506464                      0   13  \n",
      "506465                      0   13  \n",
      "\n",
      "[506466 rows x 12 columns]\n"
     ]
    }
   ],
   "source": [
    "#importing the dataset\n",
    "data = pd.read_csv(r'C:\\Users\\krish\\anaconda3\\bcsc.csv')\n",
    "#data.head()\n",
    "print(data)\n",
    "X = data.iloc[:, [0,10]]\n",
    "Y = data.iloc[:, 11]"
   ]
  },
  {
   "cell_type": "code",
   "execution_count": 3,
   "metadata": {},
   "outputs": [
    {
     "data": {
      "text/html": [
       "<div>\n",
       "<style scoped>\n",
       "    .dataframe tbody tr th:only-of-type {\n",
       "        vertical-align: middle;\n",
       "    }\n",
       "\n",
       "    .dataframe tbody tr th {\n",
       "        vertical-align: top;\n",
       "    }\n",
       "\n",
       "    .dataframe thead th {\n",
       "        text-align: right;\n",
       "    }\n",
       "</style>\n",
       "<table border=\"1\" class=\"dataframe\">\n",
       "  <thead>\n",
       "    <tr style=\"text-align: right;\">\n",
       "      <th></th>\n",
       "      <th>year</th>\n",
       "      <th>race_eth</th>\n",
       "      <th>first_degree_hx</th>\n",
       "      <th>age_menarche</th>\n",
       "      <th>age_first_birth</th>\n",
       "      <th>BIRADS_breast_density</th>\n",
       "      <th>current_hrt</th>\n",
       "      <th>menopaus</th>\n",
       "      <th>bmi_group</th>\n",
       "      <th>biophx</th>\n",
       "      <th>breast_cancer_history</th>\n",
       "      <th>age</th>\n",
       "    </tr>\n",
       "  </thead>\n",
       "  <tbody>\n",
       "    <tr>\n",
       "      <th>0</th>\n",
       "      <td>False</td>\n",
       "      <td>False</td>\n",
       "      <td>False</td>\n",
       "      <td>False</td>\n",
       "      <td>False</td>\n",
       "      <td>False</td>\n",
       "      <td>False</td>\n",
       "      <td>False</td>\n",
       "      <td>False</td>\n",
       "      <td>False</td>\n",
       "      <td>False</td>\n",
       "      <td>False</td>\n",
       "    </tr>\n",
       "    <tr>\n",
       "      <th>1</th>\n",
       "      <td>False</td>\n",
       "      <td>False</td>\n",
       "      <td>False</td>\n",
       "      <td>False</td>\n",
       "      <td>False</td>\n",
       "      <td>False</td>\n",
       "      <td>False</td>\n",
       "      <td>False</td>\n",
       "      <td>False</td>\n",
       "      <td>False</td>\n",
       "      <td>False</td>\n",
       "      <td>False</td>\n",
       "    </tr>\n",
       "    <tr>\n",
       "      <th>2</th>\n",
       "      <td>False</td>\n",
       "      <td>False</td>\n",
       "      <td>False</td>\n",
       "      <td>False</td>\n",
       "      <td>False</td>\n",
       "      <td>False</td>\n",
       "      <td>False</td>\n",
       "      <td>False</td>\n",
       "      <td>False</td>\n",
       "      <td>False</td>\n",
       "      <td>False</td>\n",
       "      <td>False</td>\n",
       "    </tr>\n",
       "    <tr>\n",
       "      <th>3</th>\n",
       "      <td>False</td>\n",
       "      <td>False</td>\n",
       "      <td>False</td>\n",
       "      <td>False</td>\n",
       "      <td>False</td>\n",
       "      <td>False</td>\n",
       "      <td>False</td>\n",
       "      <td>False</td>\n",
       "      <td>False</td>\n",
       "      <td>False</td>\n",
       "      <td>False</td>\n",
       "      <td>False</td>\n",
       "    </tr>\n",
       "    <tr>\n",
       "      <th>4</th>\n",
       "      <td>False</td>\n",
       "      <td>False</td>\n",
       "      <td>False</td>\n",
       "      <td>False</td>\n",
       "      <td>False</td>\n",
       "      <td>False</td>\n",
       "      <td>False</td>\n",
       "      <td>False</td>\n",
       "      <td>False</td>\n",
       "      <td>False</td>\n",
       "      <td>False</td>\n",
       "      <td>False</td>\n",
       "    </tr>\n",
       "    <tr>\n",
       "      <th>...</th>\n",
       "      <td>...</td>\n",
       "      <td>...</td>\n",
       "      <td>...</td>\n",
       "      <td>...</td>\n",
       "      <td>...</td>\n",
       "      <td>...</td>\n",
       "      <td>...</td>\n",
       "      <td>...</td>\n",
       "      <td>...</td>\n",
       "      <td>...</td>\n",
       "      <td>...</td>\n",
       "      <td>...</td>\n",
       "    </tr>\n",
       "    <tr>\n",
       "      <th>506461</th>\n",
       "      <td>False</td>\n",
       "      <td>False</td>\n",
       "      <td>False</td>\n",
       "      <td>False</td>\n",
       "      <td>False</td>\n",
       "      <td>False</td>\n",
       "      <td>False</td>\n",
       "      <td>False</td>\n",
       "      <td>False</td>\n",
       "      <td>False</td>\n",
       "      <td>False</td>\n",
       "      <td>False</td>\n",
       "    </tr>\n",
       "    <tr>\n",
       "      <th>506462</th>\n",
       "      <td>False</td>\n",
       "      <td>False</td>\n",
       "      <td>False</td>\n",
       "      <td>False</td>\n",
       "      <td>False</td>\n",
       "      <td>False</td>\n",
       "      <td>False</td>\n",
       "      <td>False</td>\n",
       "      <td>False</td>\n",
       "      <td>False</td>\n",
       "      <td>False</td>\n",
       "      <td>False</td>\n",
       "    </tr>\n",
       "    <tr>\n",
       "      <th>506463</th>\n",
       "      <td>False</td>\n",
       "      <td>False</td>\n",
       "      <td>False</td>\n",
       "      <td>False</td>\n",
       "      <td>False</td>\n",
       "      <td>False</td>\n",
       "      <td>False</td>\n",
       "      <td>False</td>\n",
       "      <td>False</td>\n",
       "      <td>False</td>\n",
       "      <td>False</td>\n",
       "      <td>False</td>\n",
       "    </tr>\n",
       "    <tr>\n",
       "      <th>506464</th>\n",
       "      <td>False</td>\n",
       "      <td>False</td>\n",
       "      <td>False</td>\n",
       "      <td>False</td>\n",
       "      <td>False</td>\n",
       "      <td>False</td>\n",
       "      <td>False</td>\n",
       "      <td>False</td>\n",
       "      <td>False</td>\n",
       "      <td>False</td>\n",
       "      <td>False</td>\n",
       "      <td>False</td>\n",
       "    </tr>\n",
       "    <tr>\n",
       "      <th>506465</th>\n",
       "      <td>False</td>\n",
       "      <td>False</td>\n",
       "      <td>False</td>\n",
       "      <td>False</td>\n",
       "      <td>False</td>\n",
       "      <td>False</td>\n",
       "      <td>False</td>\n",
       "      <td>False</td>\n",
       "      <td>False</td>\n",
       "      <td>False</td>\n",
       "      <td>False</td>\n",
       "      <td>False</td>\n",
       "    </tr>\n",
       "  </tbody>\n",
       "</table>\n",
       "<p>506466 rows × 12 columns</p>\n",
       "</div>"
      ],
      "text/plain": [
       "         year  race_eth  first_degree_hx  age_menarche  age_first_birth  \\\n",
       "0       False     False            False         False            False   \n",
       "1       False     False            False         False            False   \n",
       "2       False     False            False         False            False   \n",
       "3       False     False            False         False            False   \n",
       "4       False     False            False         False            False   \n",
       "...       ...       ...              ...           ...              ...   \n",
       "506461  False     False            False         False            False   \n",
       "506462  False     False            False         False            False   \n",
       "506463  False     False            False         False            False   \n",
       "506464  False     False            False         False            False   \n",
       "506465  False     False            False         False            False   \n",
       "\n",
       "        BIRADS_breast_density  current_hrt  menopaus  bmi_group  biophx  \\\n",
       "0                       False        False     False      False   False   \n",
       "1                       False        False     False      False   False   \n",
       "2                       False        False     False      False   False   \n",
       "3                       False        False     False      False   False   \n",
       "4                       False        False     False      False   False   \n",
       "...                       ...          ...       ...        ...     ...   \n",
       "506461                  False        False     False      False   False   \n",
       "506462                  False        False     False      False   False   \n",
       "506463                  False        False     False      False   False   \n",
       "506464                  False        False     False      False   False   \n",
       "506465                  False        False     False      False   False   \n",
       "\n",
       "        breast_cancer_history    age  \n",
       "0                       False  False  \n",
       "1                       False  False  \n",
       "2                       False  False  \n",
       "3                       False  False  \n",
       "4                       False  False  \n",
       "...                       ...    ...  \n",
       "506461                  False  False  \n",
       "506462                  False  False  \n",
       "506463                  False  False  \n",
       "506464                  False  False  \n",
       "506465                  False  False  \n",
       "\n",
       "[506466 rows x 12 columns]"
      ]
     },
     "execution_count": 3,
     "metadata": {},
     "output_type": "execute_result"
    }
   ],
   "source": [
    "#fin missing values,if any\n",
    "data.isnull()"
   ]
  },
  {
   "cell_type": "code",
   "execution_count": 4,
   "metadata": {},
   "outputs": [
    {
     "name": "stdout",
     "output_type": "stream",
     "text": [
      "year - 0%\n",
      "race_eth - 0%\n",
      "first_degree_hx - 0%\n",
      "age_menarche - 0%\n",
      "age_first_birth - 0%\n",
      "BIRADS_breast_density - 0%\n",
      "current_hrt - 0%\n",
      "menopaus - 0%\n",
      "bmi_group - 0%\n",
      "biophx - 0%\n",
      "breast_cancer_history - 0%\n",
      "age - 0%\n"
     ]
    }
   ],
   "source": [
    "#Missing Data Percentage List\n",
    "for col in data.columns:\n",
    "    pct_missing = np.mean(data[col].isnull())\n",
    "    print('{} - {}%'.format(col, round(pct_missing*100)))"
   ]
  },
  {
   "cell_type": "code",
   "execution_count": 31,
   "metadata": {},
   "outputs": [],
   "source": [
    "#data['count'].describe()"
   ]
  },
  {
   "cell_type": "code",
   "execution_count": 6,
   "metadata": {},
   "outputs": [
    {
     "name": "stdout",
     "output_type": "stream",
     "text": [
      "(506466, 12)\n"
     ]
    },
    {
     "ename": "NameError",
     "evalue": "name 'data_dedupped' is not defined",
     "output_type": "error",
     "traceback": [
      "\u001b[1;31m---------------------------------------------------------------------------\u001b[0m",
      "\u001b[1;31mNameError\u001b[0m                                 Traceback (most recent call last)",
      "\u001b[1;32m<ipython-input-6-7278605148e0>\u001b[0m in \u001b[0;36m<module>\u001b[1;34m\u001b[0m\n\u001b[0;32m      1\u001b[0m \u001b[1;31m#data_dedupped = data.drop('count', axis=1).drop_duplicates()\u001b[0m\u001b[1;33m\u001b[0m\u001b[1;33m\u001b[0m\u001b[1;33m\u001b[0m\u001b[0m\n\u001b[0;32m      2\u001b[0m \u001b[0mprint\u001b[0m\u001b[1;33m(\u001b[0m\u001b[0mdata\u001b[0m\u001b[1;33m.\u001b[0m\u001b[0mshape\u001b[0m\u001b[1;33m)\u001b[0m\u001b[1;33m\u001b[0m\u001b[1;33m\u001b[0m\u001b[0m\n\u001b[1;32m----> 3\u001b[1;33m \u001b[0mprint\u001b[0m\u001b[1;33m(\u001b[0m\u001b[0mdata_dedupped\u001b[0m\u001b[1;33m.\u001b[0m\u001b[0mshape\u001b[0m\u001b[1;33m)\u001b[0m\u001b[1;33m\u001b[0m\u001b[1;33m\u001b[0m\u001b[0m\n\u001b[0m",
      "\u001b[1;31mNameError\u001b[0m: name 'data_dedupped' is not defined"
     ]
    }
   ],
   "source": [
    "#data_dedupped = data.drop('count', axis=1).drop_duplicates()\n",
    "print(data.shape)\n",
    "print(data_dedupped.shape)"
   ]
  },
  {
   "cell_type": "code",
   "execution_count": 7,
   "metadata": {},
   "outputs": [],
   "source": [
    "#removing duplicate rows\n",
    "data.drop_duplicates(subset=None , inplace=True)"
   ]
  },
  {
   "cell_type": "code",
   "execution_count": 36,
   "metadata": {},
   "outputs": [
    {
     "name": "stdout",
     "output_type": "stream",
     "text": [
      "        year  race_eth  first_degree_hx  age_menarche  age_first_birth  \\\n",
      "0       2013         1                0             9                9   \n",
      "1       2013         1                0             9                9   \n",
      "2       2013         1                0             9                9   \n",
      "3       2013         1                0             9                9   \n",
      "4       2013         1                0             9                9   \n",
      "...      ...       ...              ...           ...              ...   \n",
      "506461  2017         9                9             9                9   \n",
      "506462  2017         9                9             9                9   \n",
      "506463  2017         9                9             9                9   \n",
      "506464  2017         9                9             9                9   \n",
      "506465  2017         9                9             9                9   \n",
      "\n",
      "        BIRADS_breast_density  current_hrt  menopaus  bmi_group  biophx  \\\n",
      "0                           9            0         2          2       1   \n",
      "1                           9            0         2          2       1   \n",
      "2                           9            0         2          3       0   \n",
      "3                           9            0         2          3       0   \n",
      "4                           9            0         2          3       1   \n",
      "...                       ...          ...       ...        ...     ...   \n",
      "506461                      1            9         2          9       1   \n",
      "506462                      2            0         2          9       0   \n",
      "506463                      2            9         2          9       9   \n",
      "506464                      3            0         2          9       0   \n",
      "506465                      3            9         2          9       9   \n",
      "\n",
      "        breast_cancer_history  age  \n",
      "0                           0    7  \n",
      "1                           1    7  \n",
      "2                           0    7  \n",
      "3                           9    7  \n",
      "4                           0    7  \n",
      "...                       ...  ...  \n",
      "506461                      0   13  \n",
      "506462                      0   13  \n",
      "506463                      9   13  \n",
      "506464                      0   13  \n",
      "506465                      0   13  \n",
      "\n",
      "[506466 rows x 12 columns]\n"
     ]
    }
   ],
   "source": [
    "print(data)"
   ]
  },
  {
   "cell_type": "code",
   "execution_count": 8,
   "metadata": {},
   "outputs": [
    {
     "data": {
      "text/html": [
       "<div>\n",
       "<style scoped>\n",
       "    .dataframe tbody tr th:only-of-type {\n",
       "        vertical-align: middle;\n",
       "    }\n",
       "\n",
       "    .dataframe tbody tr th {\n",
       "        vertical-align: top;\n",
       "    }\n",
       "\n",
       "    .dataframe thead th {\n",
       "        text-align: right;\n",
       "    }\n",
       "</style>\n",
       "<table border=\"1\" class=\"dataframe\">\n",
       "  <thead>\n",
       "    <tr style=\"text-align: right;\">\n",
       "      <th></th>\n",
       "      <th>year</th>\n",
       "      <th>race_eth</th>\n",
       "      <th>first_degree_hx</th>\n",
       "      <th>age_menarche</th>\n",
       "      <th>age_first_birth</th>\n",
       "      <th>BIRADS_breast_density</th>\n",
       "      <th>current_hrt</th>\n",
       "      <th>menopaus</th>\n",
       "      <th>bmi_group</th>\n",
       "      <th>biophx</th>\n",
       "      <th>breast_cancer_history</th>\n",
       "      <th>age</th>\n",
       "    </tr>\n",
       "  </thead>\n",
       "  <tbody>\n",
       "    <tr>\n",
       "      <th>0</th>\n",
       "      <td>2013</td>\n",
       "      <td>1</td>\n",
       "      <td>0</td>\n",
       "      <td>9</td>\n",
       "      <td>9</td>\n",
       "      <td>9</td>\n",
       "      <td>0</td>\n",
       "      <td>2</td>\n",
       "      <td>2</td>\n",
       "      <td>1</td>\n",
       "      <td>0</td>\n",
       "      <td>7</td>\n",
       "    </tr>\n",
       "    <tr>\n",
       "      <th>1</th>\n",
       "      <td>2013</td>\n",
       "      <td>1</td>\n",
       "      <td>0</td>\n",
       "      <td>9</td>\n",
       "      <td>9</td>\n",
       "      <td>9</td>\n",
       "      <td>0</td>\n",
       "      <td>2</td>\n",
       "      <td>2</td>\n",
       "      <td>1</td>\n",
       "      <td>1</td>\n",
       "      <td>7</td>\n",
       "    </tr>\n",
       "    <tr>\n",
       "      <th>2</th>\n",
       "      <td>2013</td>\n",
       "      <td>1</td>\n",
       "      <td>0</td>\n",
       "      <td>9</td>\n",
       "      <td>9</td>\n",
       "      <td>9</td>\n",
       "      <td>0</td>\n",
       "      <td>2</td>\n",
       "      <td>3</td>\n",
       "      <td>0</td>\n",
       "      <td>0</td>\n",
       "      <td>7</td>\n",
       "    </tr>\n",
       "    <tr>\n",
       "      <th>3</th>\n",
       "      <td>2013</td>\n",
       "      <td>1</td>\n",
       "      <td>0</td>\n",
       "      <td>9</td>\n",
       "      <td>9</td>\n",
       "      <td>9</td>\n",
       "      <td>0</td>\n",
       "      <td>2</td>\n",
       "      <td>3</td>\n",
       "      <td>0</td>\n",
       "      <td>9</td>\n",
       "      <td>7</td>\n",
       "    </tr>\n",
       "    <tr>\n",
       "      <th>4</th>\n",
       "      <td>2013</td>\n",
       "      <td>1</td>\n",
       "      <td>0</td>\n",
       "      <td>9</td>\n",
       "      <td>9</td>\n",
       "      <td>9</td>\n",
       "      <td>0</td>\n",
       "      <td>2</td>\n",
       "      <td>3</td>\n",
       "      <td>1</td>\n",
       "      <td>0</td>\n",
       "      <td>7</td>\n",
       "    </tr>\n",
       "  </tbody>\n",
       "</table>\n",
       "</div>"
      ],
      "text/plain": [
       "   year  race_eth  first_degree_hx  age_menarche  age_first_birth  \\\n",
       "0  2013         1                0             9                9   \n",
       "1  2013         1                0             9                9   \n",
       "2  2013         1                0             9                9   \n",
       "3  2013         1                0             9                9   \n",
       "4  2013         1                0             9                9   \n",
       "\n",
       "   BIRADS_breast_density  current_hrt  menopaus  bmi_group  biophx  \\\n",
       "0                      9            0         2          2       1   \n",
       "1                      9            0         2          2       1   \n",
       "2                      9            0         2          3       0   \n",
       "3                      9            0         2          3       0   \n",
       "4                      9            0         2          3       1   \n",
       "\n",
       "   breast_cancer_history  age  \n",
       "0                      0    7  \n",
       "1                      1    7  \n",
       "2                      0    7  \n",
       "3                      9    7  \n",
       "4                      0    7  "
      ]
     },
     "execution_count": 8,
     "metadata": {},
     "output_type": "execute_result"
    }
   ],
   "source": [
    "data.head()"
   ]
  },
  {
   "cell_type": "code",
   "execution_count": 44,
   "metadata": {},
   "outputs": [
    {
     "data": {
      "text/html": [
       "<div>\n",
       "<style scoped>\n",
       "    .dataframe tbody tr th:only-of-type {\n",
       "        vertical-align: middle;\n",
       "    }\n",
       "\n",
       "    .dataframe tbody tr th {\n",
       "        vertical-align: top;\n",
       "    }\n",
       "\n",
       "    .dataframe thead th {\n",
       "        text-align: right;\n",
       "    }\n",
       "</style>\n",
       "<table border=\"1\" class=\"dataframe\">\n",
       "  <thead>\n",
       "    <tr style=\"text-align: right;\">\n",
       "      <th></th>\n",
       "      <th>year</th>\n",
       "      <th>race_eth</th>\n",
       "      <th>first_degree_hx</th>\n",
       "      <th>age_menarche</th>\n",
       "      <th>age_first_birth</th>\n",
       "      <th>BIRADS_breast_density</th>\n",
       "      <th>current_hrt</th>\n",
       "      <th>menopaus</th>\n",
       "      <th>bmi_group</th>\n",
       "      <th>biophx</th>\n",
       "      <th>breast_cancer_history</th>\n",
       "      <th>count</th>\n",
       "      <th>age</th>\n",
       "    </tr>\n",
       "  </thead>\n",
       "  <tbody>\n",
       "    <tr>\n",
       "      <th>506461</th>\n",
       "      <td>2017</td>\n",
       "      <td>9</td>\n",
       "      <td>9</td>\n",
       "      <td>9</td>\n",
       "      <td>9</td>\n",
       "      <td>1</td>\n",
       "      <td>9</td>\n",
       "      <td>2</td>\n",
       "      <td>9</td>\n",
       "      <td>1</td>\n",
       "      <td>0</td>\n",
       "      <td>1</td>\n",
       "      <td>13</td>\n",
       "    </tr>\n",
       "    <tr>\n",
       "      <th>506462</th>\n",
       "      <td>2017</td>\n",
       "      <td>9</td>\n",
       "      <td>9</td>\n",
       "      <td>9</td>\n",
       "      <td>9</td>\n",
       "      <td>2</td>\n",
       "      <td>0</td>\n",
       "      <td>2</td>\n",
       "      <td>9</td>\n",
       "      <td>0</td>\n",
       "      <td>0</td>\n",
       "      <td>1</td>\n",
       "      <td>13</td>\n",
       "    </tr>\n",
       "    <tr>\n",
       "      <th>506463</th>\n",
       "      <td>2017</td>\n",
       "      <td>9</td>\n",
       "      <td>9</td>\n",
       "      <td>9</td>\n",
       "      <td>9</td>\n",
       "      <td>2</td>\n",
       "      <td>9</td>\n",
       "      <td>2</td>\n",
       "      <td>9</td>\n",
       "      <td>9</td>\n",
       "      <td>9</td>\n",
       "      <td>1</td>\n",
       "      <td>13</td>\n",
       "    </tr>\n",
       "    <tr>\n",
       "      <th>506464</th>\n",
       "      <td>2017</td>\n",
       "      <td>9</td>\n",
       "      <td>9</td>\n",
       "      <td>9</td>\n",
       "      <td>9</td>\n",
       "      <td>3</td>\n",
       "      <td>0</td>\n",
       "      <td>2</td>\n",
       "      <td>9</td>\n",
       "      <td>0</td>\n",
       "      <td>0</td>\n",
       "      <td>1</td>\n",
       "      <td>13</td>\n",
       "    </tr>\n",
       "    <tr>\n",
       "      <th>506465</th>\n",
       "      <td>2017</td>\n",
       "      <td>9</td>\n",
       "      <td>9</td>\n",
       "      <td>9</td>\n",
       "      <td>9</td>\n",
       "      <td>3</td>\n",
       "      <td>9</td>\n",
       "      <td>2</td>\n",
       "      <td>9</td>\n",
       "      <td>9</td>\n",
       "      <td>0</td>\n",
       "      <td>1</td>\n",
       "      <td>13</td>\n",
       "    </tr>\n",
       "  </tbody>\n",
       "</table>\n",
       "</div>"
      ],
      "text/plain": [
       "        year  race_eth  first_degree_hx  age_menarche  age_first_birth  \\\n",
       "506461  2017         9                9             9                9   \n",
       "506462  2017         9                9             9                9   \n",
       "506463  2017         9                9             9                9   \n",
       "506464  2017         9                9             9                9   \n",
       "506465  2017         9                9             9                9   \n",
       "\n",
       "        BIRADS_breast_density  current_hrt  menopaus  bmi_group  biophx  \\\n",
       "506461                      1            9         2          9       1   \n",
       "506462                      2            0         2          9       0   \n",
       "506463                      2            9         2          9       9   \n",
       "506464                      3            0         2          9       0   \n",
       "506465                      3            9         2          9       9   \n",
       "\n",
       "        breast_cancer_history  count  age  \n",
       "506461                      0      1   13  \n",
       "506462                      0      1   13  \n",
       "506463                      9      1   13  \n",
       "506464                      0      1   13  \n",
       "506465                      0      1   13  "
      ]
     },
     "execution_count": 44,
     "metadata": {},
     "output_type": "execute_result"
    }
   ],
   "source": [
    "data.tail()"
   ]
  },
  {
   "cell_type": "code",
   "execution_count": 38,
   "metadata": {},
   "outputs": [
    {
     "data": {
      "text/plain": [
       "506466"
      ]
     },
     "execution_count": 38,
     "metadata": {},
     "output_type": "execute_result"
    }
   ],
   "source": [
    "len(data)\n"
   ]
  },
  {
   "cell_type": "code",
   "execution_count": 39,
   "metadata": {},
   "outputs": [
    {
     "data": {
      "text/plain": [
       "Index(['year', 'race_eth', 'first_degree_hx', 'age_menarche',\n",
       "       'age_first_birth', 'BIRADS_breast_density', 'current_hrt', 'menopaus',\n",
       "       'bmi_group', 'biophx', 'breast_cancer_history', 'age'],\n",
       "      dtype='object')"
      ]
     },
     "execution_count": 39,
     "metadata": {},
     "output_type": "execute_result"
    }
   ],
   "source": [
    "data.columns"
   ]
  },
  {
   "cell_type": "code",
   "execution_count": 40,
   "metadata": {},
   "outputs": [
    {
     "data": {
      "text/plain": [
       "year                     int64\n",
       "race_eth                 int64\n",
       "first_degree_hx          int64\n",
       "age_menarche             int64\n",
       "age_first_birth          int64\n",
       "BIRADS_breast_density    int64\n",
       "current_hrt              int64\n",
       "menopaus                 int64\n",
       "bmi_group                int64\n",
       "biophx                   int64\n",
       "breast_cancer_history    int64\n",
       "age                      int64\n",
       "dtype: object"
      ]
     },
     "execution_count": 40,
     "metadata": {},
     "output_type": "execute_result"
    }
   ],
   "source": [
    "data.dtypes"
   ]
  },
  {
   "cell_type": "code",
   "execution_count": 41,
   "metadata": {},
   "outputs": [
    {
     "data": {
      "text/plain": [
       "Int64Index([     0,      1,      2,      3,      4,      5,      6,      7,\n",
       "                 8,      9,\n",
       "            ...\n",
       "            506456, 506457, 506458, 506459, 506460, 506461, 506462, 506463,\n",
       "            506464, 506465],\n",
       "           dtype='int64', length=506466)"
      ]
     },
     "execution_count": 41,
     "metadata": {},
     "output_type": "execute_result"
    }
   ],
   "source": [
    "data.index"
   ]
  },
  {
   "cell_type": "code",
   "execution_count": 42,
   "metadata": {},
   "outputs": [
    {
     "data": {
      "text/plain": [
       "array([ 7,  8,  9, 10, 11, 12, 13,  1,  2,  3,  4,  5,  6], dtype=int64)"
      ]
     },
     "execution_count": 42,
     "metadata": {},
     "output_type": "execute_result"
    }
   ],
   "source": [
    "data.age.unique()"
   ]
  },
  {
   "cell_type": "code",
   "execution_count": 43,
   "metadata": {},
   "outputs": [
    {
     "data": {
      "text/plain": [
       "7     89019\n",
       "6     70841\n",
       "8     62206\n",
       "9     59652\n",
       "5     49942\n",
       "10    48966\n",
       "11    34689\n",
       "4     34495\n",
       "12    22795\n",
       "13    14557\n",
       "3     12084\n",
       "2      5793\n",
       "1      1427\n",
       "Name: age, dtype: int64"
      ]
     },
     "execution_count": 43,
     "metadata": {},
     "output_type": "execute_result"
    }
   ],
   "source": [
    "data.age.value_counts()"
   ]
  },
  {
   "cell_type": "code",
   "execution_count": 9,
   "metadata": {},
   "outputs": [],
   "source": [
    "#binning the age_categories 1 to 13 to 5 different bins \"age\"\n",
    "bins = [1, 4, 7, 10, 13]\n",
    "group_names = ['group1' , 'group2' , 'group3' , 'group4']"
   ]
  },
  {
   "cell_type": "code",
   "execution_count": 10,
   "metadata": {},
   "outputs": [
    {
     "data": {
      "text/plain": [
       "0         group2\n",
       "1         group2\n",
       "2         group2\n",
       "3         group2\n",
       "4         group2\n",
       "           ...  \n",
       "506461    group4\n",
       "506462    group4\n",
       "506463    group4\n",
       "506464    group4\n",
       "506465    group4\n",
       "Name: age, Length: 506466, dtype: category\n",
       "Categories (4, object): ['group1' < 'group2' < 'group3' < 'group4']"
      ]
     },
     "execution_count": 10,
     "metadata": {},
     "output_type": "execute_result"
    }
   ],
   "source": [
    "age_categories = pd.cut(data['age'], bins, labels=group_names)\n",
    "age_categories"
   ]
  },
  {
   "cell_type": "code",
   "execution_count": 11,
   "metadata": {},
   "outputs": [],
   "source": [
    "#pre processing the data\n",
    "from sklearn.preprocessing import MinMaxScaler\n",
    "scaler = MinMaxScaler(feature_range=(0, 1))\n",
    "X = scaler.fit_transform(X)"
   ]
  },
  {
   "cell_type": "code",
   "execution_count": 12,
   "metadata": {},
   "outputs": [],
   "source": [
    "#shuffling the data\n",
    "data = data.sample(frac=1).reset_index(drop=True)"
   ]
  },
  {
   "cell_type": "code",
   "execution_count": 13,
   "metadata": {},
   "outputs": [
    {
     "data": {
      "text/html": [
       "<div>\n",
       "<style scoped>\n",
       "    .dataframe tbody tr th:only-of-type {\n",
       "        vertical-align: middle;\n",
       "    }\n",
       "\n",
       "    .dataframe tbody tr th {\n",
       "        vertical-align: top;\n",
       "    }\n",
       "\n",
       "    .dataframe thead th {\n",
       "        text-align: right;\n",
       "    }\n",
       "</style>\n",
       "<table border=\"1\" class=\"dataframe\">\n",
       "  <thead>\n",
       "    <tr style=\"text-align: right;\">\n",
       "      <th></th>\n",
       "      <th>year</th>\n",
       "      <th>race_eth</th>\n",
       "      <th>first_degree_hx</th>\n",
       "      <th>age_menarche</th>\n",
       "      <th>age_first_birth</th>\n",
       "      <th>BIRADS_breast_density</th>\n",
       "      <th>current_hrt</th>\n",
       "      <th>menopaus</th>\n",
       "      <th>bmi_group</th>\n",
       "      <th>biophx</th>\n",
       "      <th>breast_cancer_history</th>\n",
       "      <th>age</th>\n",
       "    </tr>\n",
       "  </thead>\n",
       "  <tbody>\n",
       "    <tr>\n",
       "      <th>0</th>\n",
       "      <td>2013</td>\n",
       "      <td>1</td>\n",
       "      <td>0</td>\n",
       "      <td>0</td>\n",
       "      <td>9</td>\n",
       "      <td>1</td>\n",
       "      <td>1</td>\n",
       "      <td>2</td>\n",
       "      <td>4</td>\n",
       "      <td>0</td>\n",
       "      <td>0</td>\n",
       "      <td>9</td>\n",
       "    </tr>\n",
       "    <tr>\n",
       "      <th>1</th>\n",
       "      <td>2014</td>\n",
       "      <td>1</td>\n",
       "      <td>0</td>\n",
       "      <td>0</td>\n",
       "      <td>4</td>\n",
       "      <td>3</td>\n",
       "      <td>9</td>\n",
       "      <td>2</td>\n",
       "      <td>9</td>\n",
       "      <td>1</td>\n",
       "      <td>1</td>\n",
       "      <td>8</td>\n",
       "    </tr>\n",
       "    <tr>\n",
       "      <th>2</th>\n",
       "      <td>2016</td>\n",
       "      <td>1</td>\n",
       "      <td>0</td>\n",
       "      <td>1</td>\n",
       "      <td>3</td>\n",
       "      <td>3</td>\n",
       "      <td>0</td>\n",
       "      <td>2</td>\n",
       "      <td>3</td>\n",
       "      <td>0</td>\n",
       "      <td>0</td>\n",
       "      <td>9</td>\n",
       "    </tr>\n",
       "    <tr>\n",
       "      <th>3</th>\n",
       "      <td>2017</td>\n",
       "      <td>1</td>\n",
       "      <td>0</td>\n",
       "      <td>2</td>\n",
       "      <td>4</td>\n",
       "      <td>2</td>\n",
       "      <td>0</td>\n",
       "      <td>2</td>\n",
       "      <td>9</td>\n",
       "      <td>0</td>\n",
       "      <td>1</td>\n",
       "      <td>10</td>\n",
       "    </tr>\n",
       "    <tr>\n",
       "      <th>4</th>\n",
       "      <td>2014</td>\n",
       "      <td>1</td>\n",
       "      <td>0</td>\n",
       "      <td>1</td>\n",
       "      <td>4</td>\n",
       "      <td>3</td>\n",
       "      <td>0</td>\n",
       "      <td>1</td>\n",
       "      <td>3</td>\n",
       "      <td>1</td>\n",
       "      <td>9</td>\n",
       "      <td>5</td>\n",
       "    </tr>\n",
       "  </tbody>\n",
       "</table>\n",
       "</div>"
      ],
      "text/plain": [
       "   year  race_eth  first_degree_hx  age_menarche  age_first_birth  \\\n",
       "0  2013         1                0             0                9   \n",
       "1  2014         1                0             0                4   \n",
       "2  2016         1                0             1                3   \n",
       "3  2017         1                0             2                4   \n",
       "4  2014         1                0             1                4   \n",
       "\n",
       "   BIRADS_breast_density  current_hrt  menopaus  bmi_group  biophx  \\\n",
       "0                      1            1         2          4       0   \n",
       "1                      3            9         2          9       1   \n",
       "2                      3            0         2          3       0   \n",
       "3                      2            0         2          9       0   \n",
       "4                      3            0         1          3       1   \n",
       "\n",
       "   breast_cancer_history  age  \n",
       "0                      0    9  \n",
       "1                      1    8  \n",
       "2                      0    9  \n",
       "3                      1   10  \n",
       "4                      9    5  "
      ]
     },
     "execution_count": 13,
     "metadata": {},
     "output_type": "execute_result"
    }
   ],
   "source": [
    "data.head()"
   ]
  },
  {
   "cell_type": "code",
   "execution_count": 14,
   "metadata": {},
   "outputs": [
    {
     "name": "stdout",
     "output_type": "stream",
     "text": [
      "(405172, 2) (405172,)\n",
      "(101294, 2) (101294,)\n"
     ]
    }
   ],
   "source": [
    "#Splitting the dataset into the Training set and Test set to 80 and 20\n",
    "from sklearn.model_selection import train_test_split\n",
    "X_train, X_test, Y_train, Y_test = train_test_split(X, Y, test_size = 0.2, random_state = 123)\n",
    "print (X_train.shape , Y_train.shape)\n",
    "print (X_test.shape, Y_test.shape)"
   ]
  },
  {
   "cell_type": "code",
   "execution_count": 15,
   "metadata": {},
   "outputs": [
    {
     "data": {
      "text/html": [
       "<div>\n",
       "<style scoped>\n",
       "    .dataframe tbody tr th:only-of-type {\n",
       "        vertical-align: middle;\n",
       "    }\n",
       "\n",
       "    .dataframe tbody tr th {\n",
       "        vertical-align: top;\n",
       "    }\n",
       "\n",
       "    .dataframe thead th {\n",
       "        text-align: right;\n",
       "    }\n",
       "</style>\n",
       "<table border=\"1\" class=\"dataframe\">\n",
       "  <thead>\n",
       "    <tr style=\"text-align: right;\">\n",
       "      <th></th>\n",
       "      <th>year</th>\n",
       "      <th>race_eth</th>\n",
       "      <th>first_degree_hx</th>\n",
       "      <th>age_menarche</th>\n",
       "      <th>age_first_birth</th>\n",
       "      <th>BIRADS_breast_density</th>\n",
       "      <th>current_hrt</th>\n",
       "      <th>menopaus</th>\n",
       "      <th>bmi_group</th>\n",
       "      <th>biophx</th>\n",
       "      <th>breast_cancer_history</th>\n",
       "      <th>age</th>\n",
       "    </tr>\n",
       "  </thead>\n",
       "  <tbody>\n",
       "    <tr>\n",
       "      <th>506461</th>\n",
       "      <td>2016</td>\n",
       "      <td>2</td>\n",
       "      <td>0</td>\n",
       "      <td>9</td>\n",
       "      <td>0</td>\n",
       "      <td>3</td>\n",
       "      <td>1</td>\n",
       "      <td>2</td>\n",
       "      <td>1</td>\n",
       "      <td>0</td>\n",
       "      <td>9</td>\n",
       "      <td>8</td>\n",
       "    </tr>\n",
       "    <tr>\n",
       "      <th>506462</th>\n",
       "      <td>2017</td>\n",
       "      <td>9</td>\n",
       "      <td>0</td>\n",
       "      <td>9</td>\n",
       "      <td>9</td>\n",
       "      <td>3</td>\n",
       "      <td>9</td>\n",
       "      <td>2</td>\n",
       "      <td>4</td>\n",
       "      <td>1</td>\n",
       "      <td>0</td>\n",
       "      <td>9</td>\n",
       "    </tr>\n",
       "    <tr>\n",
       "      <th>506463</th>\n",
       "      <td>2014</td>\n",
       "      <td>2</td>\n",
       "      <td>1</td>\n",
       "      <td>0</td>\n",
       "      <td>3</td>\n",
       "      <td>3</td>\n",
       "      <td>0</td>\n",
       "      <td>1</td>\n",
       "      <td>2</td>\n",
       "      <td>0</td>\n",
       "      <td>0</td>\n",
       "      <td>7</td>\n",
       "    </tr>\n",
       "    <tr>\n",
       "      <th>506464</th>\n",
       "      <td>2015</td>\n",
       "      <td>1</td>\n",
       "      <td>0</td>\n",
       "      <td>9</td>\n",
       "      <td>3</td>\n",
       "      <td>3</td>\n",
       "      <td>0</td>\n",
       "      <td>3</td>\n",
       "      <td>4</td>\n",
       "      <td>1</td>\n",
       "      <td>0</td>\n",
       "      <td>5</td>\n",
       "    </tr>\n",
       "    <tr>\n",
       "      <th>506465</th>\n",
       "      <td>2013</td>\n",
       "      <td>5</td>\n",
       "      <td>1</td>\n",
       "      <td>1</td>\n",
       "      <td>0</td>\n",
       "      <td>1</td>\n",
       "      <td>0</td>\n",
       "      <td>2</td>\n",
       "      <td>2</td>\n",
       "      <td>1</td>\n",
       "      <td>0</td>\n",
       "      <td>10</td>\n",
       "    </tr>\n",
       "  </tbody>\n",
       "</table>\n",
       "</div>"
      ],
      "text/plain": [
       "        year  race_eth  first_degree_hx  age_menarche  age_first_birth  \\\n",
       "506461  2016         2                0             9                0   \n",
       "506462  2017         9                0             9                9   \n",
       "506463  2014         2                1             0                3   \n",
       "506464  2015         1                0             9                3   \n",
       "506465  2013         5                1             1                0   \n",
       "\n",
       "        BIRADS_breast_density  current_hrt  menopaus  bmi_group  biophx  \\\n",
       "506461                      3            1         2          1       0   \n",
       "506462                      3            9         2          4       1   \n",
       "506463                      3            0         1          2       0   \n",
       "506464                      3            0         3          4       1   \n",
       "506465                      1            0         2          2       1   \n",
       "\n",
       "        breast_cancer_history  age  \n",
       "506461                      9    8  \n",
       "506462                      0    9  \n",
       "506463                      0    7  \n",
       "506464                      0    5  \n",
       "506465                      0   10  "
      ]
     },
     "execution_count": 15,
     "metadata": {},
     "output_type": "execute_result"
    }
   ],
   "source": [
    "data.tail()"
   ]
  },
  {
   "cell_type": "code",
   "execution_count": 16,
   "metadata": {},
   "outputs": [
    {
     "name": "stdout",
     "output_type": "stream",
     "text": [
      "Train Set                                            Test Set         \n",
      "[     0      1      2 ... 506462 506464 506465] [     6      7     24 ... 506449 506461 506463]\n",
      "[     0      1      3 ... 506462 506463 506464] [     2     26     39 ... 506442 506448 506465]\n",
      "[     0      1      2 ... 506463 506464 506465] [    11     28     35 ... 506395 506446 506455]\n",
      "[     1      2      3 ... 506462 506463 506465] [     0     16     17 ... 506452 506454 506464]\n",
      "[     0      1      2 ... 506463 506464 506465] [    10     12     20 ... 506420 506433 506457]\n",
      "[     0      1      2 ... 506463 506464 506465] [     4     29     38 ... 506447 506456 506462]\n",
      "[     0      2      3 ... 506463 506464 506465] [     1      8      9 ... 506429 506445 506451]\n",
      "[     0      1      2 ... 506463 506464 506465] [     3     14     23 ... 506443 506450 506459]\n",
      "[     0      1      2 ... 506463 506464 506465] [    13     19     25 ... 506392 506402 506421]\n",
      "[     0      1      2 ... 506463 506464 506465] [     5     15     18 ... 506453 506458 506460]\n"
     ]
    }
   ],
   "source": [
    "#ignore all caught warnings   \n",
    "with warnings.catch_warnings():\n",
    "    warnings.filterwarnings(\"ignore\")\n",
    "\n",
    "from sklearn.model_selection import KFold\n",
    "from sklearn.svm import SVR\n",
    "from sklearn.model_selection import cross_val_score\n",
    "scores = []\n",
    "best_svr = SVR(kernel='rbf', gamma = 'scale')\n",
    "cv = KFold(n_splits=10, random_state=42, shuffle=True)\n",
    "#for train_index, test_index in cv.split(X):\n",
    "    #print(\"Train Index: \", train_index, \"\\n\")\n",
    "    #print(\"Test Index: \", test_index)\n",
    "print (\"Train Set                                            Test Set         \")\n",
    "for train_set,test_set in cv.split(X):\n",
    "    print(train_set , test_set)\n",
    "\n",
    "    #X_train, X_test, Y_train, Y_test = X[train_index], X[test_index], Y[train_index], Y[test_index]\n",
    "\n",
    "\n",
    "    \n"
   ]
  },
  {
   "cell_type": "code",
   "execution_count": 13,
   "metadata": {},
   "outputs": [],
   "source": [
    "#from sklearn import svm\n",
    "#svc = svm.SVC(kernel='linear',C=1).fit(X,Y) "
   ]
  },
  {
   "cell_type": "code",
   "execution_count": null,
   "metadata": {},
   "outputs": [],
   "source": [
    "#from sklearn import cross_validation\n",
    "#from sklearn.model_selection import cross_validate\n",
    "#from sklearn.cross_validation import KFold, cross_val_score\n",
    "#from sklearn.model_selection import KFold , cross_val_score\n",
    "#Kfold = KFold(len(data),n_splits=5,shuffle=False)\n",
    "#print(\"KfoldCrossVal score using SVM is %s\" %cross_val_score(best_svr,X,Y,cv=10).mean())"
   ]
  },
  {
   "cell_type": "code",
   "execution_count": null,
   "metadata": {},
   "outputs": [],
   "source": [
    "#from sklearn import metrics"
   ]
  },
  {
   "cell_type": "code",
   "execution_count": null,
   "metadata": {},
   "outputs": [],
   "source": [
    "#sm = svc.fit(X_train,Y_train)\n",
    "#Y_pred = sm.predict(X_test)\n",
    "#print(\"Accuracy: {}%\".format(sm.score(X_test, Y_test) * 100 ))"
   ]
  },
  {
   "cell_type": "code",
   "execution_count": 17,
   "metadata": {},
   "outputs": [],
   "source": [
    "#Randomforest classification\n",
    "from sklearn.ensemble import RandomForestClassifier\n",
    "rf = RandomForestClassifier(n_estimators = 1000, random_state = 42) # Instantiate model with 1000 decision trees\n",
    "rf.fit(X_train, Y_train);#train model on training data"
   ]
  },
  {
   "cell_type": "code",
   "execution_count": 18,
   "metadata": {},
   "outputs": [
    {
     "name": "stdout",
     "output_type": "stream",
     "text": [
      "Mean Absolute Error: 2.04 degrees.\n"
     ]
    }
   ],
   "source": [
    "predictions = rf.predict(X_test) #make predictions on test data\n",
    "errors = abs(predictions - Y_test) #calculate absolute errors\n",
    "print('Mean Absolute Error:', round(np.mean(errors), 2), 'degrees.')"
   ]
  },
  {
   "cell_type": "code",
   "execution_count": 19,
   "metadata": {},
   "outputs": [
    {
     "name": "stdout",
     "output_type": "stream",
     "text": [
      "Accuracy: 70.28 %.\n"
     ]
    }
   ],
   "source": [
    "#calculating accuracy\n",
    "mape = 100 * (errors / Y_test) #calculate mean absolute percentage error mape\n",
    "accuracy = 100 - np.mean(mape)\n",
    "print('Accuracy:', round(accuracy, 2), '%.')"
   ]
  },
  {
   "cell_type": "code",
   "execution_count": 20,
   "metadata": {},
   "outputs": [
    {
     "data": {
      "text/plain": [
       "GaussianNB()"
      ]
     },
     "execution_count": 20,
     "metadata": {},
     "output_type": "execute_result"
    }
   ],
   "source": [
    "#Naive Bayes calssification\n",
    "from sklearn.naive_bayes import GaussianNB\n",
    "from sklearn.metrics import accuracy_score\n",
    "model = GaussianNB()\n",
    "model.fit(X_train,Y_train)"
   ]
  },
  {
   "cell_type": "code",
   "execution_count": 21,
   "metadata": {},
   "outputs": [],
   "source": [
    "Y_pred = model.predict(X_test)"
   ]
  },
  {
   "cell_type": "code",
   "execution_count": 22,
   "metadata": {},
   "outputs": [
    {
     "data": {
      "text/plain": [
       "17.51831302939957"
      ]
     },
     "execution_count": 22,
     "metadata": {},
     "output_type": "execute_result"
    }
   ],
   "source": [
    "accuracy = accuracy_score(Y_test,Y_pred)*100\n",
    "accuracy"
   ]
  },
  {
   "cell_type": "code",
   "execution_count": 58,
   "metadata": {},
   "outputs": [],
   "source": [
    "from sklearn.naive_bayes import MultinomialNB\n",
    "model = MultinomialNB().fit(X_train,Y_train)"
   ]
  },
  {
   "cell_type": "code",
   "execution_count": 59,
   "metadata": {},
   "outputs": [
    {
     "name": "stdout",
     "output_type": "stream",
     "text": [
      "0.17912215925918612\n"
     ]
    }
   ],
   "source": [
    "predicted = model.predict(X_test)\n",
    "print(np.mean(predicted == Y_test))"
   ]
  },
  {
   "cell_type": "code",
   "execution_count": null,
   "metadata": {},
   "outputs": [],
   "source": []
  }
 ],
 "metadata": {
  "kernelspec": {
   "display_name": "Python 3",
   "language": "python",
   "name": "python3"
  },
  "language_info": {
   "codemirror_mode": {
    "name": "ipython",
    "version": 3
   },
   "file_extension": ".py",
   "mimetype": "text/x-python",
   "name": "python",
   "nbconvert_exporter": "python",
   "pygments_lexer": "ipython3",
   "version": "3.6.10"
  }
 },
 "nbformat": 4,
 "nbformat_minor": 4
}
