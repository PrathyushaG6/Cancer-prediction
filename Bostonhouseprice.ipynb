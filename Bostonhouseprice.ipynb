{
 "cells": [
  {
   "cell_type": "code",
   "execution_count": 1,
   "metadata": {},
   "outputs": [],
   "source": [
    "#importing the libraries\n",
    "import pandas as pd\n",
    "import matplotlib as plt\n",
    "import numpy as np\n",
    "import random\n",
    "import warnings\n",
    "%matplotlib inline"
   ]
  },
  {
   "cell_type": "code",
   "execution_count": 2,
   "metadata": {},
   "outputs": [
    {
     "name": "stdout",
     "output_type": "stream",
     "text": [
      "        CRIM    ZN  INDUS  CHAS    NOX     RM   AGE     DIS  RAD  TAX  \\\n",
      "0    0.00632  18.0   2.31     0  0.538  6.575  65.2  4.0900    1  296   \n",
      "1    0.02731   0.0   7.07     0  0.469  6.421  78.9  4.9671    2  242   \n",
      "2    0.02729   0.0   7.07     0  0.469  7.185  61.1  4.9671    2  242   \n",
      "3    0.03237   0.0   2.18     0  0.458  6.998  45.8  6.0622    3  222   \n",
      "4    0.06905   0.0   2.18     0  0.458  7.147  54.2  6.0622    3  222   \n",
      "..       ...   ...    ...   ...    ...    ...   ...     ...  ...  ...   \n",
      "501  0.06263   0.0  11.93     0  0.573  6.593  69.1  2.4786    1  273   \n",
      "502  0.04527   0.0  11.93     0  0.573  6.120  76.7  2.2875    1  273   \n",
      "503  0.06076   0.0  11.93     0  0.573  6.976  91.0  2.1675    1  273   \n",
      "504  0.10959   0.0  11.93     0  0.573  6.794  89.3  2.3889    1  273   \n",
      "505  0.04741   0.0  11.93     0  0.573  6.030  80.8  2.5050    1  273   \n",
      "\n",
      "     PTRATIO  B:1000  LSTAT  MEDV  \n",
      "0       15.3  396.90   4.98  24.0  \n",
      "1       17.8  396.90   9.14  21.6  \n",
      "2       17.8  392.83   4.03  34.7  \n",
      "3       18.7  394.63   2.94  33.4  \n",
      "4       18.7  396.90   5.33  36.2  \n",
      "..       ...     ...    ...   ...  \n",
      "501     21.0  391.99   9.67  22.4  \n",
      "502     21.0  396.90   9.08  20.6  \n",
      "503     21.0  396.90   5.64  23.9  \n",
      "504     21.0  393.45   6.48  22.0  \n",
      "505     21.0  396.90   7.88  11.9  \n",
      "\n",
      "[506 rows x 14 columns]\n"
     ]
    }
   ],
   "source": [
    "#importing the dataset\n",
    "data = pd.read_csv(r'C:\\Users\\krish\\anaconda3\\csv\\housing.csv')\n",
    "#data.head()\n",
    "print(data)\n",
    "X = data.iloc[:, [0,11]]\n",
    "Y = data.iloc[:, 12]"
   ]
  },
  {
   "cell_type": "code",
   "execution_count": 3,
   "metadata": {},
   "outputs": [],
   "source": [
    "from sklearn import datasets\n",
    "# Create our client's feature set for which we will be predicting a selling price\n",
    "CLIENT_FEATURES = [[11.95, 0.00, 18.100, 0, 0.6590, 5.6090, 90.00, 1.385, 24, 680.0, 20.20, 332.09, 12.13]]\n",
    "\n",
    "# Load the Boston Housing dataset into the city_data variable\n",
    "city_data = datasets.load_boston()\n",
    "\n",
    "# Initialize the housing prices and housing features\n",
    "housing_prices = city_data.target\n",
    "housing_features = city_data.data\n"
   ]
  },
  {
   "cell_type": "code",
   "execution_count": 4,
   "metadata": {},
   "outputs": [
    {
     "name": "stdout",
     "output_type": "stream",
     "text": [
      "Total number of houses: 506\n",
      "Total number of features: 13\n",
      "Mean house price: 22.533\n",
      "Median house price: 21.2\n",
      "Standard deviation of house price: 9.188\n"
     ]
    }
   ],
   "source": [
    "# Number of houses in the dataset\n",
    "total_houses = housing_prices.size\n",
    "\n",
    "# Number of features in the dataset\n",
    "# Note: this is just the number of features per data point, should be 13\n",
    "total_features = housing_features[0].size\n",
    "\n",
    "# Mean house value of the dataset\n",
    "mean_price = housing_prices.mean()\n",
    "\n",
    "# Median house value of the dataset\n",
    "median_price = np.median(housing_prices)\n",
    "\n",
    "# Standard deviation of housing values of the dataset\n",
    "std_dev = np.std(housing_prices)\n",
    "\n",
    "# Show the calculated statistics\n",
    "print (\"Total number of houses:\", total_houses)\n",
    "print (\"Total number of features:\", total_features)\n",
    "print (\"Mean house price: {0:.3f}\".format(mean_price))\n",
    "print (\"Median house price:\", median_price)\n",
    "print (\"Standard deviation of house price: {0:.3f}\".format(std_dev))"
   ]
  },
  {
   "cell_type": "code",
   "execution_count": 5,
   "metadata": {},
   "outputs": [
    {
     "data": {
      "text/html": [
       "<div>\n",
       "<style scoped>\n",
       "    .dataframe tbody tr th:only-of-type {\n",
       "        vertical-align: middle;\n",
       "    }\n",
       "\n",
       "    .dataframe tbody tr th {\n",
       "        vertical-align: top;\n",
       "    }\n",
       "\n",
       "    .dataframe thead th {\n",
       "        text-align: right;\n",
       "    }\n",
       "</style>\n",
       "<table border=\"1\" class=\"dataframe\">\n",
       "  <thead>\n",
       "    <tr style=\"text-align: right;\">\n",
       "      <th></th>\n",
       "      <th>CRIM</th>\n",
       "      <th>ZN</th>\n",
       "      <th>INDUS</th>\n",
       "      <th>CHAS</th>\n",
       "      <th>NOX</th>\n",
       "      <th>RM</th>\n",
       "      <th>AGE</th>\n",
       "      <th>DIS</th>\n",
       "      <th>RAD</th>\n",
       "      <th>TAX</th>\n",
       "      <th>PTRATIO</th>\n",
       "      <th>B:1000</th>\n",
       "      <th>LSTAT</th>\n",
       "      <th>MEDV</th>\n",
       "    </tr>\n",
       "  </thead>\n",
       "  <tbody>\n",
       "    <tr>\n",
       "      <th>0</th>\n",
       "      <td>False</td>\n",
       "      <td>False</td>\n",
       "      <td>False</td>\n",
       "      <td>False</td>\n",
       "      <td>False</td>\n",
       "      <td>False</td>\n",
       "      <td>False</td>\n",
       "      <td>False</td>\n",
       "      <td>False</td>\n",
       "      <td>False</td>\n",
       "      <td>False</td>\n",
       "      <td>False</td>\n",
       "      <td>False</td>\n",
       "      <td>False</td>\n",
       "    </tr>\n",
       "    <tr>\n",
       "      <th>1</th>\n",
       "      <td>False</td>\n",
       "      <td>False</td>\n",
       "      <td>False</td>\n",
       "      <td>False</td>\n",
       "      <td>False</td>\n",
       "      <td>False</td>\n",
       "      <td>False</td>\n",
       "      <td>False</td>\n",
       "      <td>False</td>\n",
       "      <td>False</td>\n",
       "      <td>False</td>\n",
       "      <td>False</td>\n",
       "      <td>False</td>\n",
       "      <td>False</td>\n",
       "    </tr>\n",
       "    <tr>\n",
       "      <th>2</th>\n",
       "      <td>False</td>\n",
       "      <td>False</td>\n",
       "      <td>False</td>\n",
       "      <td>False</td>\n",
       "      <td>False</td>\n",
       "      <td>False</td>\n",
       "      <td>False</td>\n",
       "      <td>False</td>\n",
       "      <td>False</td>\n",
       "      <td>False</td>\n",
       "      <td>False</td>\n",
       "      <td>False</td>\n",
       "      <td>False</td>\n",
       "      <td>False</td>\n",
       "    </tr>\n",
       "    <tr>\n",
       "      <th>3</th>\n",
       "      <td>False</td>\n",
       "      <td>False</td>\n",
       "      <td>False</td>\n",
       "      <td>False</td>\n",
       "      <td>False</td>\n",
       "      <td>False</td>\n",
       "      <td>False</td>\n",
       "      <td>False</td>\n",
       "      <td>False</td>\n",
       "      <td>False</td>\n",
       "      <td>False</td>\n",
       "      <td>False</td>\n",
       "      <td>False</td>\n",
       "      <td>False</td>\n",
       "    </tr>\n",
       "    <tr>\n",
       "      <th>4</th>\n",
       "      <td>False</td>\n",
       "      <td>False</td>\n",
       "      <td>False</td>\n",
       "      <td>False</td>\n",
       "      <td>False</td>\n",
       "      <td>False</td>\n",
       "      <td>False</td>\n",
       "      <td>False</td>\n",
       "      <td>False</td>\n",
       "      <td>False</td>\n",
       "      <td>False</td>\n",
       "      <td>False</td>\n",
       "      <td>False</td>\n",
       "      <td>False</td>\n",
       "    </tr>\n",
       "    <tr>\n",
       "      <th>...</th>\n",
       "      <td>...</td>\n",
       "      <td>...</td>\n",
       "      <td>...</td>\n",
       "      <td>...</td>\n",
       "      <td>...</td>\n",
       "      <td>...</td>\n",
       "      <td>...</td>\n",
       "      <td>...</td>\n",
       "      <td>...</td>\n",
       "      <td>...</td>\n",
       "      <td>...</td>\n",
       "      <td>...</td>\n",
       "      <td>...</td>\n",
       "      <td>...</td>\n",
       "    </tr>\n",
       "    <tr>\n",
       "      <th>501</th>\n",
       "      <td>False</td>\n",
       "      <td>False</td>\n",
       "      <td>False</td>\n",
       "      <td>False</td>\n",
       "      <td>False</td>\n",
       "      <td>False</td>\n",
       "      <td>False</td>\n",
       "      <td>False</td>\n",
       "      <td>False</td>\n",
       "      <td>False</td>\n",
       "      <td>False</td>\n",
       "      <td>False</td>\n",
       "      <td>False</td>\n",
       "      <td>False</td>\n",
       "    </tr>\n",
       "    <tr>\n",
       "      <th>502</th>\n",
       "      <td>False</td>\n",
       "      <td>False</td>\n",
       "      <td>False</td>\n",
       "      <td>False</td>\n",
       "      <td>False</td>\n",
       "      <td>False</td>\n",
       "      <td>False</td>\n",
       "      <td>False</td>\n",
       "      <td>False</td>\n",
       "      <td>False</td>\n",
       "      <td>False</td>\n",
       "      <td>False</td>\n",
       "      <td>False</td>\n",
       "      <td>False</td>\n",
       "    </tr>\n",
       "    <tr>\n",
       "      <th>503</th>\n",
       "      <td>False</td>\n",
       "      <td>False</td>\n",
       "      <td>False</td>\n",
       "      <td>False</td>\n",
       "      <td>False</td>\n",
       "      <td>False</td>\n",
       "      <td>False</td>\n",
       "      <td>False</td>\n",
       "      <td>False</td>\n",
       "      <td>False</td>\n",
       "      <td>False</td>\n",
       "      <td>False</td>\n",
       "      <td>False</td>\n",
       "      <td>False</td>\n",
       "    </tr>\n",
       "    <tr>\n",
       "      <th>504</th>\n",
       "      <td>False</td>\n",
       "      <td>False</td>\n",
       "      <td>False</td>\n",
       "      <td>False</td>\n",
       "      <td>False</td>\n",
       "      <td>False</td>\n",
       "      <td>False</td>\n",
       "      <td>False</td>\n",
       "      <td>False</td>\n",
       "      <td>False</td>\n",
       "      <td>False</td>\n",
       "      <td>False</td>\n",
       "      <td>False</td>\n",
       "      <td>False</td>\n",
       "    </tr>\n",
       "    <tr>\n",
       "      <th>505</th>\n",
       "      <td>False</td>\n",
       "      <td>False</td>\n",
       "      <td>False</td>\n",
       "      <td>False</td>\n",
       "      <td>False</td>\n",
       "      <td>False</td>\n",
       "      <td>False</td>\n",
       "      <td>False</td>\n",
       "      <td>False</td>\n",
       "      <td>False</td>\n",
       "      <td>False</td>\n",
       "      <td>False</td>\n",
       "      <td>False</td>\n",
       "      <td>False</td>\n",
       "    </tr>\n",
       "  </tbody>\n",
       "</table>\n",
       "<p>506 rows × 14 columns</p>\n",
       "</div>"
      ],
      "text/plain": [
       "      CRIM     ZN  INDUS   CHAS    NOX     RM    AGE    DIS    RAD    TAX  \\\n",
       "0    False  False  False  False  False  False  False  False  False  False   \n",
       "1    False  False  False  False  False  False  False  False  False  False   \n",
       "2    False  False  False  False  False  False  False  False  False  False   \n",
       "3    False  False  False  False  False  False  False  False  False  False   \n",
       "4    False  False  False  False  False  False  False  False  False  False   \n",
       "..     ...    ...    ...    ...    ...    ...    ...    ...    ...    ...   \n",
       "501  False  False  False  False  False  False  False  False  False  False   \n",
       "502  False  False  False  False  False  False  False  False  False  False   \n",
       "503  False  False  False  False  False  False  False  False  False  False   \n",
       "504  False  False  False  False  False  False  False  False  False  False   \n",
       "505  False  False  False  False  False  False  False  False  False  False   \n",
       "\n",
       "     PTRATIO  B:1000  LSTAT   MEDV  \n",
       "0      False   False  False  False  \n",
       "1      False   False  False  False  \n",
       "2      False   False  False  False  \n",
       "3      False   False  False  False  \n",
       "4      False   False  False  False  \n",
       "..       ...     ...    ...    ...  \n",
       "501    False   False  False  False  \n",
       "502    False   False  False  False  \n",
       "503    False   False  False  False  \n",
       "504    False   False  False  False  \n",
       "505    False   False  False  False  \n",
       "\n",
       "[506 rows x 14 columns]"
      ]
     },
     "execution_count": 5,
     "metadata": {},
     "output_type": "execute_result"
    }
   ],
   "source": [
    "#find missing values,if any\n",
    "data.isnull()"
   ]
  },
  {
   "cell_type": "code",
   "execution_count": 42,
   "metadata": {},
   "outputs": [
    {
     "name": "stdout",
     "output_type": "stream",
     "text": [
      "ZN - 0%\n",
      "INDUS - 0%\n",
      "CHAS - 0%\n",
      "NOX - 0%\n",
      "AGE - 0%\n",
      "DIS - 0%\n",
      "RAD - 0%\n",
      "TAX - 0%\n",
      "PTRATIO - 0%\n",
      "B:1000 - 0%\n",
      "LSTAT - 0%\n",
      "MEDV - 0%\n",
      "CRIM - 0%\n",
      "RM - 0%\n"
     ]
    }
   ],
   "source": [
    "#Missing Data Percentage List\n",
    "for col in data.columns:\n",
    "    pct_missing = np.mean(data[col].isnull())\n",
    "    print('{} - {}%'.format(col, round(pct_missing*100)))"
   ]
  },
  {
   "cell_type": "code",
   "execution_count": 6,
   "metadata": {},
   "outputs": [
    {
     "name": "stdout",
     "output_type": "stream",
     "text": [
      "Feature: 0, Score: 72.65877\n",
      "Feature: 1, Score: 37.47138\n",
      "Feature: 2, Score: 0.00000\n",
      "Feature: 3, Score: 96.34528\n",
      "Feature: 4, Score: 9.09653\n",
      "Feature: 5, Score: 40.20556\n",
      "Feature: 6, Score: 65.23618\n",
      "Feature: 7, Score: -0.00000\n",
      "Feature: 8, Score: 64.45327\n",
      "Feature: 9, Score: 37.73911\n",
      "Feature: 10, Score: 29.97904\n",
      "Feature: 11, Score: -0.00000\n",
      "Feature: 12, Score: 45.03619\n"
     ]
    },
    {
     "data": {
      "image/png": "[encoded data removed]",
      "text/plain": [
       "<Figure size 432x288 with 1 Axes>"
      ]
     },
     "metadata": {
      "needs_background": "light"
     },
     "output_type": "display_data"
    }
   ],
   "source": [
    "# linear regression for feature importance\n",
    "from sklearn.datasets import make_regression\n",
    "from sklearn.linear_model import LinearRegression\n",
    "from matplotlib import pyplot\n",
    "# define dataset\n",
    "X, Y = make_regression(n_samples=1000, n_features=13, random_state=1)\n",
    "# define the model\n",
    "model = LinearRegression()\n",
    "# fit the model\n",
    "model.fit(X, Y)\n",
    "# get importance\n",
    "importance = model.coef_\n",
    "# summarize feature importance\n",
    "for i,v in enumerate(importance):\n",
    "\tprint('Feature: %0d, Score: %.5f' % (i,v))\n",
    "# plot feature importance\n",
    "pyplot.bar([x for x in range(len(importance))], importance)\n",
    "pyplot.show()"
   ]
  },
  {
   "cell_type": "code",
   "execution_count": 43,
   "metadata": {},
   "outputs": [
    {
     "name": "stdout",
     "output_type": "stream",
     "text": [
      "(506, 14)\n"
     ]
    }
   ],
   "source": [
    "#removing duplicate rows\n",
    "data1 = data.drop_duplicates()\n",
    "print(data1.shape)"
   ]
  },
  {
   "cell_type": "code",
   "execution_count": 8,
   "metadata": {},
   "outputs": [
    {
     "name": "stdout",
     "output_type": "stream",
     "text": [
      "Feature: 0, Score: 0.49351\n",
      "Feature: 1, Score: -0.41169\n",
      "Feature: 2, Score: 0.27253\n",
      "Feature: 3, Score: 0.18284\n",
      "Feature: 4, Score: -0.52518\n",
      "Feature: 5, Score: 0.04419\n",
      "Feature: 6, Score: 0.06553\n",
      "Feature: 7, Score: -0.64818\n",
      "Feature: 8, Score: -0.01596\n",
      "Feature: 9, Score: -0.11633\n",
      "Feature: 10, Score: 0.09287\n",
      "Feature: 11, Score: -0.46256\n",
      "Feature: 12, Score: 0.16161\n"
     ]
    },
    {
     "data": {
      "image/png": "[encoded data removed]",
      "text/plain": [
       "<Figure size 432x288 with 1 Axes>"
      ]
     },
     "metadata": {
      "needs_background": "light"
     },
     "output_type": "display_data"
    }
   ],
   "source": [
    "# logistic regression for feature importance\n",
    "from sklearn.datasets import make_classification\n",
    "from sklearn.linear_model import LogisticRegression\n",
    "from matplotlib import pyplot\n",
    "# define dataset\n",
    "X, Y = make_classification(n_samples=1000, n_features=13, n_informative=5, n_redundant=5, random_state=1)\n",
    "# define the model\n",
    "model = LogisticRegression()\n",
    "# fit the model\n",
    "model.fit(X, Y)\n",
    "# get importance\n",
    "importance = model.coef_[0]\n",
    "# summarize feature importance\n",
    "for i,v in enumerate(importance):\n",
    "\tprint('Feature: %0d, Score: %.5f' % (i,v))\n",
    "# plot feature importance\n",
    "pyplot.bar([x for x in range(len(importance))], importance)\n",
    "pyplot.show()"
   ]
  },
  {
   "cell_type": "code",
   "execution_count": 9,
   "metadata": {},
   "outputs": [
    {
     "data": {
      "text/plain": [
       "ZN         float64\n",
       "INDUS      float64\n",
       "CHAS         int64\n",
       "NOX        float64\n",
       "RM         float64\n",
       "AGE        float64\n",
       "DIS        float64\n",
       "RAD          int64\n",
       "TAX          int64\n",
       "PTRATIO    float64\n",
       "B:1000     float64\n",
       "LSTAT      float64\n",
       "MEDV       float64\n",
       "CRIM       float64\n",
       "dtype: object"
      ]
     },
     "execution_count": 9,
     "metadata": {},
     "output_type": "execute_result"
    }
   ],
   "source": [
    "data.dtypes"
   ]
  },
  {
   "cell_type": "code",
   "execution_count": 7,
   "metadata": {},
   "outputs": [],
   "source": [
    "#pre processing the data\n",
    "from sklearn.preprocessing import MinMaxScaler\n",
    "scaler = MinMaxScaler(feature_range=(-1, 1)).fit(X)\n",
    "X = scaler.fit_transform(X)"
   ]
  },
  {
   "cell_type": "code",
   "execution_count": 8,
   "metadata": {},
   "outputs": [],
   "source": [
    "#shuffling the data\n",
    "data = data.sample(frac=1).reset_index(drop=True)"
   ]
  },
  {
   "cell_type": "code",
   "execution_count": 8,
   "metadata": {},
   "outputs": [
    {
     "data": {
      "text/html": [
       "<div>\n",
       "<style scoped>\n",
       "    .dataframe tbody tr th:only-of-type {\n",
       "        vertical-align: middle;\n",
       "    }\n",
       "\n",
       "    .dataframe tbody tr th {\n",
       "        vertical-align: top;\n",
       "    }\n",
       "\n",
       "    .dataframe thead th {\n",
       "        text-align: right;\n",
       "    }\n",
       "</style>\n",
       "<table border=\"1\" class=\"dataframe\">\n",
       "  <thead>\n",
       "    <tr style=\"text-align: right;\">\n",
       "      <th></th>\n",
       "      <th>CRIM</th>\n",
       "      <th>ZN</th>\n",
       "      <th>INDUS</th>\n",
       "      <th>CHAS</th>\n",
       "      <th>NOX</th>\n",
       "      <th>RM</th>\n",
       "      <th>AGE</th>\n",
       "      <th>DIS</th>\n",
       "      <th>RAD</th>\n",
       "      <th>TAX</th>\n",
       "      <th>PTRATIO</th>\n",
       "      <th>B:1000</th>\n",
       "      <th>LSTAT</th>\n",
       "      <th>MEDV</th>\n",
       "    </tr>\n",
       "  </thead>\n",
       "  <tbody>\n",
       "    <tr>\n",
       "      <th>0</th>\n",
       "      <td>0.07022</td>\n",
       "      <td>0.0</td>\n",
       "      <td>4.05</td>\n",
       "      <td>0</td>\n",
       "      <td>0.510</td>\n",
       "      <td>6.020</td>\n",
       "      <td>47.2</td>\n",
       "      <td>3.5549</td>\n",
       "      <td>5</td>\n",
       "      <td>296</td>\n",
       "      <td>16.6</td>\n",
       "      <td>393.23</td>\n",
       "      <td>10.11</td>\n",
       "      <td>23.2</td>\n",
       "    </tr>\n",
       "    <tr>\n",
       "      <th>1</th>\n",
       "      <td>8.79212</td>\n",
       "      <td>0.0</td>\n",
       "      <td>18.10</td>\n",
       "      <td>0</td>\n",
       "      <td>0.584</td>\n",
       "      <td>5.565</td>\n",
       "      <td>70.6</td>\n",
       "      <td>2.0635</td>\n",
       "      <td>24</td>\n",
       "      <td>666</td>\n",
       "      <td>20.2</td>\n",
       "      <td>3.65</td>\n",
       "      <td>17.16</td>\n",
       "      <td>11.7</td>\n",
       "    </tr>\n",
       "    <tr>\n",
       "      <th>2</th>\n",
       "      <td>0.15038</td>\n",
       "      <td>0.0</td>\n",
       "      <td>25.65</td>\n",
       "      <td>0</td>\n",
       "      <td>0.581</td>\n",
       "      <td>5.856</td>\n",
       "      <td>97.0</td>\n",
       "      <td>1.9444</td>\n",
       "      <td>2</td>\n",
       "      <td>188</td>\n",
       "      <td>19.1</td>\n",
       "      <td>370.31</td>\n",
       "      <td>25.41</td>\n",
       "      <td>17.3</td>\n",
       "    </tr>\n",
       "    <tr>\n",
       "      <th>3</th>\n",
       "      <td>1.05393</td>\n",
       "      <td>0.0</td>\n",
       "      <td>8.14</td>\n",
       "      <td>0</td>\n",
       "      <td>0.538</td>\n",
       "      <td>5.935</td>\n",
       "      <td>29.3</td>\n",
       "      <td>4.4986</td>\n",
       "      <td>4</td>\n",
       "      <td>307</td>\n",
       "      <td>21.0</td>\n",
       "      <td>386.85</td>\n",
       "      <td>6.58</td>\n",
       "      <td>23.1</td>\n",
       "    </tr>\n",
       "    <tr>\n",
       "      <th>4</th>\n",
       "      <td>0.35233</td>\n",
       "      <td>0.0</td>\n",
       "      <td>21.89</td>\n",
       "      <td>0</td>\n",
       "      <td>0.624</td>\n",
       "      <td>6.454</td>\n",
       "      <td>98.4</td>\n",
       "      <td>1.8498</td>\n",
       "      <td>4</td>\n",
       "      <td>437</td>\n",
       "      <td>21.2</td>\n",
       "      <td>394.08</td>\n",
       "      <td>14.59</td>\n",
       "      <td>17.1</td>\n",
       "    </tr>\n",
       "  </tbody>\n",
       "</table>\n",
       "</div>"
      ],
      "text/plain": [
       "      CRIM   ZN  INDUS  CHAS    NOX     RM   AGE     DIS  RAD  TAX  PTRATIO  \\\n",
       "0  0.07022  0.0   4.05     0  0.510  6.020  47.2  3.5549    5  296     16.6   \n",
       "1  8.79212  0.0  18.10     0  0.584  5.565  70.6  2.0635   24  666     20.2   \n",
       "2  0.15038  0.0  25.65     0  0.581  5.856  97.0  1.9444    2  188     19.1   \n",
       "3  1.05393  0.0   8.14     0  0.538  5.935  29.3  4.4986    4  307     21.0   \n",
       "4  0.35233  0.0  21.89     0  0.624  6.454  98.4  1.8498    4  437     21.2   \n",
       "\n",
       "   B:1000  LSTAT  MEDV  \n",
       "0  393.23  10.11  23.2  \n",
       "1    3.65  17.16  11.7  \n",
       "2  370.31  25.41  17.3  \n",
       "3  386.85   6.58  23.1  \n",
       "4  394.08  14.59  17.1  "
      ]
     },
     "execution_count": 8,
     "metadata": {},
     "output_type": "execute_result"
    }
   ],
   "source": [
    "data.head()"
   ]
  },
  {
   "cell_type": "code",
   "execution_count": 9,
   "metadata": {},
   "outputs": [
    {
     "ename": "NameError",
     "evalue": "name 'X_train' is not defined",
     "output_type": "error",
     "traceback": [
      "\u001b[1;31m---------------------------------------------------------------------------\u001b[0m",
      "\u001b[1;31mNameError\u001b[0m                                 Traceback (most recent call last)",
      "\u001b[1;32m<ipython-input-9-967c794c19a6>\u001b[0m in \u001b[0;36m<module>\u001b[1;34m\u001b[0m\n\u001b[0;32m      4\u001b[0m     \u001b[0mX_train\u001b[0m\u001b[1;33m,\u001b[0m \u001b[0mX_test\u001b[0m\u001b[1;33m,\u001b[0m \u001b[0my_train\u001b[0m\u001b[1;33m,\u001b[0m \u001b[0my_test\u001b[0m \u001b[1;33m=\u001b[0m \u001b[0mtrain_test_split\u001b[0m\u001b[1;33m(\u001b[0m\u001b[0mX\u001b[0m\u001b[1;33m,\u001b[0m \u001b[0my\u001b[0m\u001b[1;33m,\u001b[0m \u001b[0mtest_size\u001b[0m\u001b[1;33m=\u001b[0m\u001b[1;36m0.3\u001b[0m\u001b[1;33m,\u001b[0m \u001b[0mrandom_state\u001b[0m\u001b[1;33m=\u001b[0m\u001b[1;36m10\u001b[0m\u001b[1;33m)\u001b[0m\u001b[1;33m\u001b[0m\u001b[1;33m\u001b[0m\u001b[0m\n\u001b[0;32m      5\u001b[0m     \u001b[1;32mreturn\u001b[0m \u001b[0mX_train\u001b[0m\u001b[1;33m,\u001b[0m \u001b[0my_train\u001b[0m\u001b[1;33m,\u001b[0m \u001b[0mX_test\u001b[0m\u001b[1;33m,\u001b[0m \u001b[0my_test\u001b[0m\u001b[1;33m\u001b[0m\u001b[1;33m\u001b[0m\u001b[0m\n\u001b[1;32m----> 6\u001b[1;33m \u001b[0mprint\u001b[0m \u001b[1;33m(\u001b[0m\u001b[0mX_train\u001b[0m\u001b[1;33m.\u001b[0m\u001b[0mshape\u001b[0m \u001b[1;33m,\u001b[0m \u001b[0my_train\u001b[0m\u001b[1;33m.\u001b[0m\u001b[0mshape\u001b[0m\u001b[1;33m)\u001b[0m\u001b[1;33m\u001b[0m\u001b[1;33m\u001b[0m\u001b[0m\n\u001b[0m\u001b[0;32m      7\u001b[0m \u001b[0mprint\u001b[0m \u001b[1;33m(\u001b[0m\u001b[0mX_test\u001b[0m\u001b[1;33m.\u001b[0m\u001b[0mshape\u001b[0m\u001b[1;33m,\u001b[0m \u001b[0my_test\u001b[0m\u001b[1;33m.\u001b[0m\u001b[0mshape\u001b[0m\u001b[1;33m)\u001b[0m\u001b[1;33m\u001b[0m\u001b[1;33m\u001b[0m\u001b[0m\n",
      "\u001b[1;31mNameError\u001b[0m: name 'X_train' is not defined"
     ]
    }
   ],
   "source": [
    "from sklearn.model_selection import train_test_split\n",
    "\n",
    "def shuffle_split_data(X, y):\n",
    "    X_train, X_test, y_train, y_test = train_test_split(X, y, test_size=0.3, random_state=10)\n",
    "    return X_train, y_train, X_test, y_test\n",
    "print (X_train.shape , y_train.shape)\n",
    "print (X_test.shape, y_test.shape)"
   ]
  },
  {
   "cell_type": "code",
   "execution_count": 10,
   "metadata": {},
   "outputs": [
    {
     "name": "stdout",
     "output_type": "stream",
     "text": [
      "(800, 13) (800,)\n",
      "(200, 13) (200,)\n"
     ]
    }
   ],
   "source": [
    "#Splitting the dataset into the Training set and Test set to 80 and 20\n",
    "from sklearn.model_selection import train_test_split\n",
    "X_train, X_test, y_train, y_test = train_test_split(X, Y, test_size = 0.2, random_state = 123)\n",
    "print (X_train.shape , y_train.shape)\n",
    "print (X_test.shape, y_test.shape)"
   ]
  },
  {
   "cell_type": "code",
   "execution_count": 11,
   "metadata": {},
   "outputs": [
    {
     "name": "stdout",
     "output_type": "stream",
     "text": [
      "Successfully shuffled and split the data!\n"
     ]
    }
   ],
   "source": [
    "# Test shuffle_split_data\n",
    "try:\n",
    "    X_train, y_train, X_test, y_test = shuffle_split_data(housing_features, housing_prices)\n",
    "    print (\"Successfully shuffled and split the data!\")\n",
    "except:\n",
    "    print (\"Something went wrong with shuffling and splitting the data.\") "
   ]
  },
  {
   "cell_type": "code",
   "execution_count": 12,
   "metadata": {},
   "outputs": [
    {
     "name": "stdout",
     "output_type": "stream",
     "text": [
      "Train Set                                            Test Set         \n",
      "[  0   1   2   3   4   5   6   7   8   9  11  12  13  14  15  16  17  18\n",
      "  19  20  21  22  24  25  26  27  28  29  31  32  33  34  35  36  37  38\n",
      "  40  41  42  43  44  45  46  47  48  49  50  51  52  53  55  56  57  58\n",
      "  60  61  62  64  65  68  69  71  72  73  74  75  77  78  79  80  81  82\n",
      "  83  84  85  86  87  89  90  91  92  93  94  95  97  98  99 100 102 103\n",
      " 104 105 106 108 109 110 111 112 113 114 115 116 117 118 119 120 121 122\n",
      " 123 124 125 126 127 128 129 130 131 132 133 134 135 137 138 140 141 142\n",
      " 143 144 145 146 147 148 149 150 151 152 153 154 155 156 157 158 159 160\n",
      " 161 162 163 164 165 166 167 168 169 170 171 172 173 175 176 177 178 179\n",
      " 180 181 182 183 184 185 186 187 188 189 190 191 192 193 194 195 196 197\n",
      " 199 200 201 202 203 204 205 206 207 208 211 212 213 214 215 216 217 219\n",
      " 220 222 223 224 225 226 227 228 229 230 231 232 233 234 236 237 238 239\n",
      " 240 241 242 243 244 245 246 247 248 249 250 251 252 253 254 255 256 257\n",
      " 258 259 260 262 263 264 265 266 267 268 269 270 271 272 273 274 276 278\n",
      " 279 281 282 283 284 285 286 287 288 290 291 293 294 295 297 298 300 301\n",
      " 302 303 304 305 306 308 309 310 311 313 314 315 316 317 320 321 322 323\n",
      " 324 325 326 329 330 331 332 333 334 335 336 337 338 339 340 341 342 343\n",
      " 344 345 347 348 349 350 351 352 353 354 355 356 357 358 359 360 361 362\n",
      " 363 364 365 366 367 368 369 372 373 374 375 376 377 378 379 380 381 383\n",
      " 384 385 386 387 388 389 390 391 392 393 394 395 396 397 398 399 400 401\n",
      " 402 403 404 405 406 407 408 409 410 412 413 414 415 416 417 418 419 420\n",
      " 421 422 423 424 425 426 427 428 429 430 431 432 433 434 435 437 438 440\n",
      " 441 442 443 444 445 446 447 448 449 450 452 453 454 455 456 457 458 459\n",
      " 460 461 462 463 464 465 466 467 468 469 470 471 472 473 474 475 476 477\n",
      " 478 479 480 481 482 483 484 485 486 487 488 489 490 491 492 494 495 496\n",
      " 497 498 500 501 502 503 504 505 506 507 508 509 510 511 512 514 515 516\n",
      " 517 518 519 520 523 524 525 526 528 529 530 531 532 533 534 535 536 537\n",
      " 538 539 540 541 544 545 546 547 550 551 552 553 554 555 556 557 558 559\n",
      " 560 561 562 563 564 565 566 567 568 569 571 572 573 574 575 576 577 579\n",
      " 580 581 582 583 585 586 587 588 591 592 593 594 595 596 597 598 599 600\n",
      " 602 603 605 606 607 608 609 610 611 612 613 614 615 616 618 619 620 622\n",
      " 623 624 625 627 628 629 630 631 632 633 634 635 637 638 639 640 641 642\n",
      " 643 644 645 646 647 648 649 650 651 653 654 655 656 657 658 659 661 663\n",
      " 664 665 666 667 668 669 670 671 672 673 674 675 676 677 680 681 682 683\n",
      " 684 685 686 688 689 690 691 693 694 695 696 697 698 699 700 701 702 703\n",
      " 704 705 706 707 708 709 710 711 712 713 715 716 717 718 719 720 721 722\n",
      " 723 724 725 726 727 728 729 730 731 732 733 734 735 736 738 739 742 743\n",
      " 744 745 746 747 748 749 750 751 752 754 755 756 757 758 759 760 762 763\n",
      " 765 766 767 768 769 770 771 772 773 774 775 776 777 778 779 780 781 782\n",
      " 783 784 785 786 788 789 790 791 792 793 794 795 796 797 798 799 800 801\n",
      " 802 803 804 805 806 807 808 809 810 812 813 814 815 816 817 818 819 821\n",
      " 822 823 824 825 827 828 829 830 831 832 833 834 835 836 838 839 840 841\n",
      " 842 843 844 845 846 847 848 849 850 851 852 853 854 855 856 857 858 860\n",
      " 861 862 863 864 865 867 868 869 870 871 872 873 874 875 876 877 878 880\n",
      " 881 882 884 885 886 887 888 889 890 891 892 893 894 895 896 897 898 900\n",
      " 903 904 905 906 907 908 909 910 911 912 913 914 915 916 917 918 919 920\n",
      " 921 922 923 925 926 927 928 929 930 931 932 933 934 935 936 937 939 940\n",
      " 941 942 943 944 945 946 948 949 950 951 952 953 954 955 956 957 958 959\n",
      " 960 961 962 963 964 965 966 967 968 969 970 971 972 975 976 977 978 979\n",
      " 980 981 982 983 984 985 987 988 989 990 991 992 993 994 995 996 997 999] [ 10  23  30  39  54  59  63  66  67  70  76  88  96 101 107 136 139 174\n",
      " 198 209 210 218 221 235 261 275 277 280 289 292 296 299 307 312 318 319\n",
      " 327 328 346 370 371 382 411 436 439 451 493 499 513 521 522 527 542 543\n",
      " 548 549 570 578 584 589 590 601 604 617 621 626 636 652 660 662 678 679\n",
      " 687 692 714 737 740 741 753 761 764 787 811 820 826 837 859 866 879 883\n",
      " 899 901 902 924 938 947 973 974 986 998]\n",
      "[  0   1   2   3   4   5   6   7   8   9  10  11  12  13  14  15  16  17\n",
      "  18  19  20  21  22  23  24  26  27  28  29  30  31  32  33  34  35  36\n",
      "  37  38  39  40  41  42  43  45  46  47  48  49  50  51  52  53  54  56\n",
      "  57  58  59  61  62  63  64  65  66  67  68  69  70  71  73  74  75  76\n",
      "  77  79  80  81  82  83  84  85  87  88  89  90  91  92  93  94  95  96\n",
      "  97  98  99 100 101 102 103 104 105 106 107 108 109 111 112 113 114 115\n",
      " 116 117 118 119 121 122 123 124 125 126 127 128 129 130 131 132 133 134\n",
      " 135 136 138 139 140 141 142 143 144 145 146 147 148 149 150 151 152 153\n",
      " 154 155 156 157 159 160 161 162 163 164 165 166 167 169 170 171 172 173\n",
      " 174 175 176 177 178 179 180 181 182 183 185 186 187 188 189 190 191 192\n",
      " 193 194 195 196 197 198 200 201 202 203 204 205 206 207 209 210 211 212\n",
      " 214 216 217 218 219 220 221 222 223 224 225 226 227 228 229 230 231 232\n",
      " 233 234 235 236 238 239 240 241 242 243 245 246 248 249 250 251 252 253\n",
      " 255 257 258 261 262 263 264 266 267 268 269 270 271 272 273 274 275 276\n",
      " 277 278 279 280 282 283 284 285 286 287 288 289 290 291 292 293 295 296\n",
      " 297 299 300 301 302 303 304 305 306 307 308 311 312 313 315 316 317 318\n",
      " 319 320 322 323 324 325 326 327 328 329 330 331 333 334 335 336 337 338\n",
      " 339 340 341 342 343 344 345 346 347 348 349 350 352 353 354 356 357 358\n",
      " 359 360 362 364 366 367 368 369 370 371 372 373 374 375 376 378 379 380\n",
      " 381 382 383 384 385 386 387 388 389 390 391 392 393 394 395 396 397 398\n",
      " 399 400 401 402 403 404 405 406 407 409 410 411 412 413 414 415 416 417\n",
      " 418 419 420 421 422 423 424 426 427 428 430 431 433 434 435 436 437 438\n",
      " 439 440 441 442 443 444 446 447 448 449 450 451 452 453 454 455 456 457\n",
      " 458 459 460 461 463 464 465 466 467 468 469 470 471 472 473 474 475 476\n",
      " 477 478 480 481 482 483 484 485 487 488 489 490 491 492 493 495 496 497\n",
      " 498 499 500 501 502 503 504 505 506 507 508 509 510 511 512 513 514 515\n",
      " 516 517 518 519 520 521 522 523 524 525 527 530 531 532 533 535 536 537\n",
      " 538 539 540 541 542 543 544 545 546 547 548 549 550 551 552 553 555 556\n",
      " 557 558 560 561 562 563 564 565 566 567 568 569 570 571 572 573 574 575\n",
      " 576 577 578 579 580 581 582 584 585 586 587 588 589 590 591 592 593 594\n",
      " 596 597 598 600 601 602 603 604 605 606 607 608 609 610 611 612 614 615\n",
      " 616 617 618 619 620 621 622 623 624 625 626 627 628 629 630 631 632 633\n",
      " 634 636 637 638 639 640 641 642 645 646 647 648 651 652 653 654 655 657\n",
      " 658 659 660 661 662 663 664 665 666 667 669 671 672 673 674 675 676 678\n",
      " 679 680 681 682 683 684 685 686 687 688 690 691 692 693 694 695 696 698\n",
      " 699 700 701 702 703 704 705 706 707 708 709 710 711 712 714 715 717 718\n",
      " 719 720 722 723 724 725 726 727 728 729 730 731 732 733 734 735 736 737\n",
      " 738 739 740 741 742 743 744 745 746 747 748 750 751 752 753 754 755 756\n",
      " 757 758 759 760 761 762 763 764 765 766 768 769 770 771 772 773 774 775\n",
      " 776 777 778 779 780 781 782 783 784 785 786 787 788 789 790 791 792 793\n",
      " 794 795 796 797 798 799 801 803 804 805 806 807 808 809 811 812 813 814\n",
      " 815 817 818 819 820 821 824 825 826 827 828 830 831 832 833 834 835 836\n",
      " 837 838 839 840 841 842 843 844 846 847 848 850 851 852 853 854 855 856\n",
      " 857 858 859 860 861 862 863 864 866 868 869 870 871 872 873 874 875 876\n",
      " 877 878 879 880 881 882 883 885 886 887 888 889 890 891 894 895 896 897\n",
      " 898 899 900 901 902 903 904 905 906 907 908 909 910 911 912 913 915 916\n",
      " 918 919 920 921 922 923 924 925 926 927 928 929 930 931 932 933 934 935\n",
      " 937 938 939 940 943 944 945 946 947 949 950 951 952 953 954 955 956 957\n",
      " 958 960 961 962 963 964 965 966 967 968 969 970 971 972 973 974 975 976\n",
      " 979 980 981 982 983 984 986 987 988 990 991 992 993 994 996 997 998 999] [ 25  44  55  60  72  78  86 110 120 137 158 168 184 199 208 213 215 237\n",
      " 244 247 254 256 259 260 265 281 294 298 309 310 314 321 332 351 355 361\n",
      " 363 365 377 408 425 429 432 445 462 479 486 494 526 528 529 534 554 559\n",
      " 583 595 599 613 635 643 644 649 650 656 668 670 677 689 697 713 716 721\n",
      " 749 767 800 802 810 816 822 823 829 845 849 865 867 884 892 893 914 917\n",
      " 936 941 942 948 959 977 978 985 989 995]\n",
      "[  0   1   4   6   8  10  11  12  13  14  15  16  17  18  19  20  21  22\n",
      "  23  24  25  26  27  28  30  32  34  35  36  37  38  39  40  41  42  43\n",
      "  44  45  46  47  48  50  51  52  53  54  55  56  57  58  59  60  61  62\n",
      "  63  64  66  67  68  69  70  71  72  73  74  75  76  78  79  80  83  85\n",
      "  86  87  88  89  90  91  92  93  94  95  96  98  99 100 101 102 103 104\n",
      " 105 106 107 108 110 111 112 113 114 115 116 117 119 120 121 122 123 124\n",
      " 125 126 127 128 129 130 131 132 133 134 135 136 137 138 139 140 142 143\n",
      " 144 145 146 147 148 149 150 151 152 153 154 156 157 158 159 160 161 162\n",
      " 163 164 166 167 168 169 170 171 172 173 174 175 176 177 178 179 180 181\n",
      " 182 183 184 185 186 187 188 189 190 191 193 194 195 197 198 199 200 201\n",
      " 202 203 205 206 207 208 209 210 212 213 214 215 216 217 218 219 220 221\n",
      " 222 223 224 225 226 228 229 230 232 233 234 235 236 237 238 240 241 242\n",
      " 243 244 245 246 247 248 251 252 253 254 255 256 257 258 259 260 261 262\n",
      " 263 264 265 267 268 269 270 271 272 273 274 275 276 277 278 279 280 281\n",
      " 282 283 284 285 287 288 289 291 292 293 294 295 296 297 298 299 300 301\n",
      " 302 303 304 307 308 309 310 311 312 313 314 315 316 317 318 319 320 321\n",
      " 322 324 325 326 327 328 329 330 332 334 335 336 337 338 339 340 341 342\n",
      " 343 345 346 347 348 349 351 352 353 354 355 356 358 360 361 363 364 365\n",
      " 366 367 368 369 370 371 372 373 374 375 376 377 378 379 382 383 384 385\n",
      " 386 387 388 389 390 391 392 393 394 395 396 397 399 400 401 402 403 404\n",
      " 405 406 407 408 409 410 411 412 413 414 415 416 417 418 419 420 421 422\n",
      " 423 424 425 426 427 429 431 432 433 434 435 436 437 438 439 440 441 442\n",
      " 443 444 445 446 447 448 450 451 452 453 454 455 456 457 458 459 460 461\n",
      " 462 463 466 467 469 470 471 472 473 474 475 476 477 478 479 480 482 483\n",
      " 484 485 486 487 488 489 491 492 493 494 496 497 498 499 500 502 503 504\n",
      " 505 506 507 508 509 510 511 512 513 515 516 517 518 520 521 522 524 525\n",
      " 526 527 528 529 530 531 532 533 534 537 538 539 540 541 542 543 545 546\n",
      " 547 548 549 550 551 552 553 554 555 556 558 559 560 561 562 563 564 565\n",
      " 566 567 568 569 570 571 572 573 574 576 577 578 579 580 581 582 583 584\n",
      " 585 586 588 589 590 591 592 593 594 595 597 598 599 600 601 602 604 605\n",
      " 606 607 608 609 610 611 612 613 614 615 616 617 618 619 620 621 622 623\n",
      " 624 625 626 627 628 629 630 632 633 634 635 636 637 638 639 640 641 642\n",
      " 643 644 645 646 647 648 649 650 651 652 653 654 656 657 658 659 660 661\n",
      " 662 663 665 666 667 668 669 670 671 672 673 674 675 676 677 678 679 680\n",
      " 681 682 683 684 685 686 687 688 689 690 691 692 693 694 696 697 698 699\n",
      " 700 701 702 703 704 705 706 707 709 710 711 712 713 714 715 716 718 719\n",
      " 720 721 722 723 724 725 726 727 728 729 730 732 733 735 736 737 738 739\n",
      " 740 741 742 743 744 745 746 747 748 749 750 751 752 753 754 755 756 757\n",
      " 758 759 760 761 762 763 764 765 766 767 768 769 770 771 772 773 774 775\n",
      " 776 777 778 779 780 781 782 784 785 786 787 788 790 791 792 793 794 795\n",
      " 800 801 802 803 804 805 806 807 808 809 810 811 812 813 814 815 816 817\n",
      " 818 819 820 821 822 823 825 826 828 829 830 831 832 833 834 835 837 838\n",
      " 839 840 841 842 843 844 845 846 847 848 849 850 851 852 853 854 855 856\n",
      " 857 858 859 860 861 862 863 864 865 866 867 869 870 871 872 873 874 875\n",
      " 876 877 878 879 880 881 882 883 884 885 886 887 888 889 890 891 892 893\n",
      " 895 897 898 899 901 902 903 905 906 908 909 910 911 912 913 914 915 917\n",
      " 919 920 921 923 924 926 927 928 929 930 931 932 933 934 936 937 938 939\n",
      " 940 941 942 943 944 945 947 948 949 951 952 953 954 955 956 957 958 959\n",
      " 960 961 962 964 965 966 967 968 969 970 971 972 973 974 976 977 978 979\n",
      " 980 981 982 983 984 985 986 987 988 989 990 992 993 995 996 997 998 999] [  2   3   5   7   9  29  31  33  49  65  77  81  82  84  97 109 118 141\n",
      " 155 165 192 196 204 211 227 231 239 249 250 266 286 290 305 306 323 331\n",
      " 333 344 350 357 359 362 380 381 398 428 430 449 464 465 468 481 490 495\n",
      " 501 514 519 523 535 536 544 557 575 587 596 603 631 655 664 695 708 717\n",
      " 731 734 783 789 796 797 798 799 824 827 836 868 894 896 900 904 907 916\n",
      " 918 922 925 935 946 950 963 975 991 994]\n",
      "[  1   2   3   4   5   7   8   9  10  11  12  13  14  15  16  17  18  19\n",
      "  20  21  22  23  24  25  26  27  29  30  31  32  33  34  35  36  37  38\n",
      "  39  40  42  43  44  45  46  47  48  49  50  51  52  53  54  55  57  58\n",
      "  59  60  61  62  63  64  65  66  67  68  70  71  72  74  75  76  77  78\n",
      "  80  81  82  83  84  85  86  87  88  89  91  92  93  94  95  96  97  98\n",
      "  99 100 101 102 103 104 105 106 107 109 110 111 112 113 114 115 116 117\n",
      " 118 119 120 121 122 123 124 126 127 128 129 130 134 136 137 138 139 141\n",
      " 142 143 146 147 149 150 151 152 153 154 155 156 157 158 159 160 161 162\n",
      " 163 165 166 167 168 170 171 174 175 176 177 178 179 180 182 183 184 186\n",
      " 187 188 189 190 191 192 194 195 196 197 198 199 200 201 202 203 204 205\n",
      " 206 207 208 209 210 211 213 214 215 216 217 218 219 221 222 223 224 225\n",
      " 226 227 229 230 231 232 233 235 236 237 239 240 241 242 243 244 245 246\n",
      " 247 248 249 250 251 252 253 254 255 256 257 258 259 260 261 262 263 264\n",
      " 265 266 267 268 269 270 271 272 273 275 276 277 278 279 280 281 282 283\n",
      " 284 285 286 287 288 289 290 292 293 294 295 296 297 298 299 301 303 304\n",
      " 305 306 307 308 309 310 312 313 314 315 317 318 319 320 321 322 323 324\n",
      " 325 327 328 329 330 331 332 333 335 336 337 338 339 340 341 343 344 345\n",
      " 346 347 348 349 350 351 353 354 355 356 357 358 359 360 361 362 363 364\n",
      " 365 366 367 368 369 370 371 372 373 374 375 376 377 378 379 380 381 382\n",
      " 383 384 385 386 387 389 390 391 392 393 395 396 397 398 399 400 401 402\n",
      " 403 406 407 408 409 410 411 412 413 414 415 416 417 418 419 421 425 426\n",
      " 427 428 429 430 431 432 433 434 435 436 437 438 439 441 443 444 445 446\n",
      " 447 449 451 452 454 455 456 457 458 459 460 461 462 463 464 465 466 467\n",
      " 468 469 470 471 472 473 474 475 476 479 480 481 483 484 486 487 488 489\n",
      " 490 491 492 493 494 495 496 497 498 499 501 502 503 504 505 507 508 509\n",
      " 510 511 512 513 514 515 516 517 518 519 520 521 522 523 524 525 526 527\n",
      " 528 529 531 533 534 535 536 537 538 539 540 542 543 544 545 546 548 549\n",
      " 550 551 553 554 555 556 557 558 559 560 561 562 563 564 565 566 568 569\n",
      " 570 571 572 573 574 575 577 578 579 582 583 584 585 586 587 589 590 591\n",
      " 592 593 595 596 597 598 599 600 601 602 603 604 605 606 607 608 609 610\n",
      " 611 612 613 614 615 616 617 618 619 620 621 622 623 624 625 626 627 630\n",
      " 631 632 633 634 635 636 637 638 639 640 641 642 643 644 645 646 647 648\n",
      " 649 650 651 652 653 654 655 656 657 658 659 660 661 662 663 664 665 666\n",
      " 667 668 669 670 671 672 673 674 675 676 677 678 679 680 681 682 683 684\n",
      " 685 686 687 688 689 690 691 692 693 694 695 697 698 699 700 701 702 704\n",
      " 708 709 710 712 713 714 715 716 717 718 719 720 721 723 724 725 726 727\n",
      " 729 730 731 732 733 734 735 736 737 738 739 740 741 742 743 744 746 747\n",
      " 748 749 750 751 752 753 754 755 756 758 759 760 761 762 763 764 765 766\n",
      " 767 768 769 770 771 772 775 776 779 780 781 782 783 784 785 786 787 788\n",
      " 789 790 791 793 794 795 796 797 798 799 800 801 802 803 804 805 806 807\n",
      " 808 809 810 811 812 814 815 816 817 818 819 820 821 822 823 824 825 826\n",
      " 827 828 829 830 831 832 833 834 835 836 837 838 839 840 841 842 843 844\n",
      " 845 846 847 848 849 850 851 853 854 855 856 857 858 859 860 861 862 863\n",
      " 864 865 866 867 868 869 870 871 873 874 875 876 877 878 879 880 881 882\n",
      " 883 884 885 886 887 888 889 890 891 892 893 894 896 897 898 899 900 901\n",
      " 902 904 905 906 907 908 909 911 912 913 914 915 916 917 918 919 920 921\n",
      " 922 924 925 926 927 928 929 930 931 932 933 935 936 937 938 940 941 942\n",
      " 943 944 945 946 947 948 950 951 952 953 954 955 956 957 958 959 960 961\n",
      " 962 963 964 965 966 967 968 969 970 971 972 973 974 975 976 977 978 979\n",
      " 980 981 982 983 984 985 986 987 988 989 991 992 993 994 995 996 998 999] [  0   6  28  41  56  69  73  79  90 108 125 131 132 133 135 140 144 145\n",
      " 148 164 169 172 173 181 185 193 212 220 228 234 238 274 291 300 302 311\n",
      " 316 326 334 342 352 388 394 404 405 420 422 423 424 440 442 448 450 453\n",
      " 477 478 482 485 500 506 530 532 541 547 552 567 576 580 581 588 594 628\n",
      " 629 696 703 705 706 707 711 722 728 745 757 773 774 777 778 792 813 852\n",
      " 872 895 903 910 923 934 939 949 990 997]\n",
      "[  0   1   2   3   4   5   6   7   8   9  10  13  14  15  16  17  19  20\n",
      "  21  22  23  25  26  27  28  29  30  31  32  33  34  35  36  37  38  39\n",
      "  40  41  44  45  46  47  48  49  50  52  53  54  55  56  57  58  59  60\n",
      "  62  63  64  65  66  67  68  69  70  71  72  73  75  76  77  78  79  80\n",
      "  81  82  84  85  86  87  88  90  91  93  95  96  97  98  99 101 102 103\n",
      " 105 106 107 108 109 110 111 112 115 116 117 118 119 120 121 122 123 124\n",
      " 125 126 127 128 129 130 131 132 133 134 135 136 137 138 139 140 141 142\n",
      " 143 144 145 146 147 148 149 150 151 152 153 154 155 156 157 158 159 160\n",
      " 161 162 164 165 166 168 169 170 171 172 173 174 175 177 179 180 181 183\n",
      " 184 185 186 187 188 189 190 191 192 193 194 195 196 197 198 199 200 201\n",
      " 202 203 204 205 206 207 208 209 210 211 212 213 214 215 216 217 218 219\n",
      " 220 221 222 224 225 226 227 228 229 230 231 232 233 234 235 236 237 238\n",
      " 239 240 241 242 243 244 245 246 247 249 250 251 252 253 254 255 256 257\n",
      " 258 259 260 261 262 263 265 266 267 268 269 270 271 273 274 275 276 277\n",
      " 279 280 281 282 283 284 286 287 288 289 290 291 292 293 294 295 296 297\n",
      " 298 299 300 301 302 303 304 305 306 307 308 309 310 311 312 313 314 315\n",
      " 316 317 318 319 320 321 322 323 324 325 326 327 328 330 331 332 333 334\n",
      " 335 337 339 340 341 342 343 344 345 346 347 348 349 350 351 352 353 355\n",
      " 356 357 358 359 361 362 363 364 365 366 369 370 371 372 373 374 376 377\n",
      " 378 379 380 381 382 383 384 385 386 387 388 389 391 392 394 395 397 398\n",
      " 399 400 401 402 403 404 405 406 407 408 410 411 413 414 415 418 419 420\n",
      " 421 422 423 424 425 427 428 429 430 431 432 434 435 436 437 438 439 440\n",
      " 441 442 443 445 446 448 449 450 451 452 453 454 455 458 459 460 461 462\n",
      " 463 464 465 466 468 469 470 471 472 473 474 475 476 477 478 479 480 481\n",
      " 482 484 485 486 487 488 489 490 491 492 493 494 495 496 498 499 500 501\n",
      " 502 503 504 505 506 508 509 510 511 512 513 514 515 517 519 520 521 522\n",
      " 523 524 526 527 528 529 530 532 534 535 536 537 538 540 541 542 543 544\n",
      " 546 547 548 549 550 551 552 553 554 555 556 557 558 559 560 561 562 563\n",
      " 564 565 566 567 569 570 571 573 574 575 576 577 578 579 580 581 583 584\n",
      " 586 587 588 589 590 591 592 594 595 596 599 600 601 602 603 604 606 607\n",
      " 608 609 610 612 613 614 616 617 619 620 621 622 623 624 625 626 627 628\n",
      " 629 630 631 632 635 636 637 639 640 641 642 643 644 645 646 647 648 649\n",
      " 650 651 652 654 655 656 657 658 659 660 661 662 663 664 666 667 668 670\n",
      " 671 672 674 675 676 677 678 679 680 681 683 684 685 686 687 688 689 690\n",
      " 691 692 693 695 696 697 698 699 700 701 702 703 704 705 706 707 708 709\n",
      " 711 712 713 714 716 717 718 719 720 721 722 723 724 725 726 727 728 729\n",
      " 730 731 732 733 734 735 736 737 738 739 740 741 742 743 744 745 746 747\n",
      " 748 749 750 751 752 753 754 755 757 758 759 760 761 762 763 764 765 766\n",
      " 767 768 769 770 771 772 773 774 775 776 777 778 779 780 782 783 784 785\n",
      " 786 787 788 789 790 791 792 793 794 795 796 797 798 799 800 801 802 803\n",
      " 804 805 806 807 808 809 810 811 812 813 814 815 816 818 819 820 821 822\n",
      " 823 824 825 826 827 828 829 830 831 833 834 835 836 837 838 839 840 841\n",
      " 842 843 844 845 846 847 848 849 850 851 852 853 854 855 856 857 858 859\n",
      " 860 861 862 863 864 865 866 867 868 869 871 872 874 875 877 878 879 880\n",
      " 883 884 886 887 888 889 890 891 892 893 894 895 896 897 898 899 900 901\n",
      " 902 903 904 905 906 907 908 909 910 911 912 913 914 915 916 917 918 919\n",
      " 922 923 924 925 927 928 929 931 932 934 935 936 937 938 939 940 941 942\n",
      " 943 944 945 946 947 948 949 950 951 952 953 954 955 956 957 958 959 960\n",
      " 962 963 964 965 966 967 968 969 971 972 973 974 975 976 977 978 979 980\n",
      " 981 982 983 984 985 986 987 989 990 991 992 993 994 995 996 997 998 999] [ 11  12  18  24  42  43  51  61  74  83  89  92  94 100 104 113 114 163\n",
      " 167 176 178 182 223 248 264 272 278 285 329 336 338 354 360 367 368 375\n",
      " 390 393 396 409 412 416 417 426 433 444 447 456 457 467 483 497 507 516\n",
      " 518 525 531 533 539 545 568 572 582 585 593 597 598 605 611 615 618 633\n",
      " 634 638 653 665 669 673 682 694 710 715 756 781 817 832 870 873 876 881\n",
      " 882 885 920 921 926 930 933 961 970 988]\n",
      "[  0   1   2   3   4   5   6   7   8   9  10  11  12  13  14  16  17  18\n",
      "  20  21  23  24  25  26  27  28  29  30  31  32  33  34  35  36  37  39\n",
      "  40  41  42  43  44  45  47  48  49  51  52  53  54  55  56  58  59  60\n",
      "  61  62  63  64  65  66  67  69  70  71  72  73  74  76  77  78  79  80\n",
      "  81  82  83  84  85  86  87  88  89  90  91  92  94  95  96  97  98  99\n",
      " 100 101 102 103 104 105 106 107 108 109 110 111 112 113 114 115 118 119\n",
      " 120 121 122 123 125 127 128 129 130 131 132 133 134 135 136 137 138 139\n",
      " 140 141 143 144 145 146 147 148 150 151 152 155 156 157 158 159 160 161\n",
      " 162 163 164 165 166 167 168 169 170 171 172 173 174 176 178 180 181 182\n",
      " 183 184 185 186 187 189 190 191 192 193 194 196 197 198 199 200 201 202\n",
      " 204 205 206 207 208 209 210 211 212 213 214 215 216 217 218 219 220 221\n",
      " 223 224 225 226 227 228 229 230 231 232 233 234 235 237 238 239 240 241\n",
      " 242 243 244 246 247 248 249 250 251 252 253 254 255 256 258 259 260 261\n",
      " 262 264 265 266 267 269 270 272 273 274 275 276 277 278 279 280 281 282\n",
      " 283 285 286 288 289 290 291 292 293 294 295 296 297 298 299 300 301 302\n",
      " 303 305 306 307 308 309 310 311 312 313 314 315 316 317 318 319 321 322\n",
      " 323 325 326 327 328 329 330 331 332 333 334 336 337 338 339 342 343 344\n",
      " 345 346 347 348 350 351 352 354 355 357 358 359 360 361 362 363 364 365\n",
      " 366 367 368 370 371 372 373 374 375 376 377 378 379 380 381 382 384 385\n",
      " 386 387 388 389 390 391 392 393 394 396 397 398 400 401 402 403 404 405\n",
      " 406 408 409 410 411 412 413 414 415 416 417 418 419 420 421 422 423 424\n",
      " 425 426 427 428 429 430 432 433 435 436 437 438 439 440 441 442 444 445\n",
      " 447 448 449 450 451 452 453 454 455 456 457 458 459 460 461 462 463 464\n",
      " 465 466 467 468 469 471 472 474 475 476 477 478 479 480 481 482 483 484\n",
      " 485 486 488 489 490 491 492 493 494 495 496 497 498 499 500 501 502 503\n",
      " 504 505 506 507 508 509 510 511 513 514 515 516 517 518 519 520 521 522\n",
      " 523 524 525 526 527 528 529 530 531 532 533 534 535 536 539 540 541 542\n",
      " 543 544 545 546 547 548 549 550 552 553 554 555 556 557 559 560 561 562\n",
      " 563 564 565 566 567 568 570 571 572 573 574 575 576 577 578 579 580 581\n",
      " 582 583 584 585 586 587 588 589 590 592 593 594 595 596 597 598 599 600\n",
      " 601 603 604 605 606 607 608 609 610 611 612 613 614 615 616 617 618 619\n",
      " 621 623 624 626 627 628 629 631 632 633 634 635 636 637 638 639 640 641\n",
      " 642 643 644 645 646 647 648 649 650 651 652 653 654 655 656 657 658 659\n",
      " 660 661 662 663 664 665 668 669 670 671 672 673 674 676 677 678 679 681\n",
      " 682 683 685 686 687 688 689 690 691 692 694 695 696 697 698 699 700 701\n",
      " 702 703 704 705 706 707 708 709 710 711 712 713 714 715 716 717 718 719\n",
      " 720 721 722 723 724 725 726 727 728 729 731 732 733 734 735 737 738 739\n",
      " 740 741 742 744 745 746 747 748 749 750 752 753 755 756 757 759 760 761\n",
      " 762 763 764 765 766 767 768 769 770 771 772 773 774 775 776 777 778 779\n",
      " 780 781 782 783 784 785 787 788 789 791 792 794 795 796 797 798 799 800\n",
      " 801 802 803 804 805 806 807 810 811 812 813 814 815 816 817 818 819 820\n",
      " 821 822 823 824 826 827 829 830 831 832 835 836 837 838 839 840 841 842\n",
      " 843 845 846 847 848 849 850 851 852 853 854 855 856 857 859 860 862 864\n",
      " 865 866 867 868 869 870 871 872 873 874 875 876 877 878 879 880 881 882\n",
      " 883 884 885 886 887 888 889 890 891 892 893 894 895 896 897 898 899 900\n",
      " 901 902 903 904 905 906 907 908 909 910 913 914 915 916 917 918 919 920\n",
      " 921 922 923 924 925 926 928 929 930 931 932 933 934 935 936 937 938 939\n",
      " 940 941 942 944 945 946 947 948 949 950 951 952 953 954 955 957 958 959\n",
      " 961 962 963 964 965 967 968 969 970 971 972 973 974 975 976 977 978 979\n",
      " 980 981 982 984 985 986 987 988 989 990 991 992 993 994 995 996 997 998] [ 15  19  22  38  46  50  57  68  75  93 116 117 124 126 142 149 153 154\n",
      " 175 177 179 188 195 203 222 236 245 257 263 268 271 284 287 304 320 324\n",
      " 335 340 341 349 353 356 369 383 395 399 407 431 434 443 446 470 473 487\n",
      " 512 537 538 551 558 569 591 602 620 622 625 630 666 667 675 680 684 693\n",
      " 730 736 743 751 754 758 786 790 793 808 809 825 828 833 834 844 858 861\n",
      " 863 911 912 927 943 956 960 966 983 999]\n",
      "[  0   1   2   3   4   5   6   7   9  10  11  12  13  14  15  18  19  20\n",
      "  21  22  23  24  25  27  28  29  30  31  32  33  34  35  38  39  40  41\n",
      "  42  43  44  46  47  49  50  51  52  54  55  56  57  58  59  60  61  62\n",
      "  63  64  65  66  67  68  69  70  71  72  73  74  75  76  77  78  79  80\n",
      "  81  82  83  84  85  86  87  88  89  90  91  92  93  94  95  96  97  98\n",
      "  99 100 101 102 104 105 106 107 108 109 110 112 113 114 116 117 118 120\n",
      " 121 122 123 124 125 126 128 129 130 131 132 133 134 135 136 137 138 139\n",
      " 140 141 142 143 144 145 146 147 148 149 153 154 155 156 158 159 160 161\n",
      " 163 164 165 166 167 168 169 170 172 173 174 175 176 177 178 179 181 182\n",
      " 183 184 185 186 187 188 189 191 192 193 195 196 197 198 199 200 201 202\n",
      " 203 204 205 206 208 209 210 211 212 213 214 215 216 217 218 219 220 221\n",
      " 222 223 224 227 228 230 231 232 233 234 235 236 237 238 239 240 241 242\n",
      " 243 244 245 246 247 248 249 250 251 252 254 256 257 258 259 260 261 263\n",
      " 264 265 266 267 268 269 270 271 272 273 274 275 276 277 278 279 280 281\n",
      " 282 284 285 286 287 288 289 290 291 292 293 294 295 296 298 299 300 302\n",
      " 304 305 306 307 308 309 310 311 312 313 314 315 316 317 318 319 320 321\n",
      " 323 324 325 326 327 328 329 330 331 332 333 334 335 336 337 338 339 340\n",
      " 341 342 343 344 345 346 347 348 349 350 351 352 353 354 355 356 357 358\n",
      " 359 360 361 362 363 365 366 367 368 369 370 371 372 373 375 376 377 378\n",
      " 379 380 381 382 383 384 385 386 387 388 389 390 391 392 393 394 395 396\n",
      " 397 398 399 400 401 402 404 405 406 407 408 409 410 411 412 413 415 416\n",
      " 417 418 420 422 423 424 425 426 427 428 429 430 431 432 433 434 435 436\n",
      " 438 439 440 441 442 443 444 445 446 447 448 449 450 451 453 454 455 456\n",
      " 457 458 459 460 461 462 463 464 465 466 467 468 470 471 472 473 474 475\n",
      " 476 477 478 479 481 482 483 484 485 486 487 488 489 490 491 492 493 494\n",
      " 495 496 497 498 499 500 501 502 504 505 506 507 508 509 510 512 513 514\n",
      " 516 518 519 520 521 522 523 524 525 526 527 528 529 530 531 532 533 534\n",
      " 535 536 537 538 539 540 541 542 543 544 545 546 547 548 549 550 551 552\n",
      " 553 554 555 556 557 558 559 560 561 562 563 564 565 566 567 568 569 570\n",
      " 572 573 574 575 576 577 578 580 581 582 583 584 585 587 588 589 590 591\n",
      " 592 593 594 595 596 597 598 599 600 601 602 603 604 605 607 608 609 611\n",
      " 612 613 614 615 617 618 619 620 621 622 624 625 626 627 628 629 630 631\n",
      " 632 633 634 635 636 637 638 639 640 641 642 643 644 645 646 647 648 649\n",
      " 650 652 653 654 655 656 659 660 661 662 663 664 665 666 667 668 669 670\n",
      " 671 673 674 675 676 677 678 679 680 681 682 683 684 686 687 689 690 691\n",
      " 692 693 694 695 696 697 698 699 700 701 702 703 705 706 707 708 709 710\n",
      " 711 713 714 715 716 717 719 720 721 722 724 725 726 727 728 729 730 731\n",
      " 733 734 735 736 737 738 739 740 741 742 743 744 745 747 748 749 751 752\n",
      " 753 754 756 757 758 760 761 763 764 765 766 767 768 769 770 771 772 773\n",
      " 774 775 776 777 778 779 781 782 783 784 785 786 787 788 789 790 791 792\n",
      " 793 794 795 796 797 798 799 800 802 803 804 805 806 808 809 810 811 812\n",
      " 813 814 815 816 817 818 819 820 821 822 823 824 825 826 827 828 829 831\n",
      " 832 833 834 835 836 837 838 839 840 842 844 845 846 847 848 849 852 853\n",
      " 855 856 857 858 859 860 861 862 863 865 866 867 868 869 870 871 872 873\n",
      " 874 875 876 878 879 880 881 882 883 884 885 886 887 888 889 890 892 893\n",
      " 894 895 896 897 898 899 900 901 902 903 904 905 906 907 910 911 912 913\n",
      " 914 915 916 917 918 919 920 921 922 923 924 925 926 927 928 929 930 931\n",
      " 932 933 934 935 936 937 938 939 941 942 943 944 946 947 948 949 950 953\n",
      " 955 956 957 958 959 960 961 962 963 966 970 972 973 974 975 976 977 978\n",
      " 980 981 982 983 985 986 987 988 989 990 991 992 994 995 996 997 998 999] [  8  16  17  26  36  37  45  48  53 103 111 115 119 127 150 151 152 157\n",
      " 162 171 180 190 194 207 225 226 229 253 255 262 283 297 301 303 322 364\n",
      " 374 403 414 419 421 437 452 469 480 503 511 515 517 571 579 586 606 610\n",
      " 616 623 651 657 658 672 685 688 704 712 718 723 732 746 750 755 759 762\n",
      " 780 801 807 830 841 843 850 851 854 864 877 891 908 909 940 945 951 952\n",
      " 954 964 965 967 968 969 971 979 984 993]\n",
      "[  0   1   2   3   4   5   6   7   8   9  10  11  12  13  14  15  16  17\n",
      "  18  19  20  21  22  23  24  25  26  27  28  29  30  31  32  33  34  35\n",
      "  36  37  38  39  40  41  42  43  44  45  46  47  48  49  50  51  52  53\n",
      "  54  55  56  57  58  59  60  61  62  63  64  65  66  67  68  69  70  71\n",
      "  72  73  74  75  76  77  78  79  80  81  82  83  84  85  86  87  88  89\n",
      "  90  91  92  93  94  95  96  97  98  99 100 101 102 103 104 105 106 107\n",
      " 108 109 110 111 113 114 115 116 117 118 119 120 121 124 125 126 127 128\n",
      " 130 131 132 133 134 135 136 137 138 139 140 141 142 144 145 148 149 150\n",
      " 151 152 153 154 155 156 157 158 159 160 161 162 163 164 165 166 167 168\n",
      " 169 170 171 172 173 174 175 176 177 178 179 180 181 182 184 185 187 188\n",
      " 189 190 191 192 193 194 195 196 198 199 200 201 203 204 205 206 207 208\n",
      " 209 210 211 212 213 214 215 216 217 218 220 221 222 223 225 226 227 228\n",
      " 229 230 231 234 235 236 237 238 239 240 241 242 243 244 245 247 248 249\n",
      " 250 251 252 253 254 255 256 257 259 260 261 262 263 264 265 266 268 269\n",
      " 270 271 272 273 274 275 276 277 278 280 281 283 284 285 286 287 288 289\n",
      " 290 291 292 294 295 296 297 298 299 300 301 302 303 304 305 306 307 308\n",
      " 309 310 311 312 313 314 315 316 318 319 320 321 322 323 324 326 327 328\n",
      " 329 330 331 332 333 334 335 336 337 338 339 340 341 342 343 344 345 346\n",
      " 349 350 351 352 353 354 355 356 357 359 360 361 362 363 364 365 366 367\n",
      " 368 369 370 371 372 374 375 377 378 379 380 381 382 383 385 387 388 389\n",
      " 390 391 392 393 394 395 396 397 398 399 401 403 404 405 406 407 408 409\n",
      " 411 412 413 414 416 417 418 419 420 421 422 423 424 425 426 427 428 429\n",
      " 430 431 432 433 434 435 436 437 439 440 442 443 444 445 446 447 448 449\n",
      " 450 451 452 453 454 455 456 457 458 459 460 461 462 464 465 466 467 468\n",
      " 469 470 471 473 474 475 476 477 478 479 480 481 482 483 484 485 486 487\n",
      " 489 490 491 492 493 494 495 497 498 499 500 501 502 503 504 506 507 508\n",
      " 510 511 512 513 514 515 516 517 518 519 520 521 522 523 524 525 526 527\n",
      " 528 529 530 531 532 533 534 535 536 537 538 539 540 541 542 543 544 545\n",
      " 546 547 548 549 551 552 553 554 555 556 557 558 559 560 561 562 563 564\n",
      " 565 566 567 568 569 570 571 572 573 574 575 576 577 578 579 580 581 582\n",
      " 583 584 585 586 587 588 589 590 591 592 593 594 595 596 597 598 599 600\n",
      " 601 602 603 604 605 606 610 611 612 613 614 615 616 617 618 620 621 622\n",
      " 623 625 626 628 629 630 631 633 634 635 636 638 642 643 644 646 647 649\n",
      " 650 651 652 653 654 655 656 657 658 660 661 662 663 664 665 666 667 668\n",
      " 669 670 672 673 674 675 677 678 679 680 681 682 683 684 685 686 687 688\n",
      " 689 690 692 693 694 695 696 697 698 699 700 701 702 703 704 705 706 707\n",
      " 708 710 711 712 713 714 715 716 717 718 719 721 722 723 724 725 726 727\n",
      " 728 729 730 731 732 733 734 736 737 738 740 741 742 743 745 746 747 748\n",
      " 749 750 751 753 754 755 756 757 758 759 761 762 763 764 766 767 768 769\n",
      " 771 772 773 774 775 776 777 778 779 780 781 782 783 786 787 789 790 791\n",
      " 792 793 794 795 796 797 798 799 800 801 802 804 805 807 808 809 810 811\n",
      " 812 813 815 816 817 818 820 821 822 823 824 825 826 827 828 829 830 831\n",
      " 832 833 834 836 837 838 839 840 841 843 844 845 847 848 849 850 851 852\n",
      " 854 856 857 858 859 860 861 862 863 864 865 866 867 868 870 871 872 873\n",
      " 875 876 877 878 879 880 881 882 883 884 885 888 890 891 892 893 894 895\n",
      " 896 897 899 900 901 902 903 904 907 908 909 910 911 912 914 916 917 918\n",
      " 920 921 922 923 924 925 926 927 929 930 933 934 935 936 937 938 939 940\n",
      " 941 942 943 944 945 946 947 948 949 950 951 952 954 955 956 957 959 960\n",
      " 961 962 963 964 965 966 967 968 969 970 971 973 974 975 976 977 978 979\n",
      " 980 982 983 984 985 986 988 989 990 991 992 993 994 995 996 997 998 999] [112 122 123 129 143 146 147 183 186 197 202 219 224 232 233 246 258 267\n",
      " 279 282 293 317 325 347 348 358 373 376 384 386 400 402 410 415 438 441\n",
      " 463 472 488 496 505 509 550 607 608 609 619 624 627 632 637 639 640 641\n",
      " 645 648 659 671 676 691 709 720 735 739 744 752 760 765 770 784 785 788\n",
      " 803 806 814 819 835 842 846 853 855 869 874 886 887 889 898 905 906 913\n",
      " 915 919 928 931 932 953 958 972 981 987]\n",
      "[  0   1   2   3   5   6   7   8   9  10  11  12  13  15  16  17  18  19\n",
      "  20  21  22  23  24  25  26  28  29  30  31  33  34  36  37  38  39  41\n",
      "  42  43  44  45  46  48  49  50  51  53  54  55  56  57  58  59  60  61\n",
      "  63  65  66  67  68  69  70  71  72  73  74  75  76  77  78  79  80  81\n",
      "  82  83  84  86  87  88  89  90  91  92  93  94  96  97  99 100 101 102\n",
      " 103 104 105 106 107 108 109 110 111 112 113 114 115 116 117 118 119 120\n",
      " 121 122 123 124 125 126 127 129 130 131 132 133 135 136 137 139 140 141\n",
      " 142 143 144 145 146 147 148 149 150 151 152 153 154 155 157 158 160 161\n",
      " 162 163 164 165 166 167 168 169 171 172 173 174 175 176 177 178 179 180\n",
      " 181 182 183 184 185 186 188 189 190 191 192 193 194 195 196 197 198 199\n",
      " 201 202 203 204 205 207 208 209 210 211 212 213 214 215 218 219 220 221\n",
      " 222 223 224 225 226 227 228 229 231 232 233 234 235 236 237 238 239 241\n",
      " 243 244 245 246 247 248 249 250 252 253 254 255 256 257 258 259 260 261\n",
      " 262 263 264 265 266 267 268 269 270 271 272 273 274 275 276 277 278 279\n",
      " 280 281 282 283 284 285 286 287 289 290 291 292 293 294 296 297 298 299\n",
      " 300 301 302 303 304 305 306 307 308 309 310 311 312 313 314 315 316 317\n",
      " 318 319 320 321 322 323 324 325 326 327 328 329 330 331 332 333 334 335\n",
      " 336 338 339 340 341 342 343 344 345 346 347 348 349 350 351 352 353 354\n",
      " 355 356 357 358 359 360 361 362 363 364 365 366 367 368 369 370 371 372\n",
      " 373 374 375 376 377 380 381 382 383 384 385 386 387 388 389 390 393 394\n",
      " 395 396 398 399 400 401 402 403 404 405 407 408 409 410 411 412 413 414\n",
      " 415 416 417 419 420 421 422 423 424 425 426 427 428 429 430 431 432 433\n",
      " 434 435 436 437 438 439 440 441 442 443 444 445 446 447 448 449 450 451\n",
      " 452 453 454 456 457 458 459 462 463 464 465 466 467 468 469 470 472 473\n",
      " 474 475 476 477 478 479 480 481 482 483 484 485 486 487 488 490 491 493\n",
      " 494 495 496 497 499 500 501 503 504 505 506 507 508 509 510 511 512 513\n",
      " 514 515 516 517 518 519 521 522 523 525 526 527 528 529 530 531 532 533\n",
      " 534 535 536 537 538 539 541 542 543 544 545 547 548 549 550 551 552 554\n",
      " 555 557 558 559 560 561 562 564 565 566 567 568 569 570 571 572 575 576\n",
      " 578 579 580 581 582 583 584 585 586 587 588 589 590 591 593 594 595 596\n",
      " 597 598 599 600 601 602 603 604 605 606 607 608 609 610 611 613 614 615\n",
      " 616 617 618 619 620 621 622 623 624 625 626 627 628 629 630 631 632 633\n",
      " 634 635 636 637 638 639 640 641 643 644 645 646 648 649 650 651 652 653\n",
      " 655 656 657 658 659 660 661 662 663 664 665 666 667 668 669 670 671 672\n",
      " 673 675 676 677 678 679 680 681 682 684 685 686 687 688 689 691 692 693\n",
      " 694 695 696 697 699 700 702 703 704 705 706 707 708 709 710 711 712 713\n",
      " 714 715 716 717 718 720 721 722 723 728 729 730 731 732 734 735 736 737\n",
      " 739 740 741 743 744 745 746 747 749 750 751 752 753 754 755 756 757 758\n",
      " 759 760 761 762 764 765 767 769 770 771 773 774 775 776 777 778 780 781\n",
      " 782 783 784 785 786 787 788 789 790 792 793 796 797 798 799 800 801 802\n",
      " 803 805 806 807 808 809 810 811 813 814 815 816 817 818 819 820 821 822\n",
      " 823 824 825 826 827 828 829 830 831 832 833 834 835 836 837 840 841 842\n",
      " 843 844 845 846 849 850 851 852 853 854 855 856 858 859 860 861 862 863\n",
      " 864 865 866 867 868 869 870 871 872 873 874 875 876 877 879 881 882 883\n",
      " 884 885 886 887 889 891 892 893 894 895 896 897 898 899 900 901 902 903\n",
      " 904 905 906 907 908 909 910 911 912 913 914 915 916 917 918 919 920 921\n",
      " 922 923 924 925 926 927 928 930 931 932 933 934 935 936 937 938 939 940\n",
      " 941 942 943 945 946 947 948 949 950 951 952 953 954 955 956 958 959 960\n",
      " 961 963 964 965 966 967 968 969 970 971 972 973 974 975 977 978 979 980\n",
      " 981 982 983 984 985 986 987 988 989 990 991 992 993 994 995 997 998 999] [  4  14  27  32  35  40  47  52  62  64  85  95  98 128 134 138 156 159\n",
      " 170 187 200 206 216 217 230 240 242 251 288 295 337 378 379 391 392 397\n",
      " 406 418 455 460 461 471 489 492 498 502 520 524 540 546 553 556 563 573\n",
      " 574 577 592 612 642 647 654 674 683 690 698 701 719 724 725 726 727 733\n",
      " 738 742 748 763 766 768 772 779 791 794 795 804 812 838 839 847 848 857\n",
      " 878 880 888 890 929 944 957 962 976 996]\n",
      "[  0   2   3   4   5   6   7   8   9  10  11  12  14  15  16  17  18  19\n",
      "  22  23  24  25  26  27  28  29  30  31  32  33  35  36  37  38  39  40\n",
      "  41  42  43  44  45  46  47  48  49  50  51  52  53  54  55  56  57  59\n",
      "  60  61  62  63  64  65  66  67  68  69  70  72  73  74  75  76  77  78\n",
      "  79  81  82  83  84  85  86  88  89  90  92  93  94  95  96  97  98 100\n",
      " 101 103 104 107 108 109 110 111 112 113 114 115 116 117 118 119 120 122\n",
      " 123 124 125 126 127 128 129 131 132 133 134 135 136 137 138 139 140 141\n",
      " 142 143 144 145 146 147 148 149 150 151 152 153 154 155 156 157 158 159\n",
      " 162 163 164 165 167 168 169 170 171 172 173 174 175 176 177 178 179 180\n",
      " 181 182 183 184 185 186 187 188 190 192 193 194 195 196 197 198 199 200\n",
      " 202 203 204 206 207 208 209 210 211 212 213 215 216 217 218 219 220 221\n",
      " 222 223 224 225 226 227 228 229 230 231 232 233 234 235 236 237 238 239\n",
      " 240 242 244 245 246 247 248 249 250 251 253 254 255 256 257 258 259 260\n",
      " 261 262 263 264 265 266 267 268 271 272 274 275 277 278 279 280 281 282\n",
      " 283 284 285 286 287 288 289 290 291 292 293 294 295 296 297 298 299 300\n",
      " 301 302 303 304 305 306 307 309 310 311 312 314 316 317 318 319 320 321\n",
      " 322 323 324 325 326 327 328 329 331 332 333 334 335 336 337 338 340 341\n",
      " 342 344 346 347 348 349 350 351 352 353 354 355 356 357 358 359 360 361\n",
      " 362 363 364 365 367 368 369 370 371 373 374 375 376 377 378 379 380 381\n",
      " 382 383 384 386 388 390 391 392 393 394 395 396 397 398 399 400 402 403\n",
      " 404 405 406 407 408 409 410 411 412 414 415 416 417 418 419 420 421 422\n",
      " 423 424 425 426 428 429 430 431 432 433 434 436 437 438 439 440 441 442\n",
      " 443 444 445 446 447 448 449 450 451 452 453 455 456 457 460 461 462 463\n",
      " 464 465 467 468 469 470 471 472 473 477 478 479 480 481 482 483 485 486\n",
      " 487 488 489 490 492 493 494 495 496 497 498 499 500 501 502 503 505 506\n",
      " 507 509 511 512 513 514 515 516 517 518 519 520 521 522 523 524 525 526\n",
      " 527 528 529 530 531 532 533 534 535 536 537 538 539 540 541 542 543 544\n",
      " 545 546 547 548 549 550 551 552 553 554 556 557 558 559 563 567 568 569\n",
      " 570 571 572 573 574 575 576 577 578 579 580 581 582 583 584 585 586 587\n",
      " 588 589 590 591 592 593 594 595 596 597 598 599 601 602 603 604 605 606\n",
      " 607 608 609 610 611 612 613 615 616 617 618 619 620 621 622 623 624 625\n",
      " 626 627 628 629 630 631 632 633 634 635 636 637 638 639 640 641 642 643\n",
      " 644 645 647 648 649 650 651 652 653 654 655 656 657 658 659 660 662 664\n",
      " 665 666 667 668 669 670 671 672 673 674 675 676 677 678 679 680 682 683\n",
      " 684 685 687 688 689 690 691 692 693 694 695 696 697 698 701 703 704 705\n",
      " 706 707 708 709 710 711 712 713 714 715 716 717 718 719 720 721 722 723\n",
      " 724 725 726 727 728 730 731 732 733 734 735 736 737 738 739 740 741 742\n",
      " 743 744 745 746 748 749 750 751 752 753 754 755 756 757 758 759 760 761\n",
      " 762 763 764 765 766 767 768 770 772 773 774 777 778 779 780 781 783 784\n",
      " 785 786 787 788 789 790 791 792 793 794 795 796 797 798 799 800 801 802\n",
      " 803 804 806 807 808 809 810 811 812 813 814 816 817 819 820 822 823 824\n",
      " 825 826 827 828 829 830 832 833 834 835 836 837 838 839 841 842 843 844\n",
      " 845 846 847 848 849 850 851 852 853 854 855 857 858 859 861 863 864 865\n",
      " 866 867 868 869 870 872 873 874 876 877 878 879 880 881 882 883 884 885\n",
      " 886 887 888 889 890 891 892 893 894 895 896 898 899 900 901 902 903 904\n",
      " 905 906 907 908 909 910 911 912 913 914 915 916 917 918 919 920 921 922\n",
      " 923 924 925 926 927 928 929 930 931 932 933 934 935 936 938 939 940 941\n",
      " 942 943 944 945 946 947 948 949 950 951 952 953 954 956 957 958 959 960\n",
      " 961 962 963 964 965 966 967 968 969 970 971 972 973 974 975 976 977 978\n",
      " 979 981 983 984 985 986 987 988 989 990 991 993 994 995 996 997 998 999] [  1  13  20  21  34  58  71  80  87  91  99 102 105 106 121 130 160 161\n",
      " 166 189 191 201 205 214 241 243 252 269 270 273 276 308 313 315 330 339\n",
      " 343 345 366 372 385 387 389 401 413 427 435 454 458 459 466 474 475 476\n",
      " 484 491 504 508 510 555 560 561 562 564 565 566 600 614 646 661 663 681\n",
      " 686 699 700 702 729 747 769 771 775 776 782 805 815 818 821 831 840 856\n",
      " 860 862 871 875 897 937 955 980 982 992]\n"
     ]
    }
   ],
   "source": [
    "#ignore all caught warnings   \n",
    "with warnings.catch_warnings():\n",
    "    warnings.filterwarnings(\"ignore\")\n",
    "\n",
    "from sklearn.model_selection import KFold\n",
    "from sklearn.svm import SVR\n",
    "from sklearn.model_selection import cross_val_score\n",
    "cv = KFold(n_splits=10, random_state=42, shuffle=True)\n",
    "print (\"Train Set                                            Test Set         \")\n",
    "for train_set,test_set in cv.split(X):\n",
    "    print(train_set , test_set)"
   ]
  },
  {
   "cell_type": "code",
   "execution_count": 38,
   "metadata": {},
   "outputs": [],
   "source": [
    "#Principal component Analysis \n",
    "from sklearn.decomposition import PCA\n",
    "from pandas import DataFrame\n",
    "from sklearn.preprocessing import LabelEncoder"
   ]
  },
  {
   "cell_type": "code",
   "execution_count": 41,
   "metadata": {},
   "outputs": [
    {
     "data": {
      "image/png": "[encoded data removed]",
      "text/plain": [
       "<Figure size 432x288 with 1 Axes>"
      ]
     },
     "metadata": {
      "needs_background": "light"
     },
     "output_type": "display_data"
    }
   ],
   "source": [
    "#PCA analysis\n",
    "import matplotlib.pyplot as plt\n",
    "X = data.iloc[:, [0,13]]\n",
    "y = data.iloc[:, -1]\n",
    "pca = PCA()\n",
    "x_new = pca.fit_transform(X)\n",
    "\n",
    "def myplot(score,coeff,labels=None):\n",
    "    xs = score[:,0]\n",
    "    ys = score[:,1]\n",
    "    n = coeff.shape[0]\n",
    "    scalex = 1.0/(xs.max() - xs.min())\n",
    "    scaley = 1.0/(ys.max() - ys.min())\n",
    "    plt.scatter(xs * scalex,ys * scaley, c = y)\n",
    "    for i in range(n):\n",
    "        plt.arrow(0, 0, coeff[i,0], coeff[i,1],color = 'r',alpha = 0.5)\n",
    "        if labels is None:\n",
    "            plt.text(coeff[i,0]* 1.15, coeff[i,1] * 1.15, \"Var\"+str(i+1), color = 'g', ha = 'center', va = 'center')\n",
    "        else:\n",
    "            plt.text(coeff[i,0]* 1.15, coeff[i,1] * 1.15, labels[i], color = 'g', ha = 'center', va = 'center')\n",
    "plt.xlim(-1,1)\n",
    "plt.ylim(-1,1)\n",
    "plt.xlabel(\"PC{}\".format(1))\n",
    "plt.ylabel(\"PC{}\".format(2))\n",
    "plt.grid()\n",
    "myplot(x_new[:,0:2],np.transpose(pca.components_[0:2, :]))\n",
    "plt.show()"
   ]
  },
  {
   "cell_type": "code",
   "execution_count": 42,
   "metadata": {},
   "outputs": [
    {
     "data": {
      "text/plain": [
       "array([0.69658028, 0.30341972])"
      ]
     },
     "execution_count": 42,
     "metadata": {},
     "output_type": "execute_result"
    }
   ],
   "source": [
    "pca.explained_variance_ratio_\n"
   ]
  },
  {
   "cell_type": "code",
   "execution_count": 13,
   "metadata": {},
   "outputs": [
    {
     "data": {
      "text/plain": [
       "LinearRegression()"
      ]
     },
     "execution_count": 13,
     "metadata": {},
     "output_type": "execute_result"
    }
   ],
   "source": [
    "#Linear Regression\n",
    "from sklearn import linear_model\n",
    "from sklearn.linear_model import LinearRegression\n",
    "from sklearn import metrics\n",
    "from sklearn.model_selection import cross_val_score\n",
    "from sklearn.model_selection import KFold\n",
    "lm = LinearRegression()\n",
    "lm.fit(X_train, y_train)"
   ]
  },
  {
   "cell_type": "code",
   "execution_count": 14,
   "metadata": {},
   "outputs": [
    {
     "data": {
      "text/plain": [
       "34.244837033907224"
      ]
     },
     "execution_count": 14,
     "metadata": {},
     "output_type": "execute_result"
    }
   ],
   "source": [
    "lm.intercept_"
   ]
  },
  {
   "cell_type": "code",
   "execution_count": 15,
   "metadata": {},
   "outputs": [],
   "source": [
    "y_pred = lm.predict(X_train)"
   ]
  },
  {
   "cell_type": "code",
   "execution_count": 16,
   "metadata": {},
   "outputs": [
    {
     "name": "stdout",
     "output_type": "stream",
     "text": [
      "R^2: 0.7495400632086622\n",
      "Adjusted R^2: 0.7399636538607581\n",
      "MAE: 3.0892475382734004\n",
      "MSE: 19.45968013480259\n",
      "RMSE: 4.411312745068365\n"
     ]
    }
   ],
   "source": [
    "print('R^2:',metrics.r2_score(y_train, y_pred))\n",
    "print('Adjusted R^2:',1 - (1-metrics.r2_score(y_train, y_pred))*(len(y_train)-1)/(len(y_train)-X_train.shape[1]-1))\n",
    "print('MAE:',metrics.mean_absolute_error(y_train, y_pred))\n",
    "print('MSE:',metrics.mean_squared_error(y_train, y_pred))\n",
    "print('RMSE:',np.sqrt(metrics.mean_squared_error(y_train, y_pred)))"
   ]
  },
  {
   "cell_type": "code",
   "execution_count": 17,
   "metadata": {},
   "outputs": [
    {
     "data": {
      "image/png": "[encoded data removed]",
      "text/plain": [
       "<Figure size 432x288 with 1 Axes>"
      ]
     },
     "metadata": {
      "needs_background": "light"
     },
     "output_type": "display_data"
    }
   ],
   "source": [
    "from matplotlib import pyplot as plt\n",
    "plt.scatter(y_train, y_pred)\n",
    "plt.xlabel(\"Prices\")\n",
    "plt.ylabel(\"Predicted prices\")\n",
    "plt.title(\"Prices vs Predicted prices\")\n",
    "plt.show()"
   ]
  },
  {
   "cell_type": "code",
   "execution_count": 18,
   "metadata": {},
   "outputs": [],
   "source": [
    "y_test_pred = lm.predict(X_test)"
   ]
  },
  {
   "cell_type": "code",
   "execution_count": 19,
   "metadata": {},
   "outputs": [
    {
     "name": "stdout",
     "output_type": "stream",
     "text": [
      "R^2: 0.7495400632086622\n",
      "Adjusted R^2: 0.7399636538607581\n",
      "MAE: 3.0892475382734004\n",
      "MSE: 19.45968013480259\n",
      "RMSE: 4.411312745068365\n"
     ]
    }
   ],
   "source": [
    "acc_linreg = metrics.r2_score(y_test, y_test_pred)\n",
    "print('R^2:',metrics.r2_score(y_train, y_pred))\n",
    "print('Adjusted R^2:',1 - (1-metrics.r2_score(y_train, y_pred))*(len(y_train)-1)/(len(y_train)-X_train.shape[1]-1))\n",
    "print('MAE:',metrics.mean_absolute_error(y_train, y_pred))\n",
    "print('MSE:',metrics.mean_squared_error(y_train, y_pred))\n",
    "print('RMSE:',np.sqrt(metrics.mean_squared_error(y_train, y_pred)))\n"
   ]
  },
  {
   "cell_type": "code",
   "execution_count": 20,
   "metadata": {},
   "outputs": [],
   "source": [
    "#SVM Regressor\n",
    "from sklearn.preprocessing import StandardScaler\n",
    "from sklearn import svm\n",
    "sc = StandardScaler()\n",
    "X_train = sc.fit_transform(X_train)\n",
    "X_test = sc.transform(X_test)"
   ]
  },
  {
   "cell_type": "code",
   "execution_count": 21,
   "metadata": {},
   "outputs": [],
   "source": [
    "reg = svm.SVR()"
   ]
  },
  {
   "cell_type": "code",
   "execution_count": 22,
   "metadata": {},
   "outputs": [
    {
     "data": {
      "text/plain": [
       "SVR()"
      ]
     },
     "execution_count": 22,
     "metadata": {},
     "output_type": "execute_result"
    }
   ],
   "source": [
    "reg.fit(X_train, y_train)"
   ]
  },
  {
   "cell_type": "code",
   "execution_count": 23,
   "metadata": {},
   "outputs": [],
   "source": [
    "y_pred = reg.predict(X_train)"
   ]
  },
  {
   "cell_type": "code",
   "execution_count": 24,
   "metadata": {},
   "outputs": [
    {
     "name": "stdout",
     "output_type": "stream",
     "text": [
      "R^2: 0.6620100538137379\n",
      "Adjusted R^2: 0.6490869088124984\n",
      "MAE: 2.8459607822333\n",
      "MSE: 26.260392483622446\n",
      "RMSE: 5.124489485170445\n"
     ]
    }
   ],
   "source": [
    "print('R^2:',metrics.r2_score(y_train, y_pred))\n",
    "print('Adjusted R^2:',1 - (1-metrics.r2_score(y_train, y_pred))*(len(y_train)-1)/(len(y_train)-X_train.shape[1]-1))\n",
    "print('MAE:',metrics.mean_absolute_error(y_train, y_pred))\n",
    "print('MSE:',metrics.mean_squared_error(y_train, y_pred))\n",
    "print('RMSE:',np.sqrt(metrics.mean_squared_error(y_train, y_pred)))"
   ]
  },
  {
   "cell_type": "code",
   "execution_count": 25,
   "metadata": {},
   "outputs": [
    {
     "data": {
      "image/png": "[encoded data removed]",
      "text/plain": [
       "<Figure size 432x288 with 1 Axes>"
      ]
     },
     "metadata": {
      "needs_background": "light"
     },
     "output_type": "display_data"
    }
   ],
   "source": [
    "plt.scatter(y_train, y_pred)\n",
    "plt.xlabel(\"Prices\")\n",
    "plt.ylabel(\"Predicted prices\")\n",
    "plt.title(\"Prices vs Predicted prices\")\n",
    "plt.show()"
   ]
  },
  {
   "cell_type": "code",
   "execution_count": 26,
   "metadata": {},
   "outputs": [],
   "source": [
    "y_test_pred = reg.predict(X_test)"
   ]
  },
  {
   "cell_type": "code",
   "execution_count": 27,
   "metadata": {},
   "outputs": [
    {
     "name": "stdout",
     "output_type": "stream",
     "text": [
      "R^2: 0.5688619672221285\n",
      "Adjusted R^2: 0.5282475148589956\n",
      "MAE: 3.8859918739953647\n",
      "MSE: 42.09350123961824\n",
      "RMSE: 6.487950465256207\n"
     ]
    }
   ],
   "source": [
    "acc_svm = metrics.r2_score(y_test, y_test_pred)\n",
    "print('R^2:', acc_svm)\n",
    "print('Adjusted R^2:',1 - (1-metrics.r2_score(y_test, y_test_pred))*(len(y_test)-1)/(len(y_test)-X_test.shape[1]-1))\n",
    "print('MAE:',metrics.mean_absolute_error(y_test, y_test_pred))\n",
    "print('MSE:',metrics.mean_squared_error(y_test, y_test_pred))\n",
    "print('RMSE:',np.sqrt(metrics.mean_squared_error(y_test, y_test_pred)))"
   ]
  },
  {
   "cell_type": "code",
   "execution_count": 28,
   "metadata": {},
   "outputs": [
    {
     "data": {
      "text/plain": [
       "RandomForestRegressor()"
      ]
     },
     "execution_count": 28,
     "metadata": {},
     "output_type": "execute_result"
    }
   ],
   "source": [
    "#Random Forest Regressor\n",
    "from sklearn.ensemble import RandomForestRegressor\n",
    "reg = RandomForestRegressor()\n",
    "reg.fit(X_train, y_train)"
   ]
  },
  {
   "cell_type": "code",
   "execution_count": 29,
   "metadata": {},
   "outputs": [],
   "source": [
    "y_pred = reg.predict(X_train)"
   ]
  },
  {
   "cell_type": "code",
   "execution_count": 30,
   "metadata": {},
   "outputs": [
    {
     "name": "stdout",
     "output_type": "stream",
     "text": [
      "R^2: 0.978974725817047\n",
      "Adjusted R^2: 0.9781708182747576\n",
      "MAE: 0.8225621468926546\n",
      "MSE: 1.633575076271188\n",
      "RMSE: 1.2781138745319949\n"
     ]
    }
   ],
   "source": [
    "print('R^2:',metrics.r2_score(y_train, y_pred))\n",
    "print('Adjusted R^2:',1 - (1-metrics.r2_score(y_train, y_pred))*(len(y_train)-1)/(len(y_train)-X_train.shape[1]-1))\n",
    "print('MAE:',metrics.mean_absolute_error(y_train, y_pred))\n",
    "print('MSE:',metrics.mean_squared_error(y_train, y_pred))\n",
    "print('RMSE:',np.sqrt(metrics.mean_squared_error(y_train, y_pred)))"
   ]
  },
  {
   "cell_type": "code",
   "execution_count": 31,
   "metadata": {},
   "outputs": [],
   "source": [
    "y_test_pred = reg.predict(X_test)"
   ]
  },
  {
   "cell_type": "code",
   "execution_count": 32,
   "metadata": {},
   "outputs": [
    {
     "name": "stdout",
     "output_type": "stream",
     "text": [
      "R^2: 0.880761434030988\n",
      "Adjusted R^2: 0.8695288154976754\n",
      "MAE: 2.3826381578947355\n",
      "MSE: 11.641674690789463\n",
      "RMSE: 3.411989843301041\n"
     ]
    }
   ],
   "source": [
    "acc_rf = metrics.r2_score(y_test, y_test_pred)\n",
    "print('R^2:', acc_rf)\n",
    "print('Adjusted R^2:',1 - (1-metrics.r2_score(y_test, y_test_pred))*(len(y_test)-1)/(len(y_test)-X_test.shape[1]-1))\n",
    "print('MAE:',metrics.mean_absolute_error(y_test, y_test_pred))\n",
    "print('MSE:',metrics.mean_squared_error(y_test, y_test_pred))\n",
    "print('RMSE:',np.sqrt(metrics.mean_squared_error(y_test, y_test_pred)))"
   ]
  },
  {
   "cell_type": "code",
   "execution_count": 33,
   "metadata": {},
   "outputs": [
    {
     "data": {
      "text/plain": [
       "Ridge()"
      ]
     },
     "execution_count": 33,
     "metadata": {},
     "output_type": "execute_result"
    }
   ],
   "source": [
    "#Ridge Regressor\n",
    "from sklearn.linear_model import Ridge\n",
    "reg = Ridge()\n",
    "reg.fit(X_train, y_train)"
   ]
  },
  {
   "cell_type": "code",
   "execution_count": 34,
   "metadata": {},
   "outputs": [],
   "source": [
    "y_pred = reg.predict(X_train)"
   ]
  },
  {
   "cell_type": "code",
   "execution_count": 35,
   "metadata": {},
   "outputs": [
    {
     "name": "stdout",
     "output_type": "stream",
     "text": [
      "R^2: 0.7495127040621026\n",
      "Adjusted R^2: 0.739935248629183\n",
      "MAE: 3.084011527171065\n",
      "MSE: 19.46180582503326\n",
      "RMSE: 4.411553674731076\n"
     ]
    }
   ],
   "source": [
    "print('R^2:',metrics.r2_score(y_train, y_pred))\n",
    "print('Adjusted R^2:',1 - (1-metrics.r2_score(y_train, y_pred))*(len(y_train)-1)/(len(y_train)-X_train.shape[1]-1))\n",
    "print('MAE:',metrics.mean_absolute_error(y_train, y_pred))\n",
    "print('MSE:',metrics.mean_squared_error(y_train, y_pred))\n",
    "print('RMSE:',np.sqrt(metrics.mean_squared_error(y_train, y_pred)))"
   ]
  },
  {
   "cell_type": "code",
   "execution_count": 36,
   "metadata": {},
   "outputs": [],
   "source": [
    "y_test_pred = reg.predict(X_test)"
   ]
  },
  {
   "cell_type": "code",
   "execution_count": 37,
   "metadata": {},
   "outputs": [
    {
     "name": "stdout",
     "output_type": "stream",
     "text": [
      "R^2: 0.7495127040621026\n",
      "Adjusted R^2: 0.739935248629183\n",
      "MAE: 3.084011527171065\n",
      "MSE: 19.46180582503326\n",
      "RMSE: 4.411553674731076\n"
     ]
    }
   ],
   "source": [
    "acc_ridge = metrics.r2_score(y_test, y_test_pred)\n",
    "print('R^2:',metrics.r2_score(y_train, y_pred))\n",
    "print('Adjusted R^2:',1 - (1-metrics.r2_score(y_train, y_pred))*(len(y_train)-1)/(len(y_train)-X_train.shape[1]-1))\n",
    "print('MAE:',metrics.mean_absolute_error(y_train, y_pred))\n",
    "print('MSE:',metrics.mean_squared_error(y_train, y_pred))\n",
    "print('RMSE:',np.sqrt(metrics.mean_squared_error(y_train, y_pred)))"
   ]
  },
  {
   "cell_type": "code",
   "execution_count": 39,
   "metadata": {},
   "outputs": [
    {
     "data": {
      "text/html": [
       "<div>\n",
       "<style scoped>\n",
       "    .dataframe tbody tr th:only-of-type {\n",
       "        vertical-align: middle;\n",
       "    }\n",
       "\n",
       "    .dataframe tbody tr th {\n",
       "        vertical-align: top;\n",
       "    }\n",
       "\n",
       "    .dataframe thead th {\n",
       "        text-align: right;\n",
       "    }\n",
       "</style>\n",
       "<table border=\"1\" class=\"dataframe\">\n",
       "  <thead>\n",
       "    <tr style=\"text-align: right;\">\n",
       "      <th></th>\n",
       "      <th>Model</th>\n",
       "      <th>Accuracy</th>\n",
       "    </tr>\n",
       "  </thead>\n",
       "  <tbody>\n",
       "    <tr>\n",
       "      <th>2</th>\n",
       "      <td>Random Forest</td>\n",
       "      <td>88.076143</td>\n",
       "    </tr>\n",
       "    <tr>\n",
       "      <th>3</th>\n",
       "      <td>Ridge Regression</td>\n",
       "      <td>69.985022</td>\n",
       "    </tr>\n",
       "    <tr>\n",
       "      <th>0</th>\n",
       "      <td>Linear Regression</td>\n",
       "      <td>69.962558</td>\n",
       "    </tr>\n",
       "    <tr>\n",
       "      <th>1</th>\n",
       "      <td>Support Vector Machines</td>\n",
       "      <td>56.886197</td>\n",
       "    </tr>\n",
       "  </tbody>\n",
       "</table>\n",
       "</div>"
      ],
      "text/plain": [
       "                     Model   Accuracy\n",
       "2            Random Forest  88.076143\n",
       "3         Ridge Regression  69.985022\n",
       "0        Linear Regression  69.962558\n",
       "1  Support Vector Machines  56.886197"
      ]
     },
     "execution_count": 39,
     "metadata": {},
     "output_type": "execute_result"
    }
   ],
   "source": [
    "models = pd.DataFrame({\n",
    "    'Model': ['Linear Regression', 'Support Vector Machines', 'Random Forest', 'Ridge Regression'],\n",
    "    'Accuracy': [acc_linreg*100, acc_svm*100, acc_rf*100, acc_ridge*100]})\n",
    "models.sort_values(by='Accuracy', ascending=False)"
   ]
  },
  {
   "cell_type": "code",
   "execution_count": 64,
   "metadata": {},
   "outputs": [
    {
     "data": {
      "text/plain": [
       "LinearRegression()"
      ]
     },
     "execution_count": 64,
     "metadata": {},
     "output_type": "execute_result"
    }
   ],
   "source": [
    "# instantiate, fit\n",
    "linreg = LinearRegression()\n",
    "linreg.fit(X_train, y_train)"
   ]
  },
  {
   "cell_type": "code",
   "execution_count": 65,
   "metadata": {},
   "outputs": [
    {
     "name": "stdout",
     "output_type": "stream",
     "text": [
      "21.971186440677968\n",
      "[-1.252809    1.56150248 -0.16861008  0.37449384 -1.7776332   2.23783886\n",
      "  0.3168073  -3.27712377  2.69471035 -2.10285702 -1.74689193  1.22356691\n",
      " -3.83454078]\n"
     ]
    }
   ],
   "source": [
    "print (linreg.intercept_)\n",
    "print (linreg.coef_)"
   ]
  },
  {
   "cell_type": "code",
   "execution_count": null,
   "metadata": {},
   "outputs": [],
   "source": []
  }
 ],
 "metadata": {
  "kernelspec": {
   "display_name": "Python 3",
   "language": "python",
   "name": "python3"
  },
  "language_info": {
   "codemirror_mode": {
    "name": "ipython",
    "version": 3
   },
   "file_extension": ".py",
   "mimetype": "text/x-python",
   "name": "python",
   "nbconvert_exporter": "python",
   "pygments_lexer": "ipython3",
   "version": "3.6.10"
  }
 },
 "nbformat": 4,
 "nbformat_minor": 4
}
